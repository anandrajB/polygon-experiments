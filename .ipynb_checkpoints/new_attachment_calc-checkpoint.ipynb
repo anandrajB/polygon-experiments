{
 "cells": [
  {
   "cell_type": "code",
   "execution_count": 4,
   "id": "6cf99061-07eb-4848-819a-e968b6be1bda",
   "metadata": {},
   "outputs": [],
   "source": [
    "import numpy as np\n",
    "from shapely import Polygon, Point"
   ]
  },
  {
   "cell_type": "code",
   "execution_count": null,
   "id": "22d7ed09-3ea7-42ff-93f6-f1d9bfb97755",
   "metadata": {},
   "outputs": [],
   "source": []
  },
  {
   "cell_type": "markdown",
   "id": "fab171c4-e883-43f5-ba12-3955bf766d6e",
   "metadata": {},
   "source": [
    "From the understanding, the attachment is the intersection of the rail and rafter. \n",
    "\n",
    "1. first construct the rails\n",
    "2. find the intersections of rail "
   ]
  },
  {
   "cell_type": "code",
   "execution_count": 3,
   "id": "5092037c-0cc1-4442-a9e4-29b427709e3a",
   "metadata": {},
   "outputs": [],
   "source": [
    "{\n",
    "    \"roof_pts\": [\n",
    "        {\n",
    "            \"x\": 919.5159405421109,\n",
    "            \"y\": 914.1873642106711\n",
    "        },\n",
    "        { \n",
    "            \"x\": 666.7406365581767,\n",
    "            \"y\": 752.3312407110769\n",
    "        },\n",
    "        {\n",
    "            \"x\": 610.7903716447368,\n",
    "            \"y\": 508.5479435882313\n",
    "        },\n",
    "        {\n",
    "            \"x\": 651.7539584563624,\n",
    "            \"y\": 487.5665942456913\n",
    "        },\n",
    "        {\n",
    "            \"x\": 766.6518239036053,\n",
    "            \"y\": 287.7442195548342\n",
    "        },\n",
    "        {\n",
    "            \"x\": 919.5159405421109,\n",
    "            \"y\": 914.1873642106711\n",
    "        }\n",
    "    ],\n",
    "    \"ridge_pts\": [\n",
    "        [\n",
    "            666.7406365581767,\n",
    "            752.3312407110769\n",
    "        ],\n",
    "        [\n",
    "            610.7903716447368,\n",
    "            508.5479435882313\n",
    "        ]\n",
    "    ],\n",
    "    \"eve_pts\": [\n",
    "        [\n",
    "            766.6518239036053,\n",
    "            287.7442195548342\n",
    "        ],\n",
    "        [\n",
    "            919.5159405421109,\n",
    "            914.1873642106711\n",
    "        ]\n",
    "    ],\n",
    "    \"firesetback_distance\": 20,\n",
    "    \"module_height\": 67.72,\n",
    "    \"module_width\": 44.64\n",
    "}\n",
    "\n",
    "roof = [\n",
    "        {\n",
    "            \"x\": 919.5159405421109,\n",
    "            \"y\": 914.1873642106711\n",
    "        },\n",
    "        {\n",
    "            \"x\": 666.7406365581767,\n",
    "            \"y\": 752.3312407110769\n",
    "        },\n",
    "        {\n",
    "            \"x\": 610.7903716447368,\n",
    "            \"y\": 508.5479435882313\n",
    "        },\n",
    "        {\n",
    "            \"x\": 651.7539584563624,\n",
    "            \"y\": 487.5665942456913\n",
    "        },\n",
    "        {\n",
    "            \"x\": 766.6518239036053,\n",
    "            \"y\": 287.7442195548342\n",
    "        },\n",
    "        {\n",
    "            \"x\": 919.5159405421109,\n",
    "            \"y\": 914.1873642106711\n",
    "        }\n",
    "    ]\n",
    "ridge_pts =[\n",
    "        [\n",
    "            666.7406365581767,\n",
    "            752.3312407110769\n",
    "        ],\n",
    "        [\n",
    "            610.7903716447368,\n",
    "            508.5479435882313\n",
    "        ]\n",
    "    ]\n",
    "eve_pts = [\n",
    "        [\n",
    "            766.6518239036053,\n",
    "            287.7442195548342\n",
    "        ],\n",
    "        [\n",
    "            919.5159405421109,\n",
    "            914.1873642106711\n",
    "        ]\n",
    "    ]"
   ]
  },
  {
   "cell_type": "code",
   "execution_count": 14,
   "id": "47b6caac-8230-4d26-8159-3620d391d9af",
   "metadata": {},
   "outputs": [
    {
     "data": {
      "image/svg+xml": [
       "<svg xmlns=\"http://www.w3.org/2000/svg\" xmlns:xlink=\"http://www.w3.org/1999/xlink\" width=\"300\" height=\"300\" viewBox=\"585.7326458585032 262.6864937686007 358.84102046984117 676.5585962283039\" preserveAspectRatio=\"xMinYMin meet\"><g transform=\"matrix(1,0,0,-1,0,1201.9315837655054)\"><path fill-rule=\"evenodd\" fill=\"#66cc99\" stroke=\"#555555\" stroke-width=\"4.510390641522026\" opacity=\"0.6\" d=\"M 919.5159405421109,914.1873642106711 L 666.7406365581767,752.3312407110769 L 610.7903716447368,508.5479435882313 L 651.7539584563624,487.5665942456913 L 766.6518239036053,287.7442195548342 L 919.5159405421109,914.1873642106711 z\" /></g></svg>"
      ],
      "text/plain": [
       "<POLYGON ((919.516 914.187, 666.741 752.331, 610.79 508.548, 651.754 487.567...>"
      ]
     },
     "execution_count": 14,
     "metadata": {},
     "output_type": "execute_result"
    }
   ],
   "source": [
    "roof_pts = [(pt['x'],pt['y']) for pt in roof]\n",
    "Polygon(roof_pts)"
   ]
  },
  {
   "cell_type": "code",
   "execution_count": 15,
   "id": "883280d0-4578-4054-afee-ff881cea2dec",
   "metadata": {},
   "outputs": [],
   "source": [
    "pitch = 20"
   ]
  },
  {
   "cell_type": "code",
   "execution_count": 16,
   "id": "7d475675-5033-462e-a741-6c7c553c4909",
   "metadata": {},
   "outputs": [],
   "source": [
    "import math"
   ]
  },
  {
   "cell_type": "code",
   "execution_count": 19,
   "id": "9a73e67c-61dc-41ec-9802-2352ba5664a5",
   "metadata": {},
   "outputs": [],
   "source": [
    "portrait_dist = math.cos(pitch)*22.7\n",
    "landscape_dist = math.cos(pitch)*9.8\n",
    "MODULE_HEIGHT = 67.72\n",
    "MODULE_WIDTH = 44.64"
   ]
  },
  {
   "cell_type": "code",
   "execution_count": 22,
   "id": "b43db2c6-3b64-4083-ba49-c333339cc2ae",
   "metadata": {},
   "outputs": [
    {
     "data": {
      "text/plain": [
       "np.float64(18.216783239349816)"
      ]
     },
     "execution_count": 22,
     "metadata": {},
     "output_type": "execute_result"
    }
   ],
   "source": [
    "np.cos(pitch)*MODULE_WIDTH"
   ]
  }
 ],
 "metadata": {
  "kernelspec": {
   "display_name": "Python 3 (ipykernel)",
   "language": "python",
   "name": "python3"
  },
  "language_info": {
   "codemirror_mode": {
    "name": "ipython",
    "version": 3
   },
   "file_extension": ".py",
   "mimetype": "text/x-python",
   "name": "python",
   "nbconvert_exporter": "python",
   "pygments_lexer": "ipython3",
   "version": "3.12.8"
  }
 },
 "nbformat": 4,
 "nbformat_minor": 5
}
