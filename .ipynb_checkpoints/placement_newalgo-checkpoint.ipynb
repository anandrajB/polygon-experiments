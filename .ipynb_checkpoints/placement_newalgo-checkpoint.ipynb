{
 "cells": [
  {
   "cell_type": "markdown",
   "id": "fab880d1-e89e-493e-a36c-926b5a6df136",
   "metadata": {},
   "source": [
    "## MODULE PLACEMENT NEW ALGORITHM :: WORKING ::"
   ]
  },
  {
   "cell_type": "code",
   "execution_count": 1,
   "id": "dbff1029-4687-4394-bf25-ba4070abf6a2",
   "metadata": {},
   "outputs": [],
   "source": [
    "from shapely.geometry import Polygon\n",
    "from matplotlib import pyplot as plt\n",
    "import numpy as np\n",
    "import shapely\n",
    "from shapely.prepared import prep"
   ]
  },
  {
   "cell_type": "code",
   "execution_count": 2,
   "id": "6cd38316-5528-4059-b0b7-5bf35b006e5d",
   "metadata": {},
   "outputs": [],
   "source": [
    "from functions import extract_x_y"
   ]
  },
  {
   "cell_type": "code",
   "execution_count": 3,
   "id": "f007943b-7d51-4a6e-9b46-e46e21db2a50",
   "metadata": {},
   "outputs": [],
   "source": [
    "## CONSTANTS\n",
    "MODULE_HEIGHT = 67.72\n",
    "MODULE_WIDTH = 44.64"
   ]
  },
  {
   "cell_type": "code",
   "execution_count": 4,
   "id": "186f019f-a00d-48ac-a714-a2f60d007ad8",
   "metadata": {},
   "outputs": [],
   "source": [
    "{\n",
    "    \"roof_pts\": [\n",
    "        {\n",
    "            \"x\": 919.5159405421109,\n",
    "            \"y\": 914.1873642106711\n",
    "        },\n",
    "        { \n",
    "            \"x\": 666.7406365581767,\n",
    "            \"y\": 752.3312407110769\n",
    "        },\n",
    "        {\n",
    "            \"x\": 610.7903716447368,\n",
    "            \"y\": 508.5479435882313\n",
    "        },\n",
    "        {\n",
    "            \"x\": 651.7539584563624,\n",
    "            \"y\": 487.5665942456913\n",
    "        },\n",
    "        {\n",
    "            \"x\": 766.6518239036053,\n",
    "            \"y\": 287.7442195548342\n",
    "        },\n",
    "        {\n",
    "            \"x\": 919.5159405421109,\n",
    "            \"y\": 914.1873642106711\n",
    "        }\n",
    "    ],\n",
    "    \"ridge_pts\": [\n",
    "        [\n",
    "            666.7406365581767,\n",
    "            752.3312407110769\n",
    "        ],\n",
    "        [\n",
    "            610.7903716447368,\n",
    "            508.5479435882313\n",
    "        ]\n",
    "    ],\n",
    "    \"eve_pts\": [\n",
    "        [\n",
    "            766.6518239036053,\n",
    "            287.7442195548342\n",
    "        ],\n",
    "        [\n",
    "            919.5159405421109,\n",
    "            914.1873642106711\n",
    "        ]\n",
    "    ],\n",
    "    \"firesetback_distance\": 20,\n",
    "    \"module_height\": 67.72,\n",
    "    \"module_width\": 44.64\n",
    "}\n",
    "\n",
    "roof = [\n",
    "        {\n",
    "            \"x\": 919.5159405421109,\n",
    "            \"y\": 914.1873642106711\n",
    "        },\n",
    "        {\n",
    "            \"x\": 666.7406365581767,\n",
    "            \"y\": 752.3312407110769\n",
    "        },\n",
    "        {\n",
    "            \"x\": 610.7903716447368,\n",
    "            \"y\": 508.5479435882313\n",
    "        },\n",
    "        {\n",
    "            \"x\": 651.7539584563624,\n",
    "            \"y\": 487.5665942456913\n",
    "        },\n",
    "        {\n",
    "            \"x\": 766.6518239036053,\n",
    "            \"y\": 287.7442195548342\n",
    "        },\n",
    "        {\n",
    "            \"x\": 919.5159405421109,\n",
    "            \"y\": 914.1873642106711\n",
    "        }\n",
    "    ]\n",
    "# roof = [\n",
    "#         {\n",
    "#             \"x\": 886.4090606262491,\n",
    "#             \"y\": 596.6022651565622\n",
    "#         },\n",
    "#         {\n",
    "#             \"x\": 422.71818787475013,\n",
    "#             \"y\": 647.5682878081279\n",
    "#         },\n",
    "#         {\n",
    "#             \"x\": 445.7028647568288,\n",
    "#             \"y\": 867.4217188540972\n",
    "#         },\n",
    "#         {\n",
    "#             \"x\": 807.4616922051965,\n",
    "#             \"y\": 823.4510326449034\n",
    "#         },\n",
    "#         {\n",
    "#             \"x\": 798.4676882078614,\n",
    "#             \"y\": 710.5263157894736\n",
    "#         },\n",
    "#         {\n",
    "#             \"x\": 875.4163890739507,\n",
    "#             \"y\": 697.5349766822118\n",
    "#         },\n",
    "#         {\n",
    "#             \"x\": 886.4090606262491,\n",
    "#             \"y\": 596.6022651565622\n",
    "#         }\n",
    "#     ]\n",
    "\n",
    "# ridge_pts = [\n",
    "#         [\n",
    "#             886.4090606262491,\n",
    "#             596.6022651565622\n",
    "#         ],\n",
    "#         [\n",
    "#             422.71818787475013,\n",
    "#             647.5682878081279\n",
    "#         ]\n",
    "# ]\n",
    "ridge_pts =[\n",
    "        [\n",
    "            666.7406365581767,\n",
    "            752.3312407110769\n",
    "        ],\n",
    "        [\n",
    "            610.7903716447368,\n",
    "            508.5479435882313\n",
    "        ]\n",
    "    ]\n",
    "eve_pts = [\n",
    "        [\n",
    "            766.6518239036053,\n",
    "            287.7442195548342\n",
    "        ],\n",
    "        [\n",
    "            919.5159405421109,\n",
    "            914.1873642106711\n",
    "        ]\n",
    "    ]"
   ]
  },
  {
   "cell_type": "code",
   "execution_count": 5,
   "id": "f5ef43db-f827-4ee1-aa0d-c3cea6c0ed0d",
   "metadata": {},
   "outputs": [],
   "source": [
    "def calc_ratio(short_distance, len_of_line):\n",
    "    return short_distance / len_of_line"
   ]
  },
  {
   "cell_type": "code",
   "execution_count": 6,
   "id": "5b1db959-4236-45ac-9e76-a2f54edd5785",
   "metadata": {},
   "outputs": [],
   "source": [
    "def calc_distance_bwn_2_pts(line_pts: list) -> int:\n",
    "    \"\"\"Takes input of points [[x1,y1], [x2,y2] ]\"\"\"\n",
    "    dist = ( (line_pts[1][0] - line_pts[0][0])**2 + (line_pts[1][1] - line_pts[0][1])**2 )**0.5\n",
    "    return dist"
   ]
  },
  {
   "cell_type": "code",
   "execution_count": 7,
   "id": "3a175ecd-0cc7-4ed7-9fc8-fabf33076f0f",
   "metadata": {},
   "outputs": [],
   "source": [
    "# get firesetback at given distance\n",
    "def get_firesetback(roof_polygon, distance):\n",
    "    return roof_polygon.buffer(-distance, cap_style='flat', join_style='mitre')"
   ]
  },
  {
   "cell_type": "code",
   "execution_count": 8,
   "id": "bedbf143-4e97-427e-b1cb-b45e28ac6190",
   "metadata": {},
   "outputs": [],
   "source": [
    "def identify_side_on_firesetback(firesetback, ridge_pts, firesetback_dist, match_key):\n",
    "    \"\"\"\n",
    "    firesetback: shapely.Polygon\n",
    "    ridge_pts: [ [x1,y1], [x2,y2] ]\n",
    "    firesetback_dist: int\n",
    "    match_key: str\n",
    "\n",
    "    given firesetback polygon, a ridge line, firesetback distance, match key\n",
    "    this will create a new list of points with match to the \n",
    "    \"\"\"\n",
    "    adjusted_firesetback = firesetback.buffer(firesetback_dist, cap_style='flat', join_style='mitre')\n",
    "    adj_firesetback_pts = adjusted_firesetback.boundary.coords.xy\n",
    "    ridge_arr = np.around(np.array(ridge_pts), decimals=3)\n",
    "\n",
    "    firesetback_pts = firesetback.boundary.coords.xy\n",
    "\n",
    "    fsb_lines = []\n",
    "\n",
    "    for point in range(len(adj_firesetback_pts[0]) - 1):\n",
    "        start = [adj_firesetback_pts[0][point], adj_firesetback_pts[1][point]]\n",
    "        end = [adj_firesetback_pts[0][point+1], adj_firesetback_pts[1][point + 1]]\n",
    "\n",
    "        act_line_start = [firesetback_pts[0][point], firesetback_pts[1][point]]\n",
    "        act_line_end = [firesetback_pts[0][point+1], firesetback_pts[1][point + 1]]\n",
    "\n",
    "        line = np.around(np.array([start, end]), decimals=3)\n",
    "        reverse_line = np.around(np.array([end, start]), decimals=3)\n",
    "\n",
    "        act_line = np.array([act_line_start, act_line_end])\n",
    "        act_reverse_line = np.array([act_line_end, act_line_start])\n",
    "\n",
    "        \n",
    "\n",
    "        match = np.array_equal(ridge_arr, line)\n",
    "\n",
    "        if match:\n",
    "\n",
    "            line_obj = {\n",
    "                \"id\": point,\n",
    "                \"coords\": act_line,\n",
    "                match_key: match\n",
    "            }\n",
    "        else:\n",
    "            match =  np.array_equal(ridge_arr, reverse_line)\n",
    "            line_obj = {\n",
    "                \"id\": point,\n",
    "                \"coords\": act_reverse_line,\n",
    "                match_key: match\n",
    "            }\n",
    "        fsb_lines.append(line_obj)\n",
    "    return fsb_lines\n",
    "\n"
   ]
  },
  {
   "cell_type": "code",
   "execution_count": 9,
   "id": "d3e6ff30-0116-47fc-9363-02214af3223a",
   "metadata": {},
   "outputs": [],
   "source": [
    "def check_point_bwn_AB(point, line, tolerence=0.0000001):\n",
    "    A = line[0]\n",
    "    B = line[1]\n",
    "    AC = calc_distance_bwn_2_pts([A, point])\n",
    "    BC = calc_distance_bwn_2_pts([B, point])\n",
    "    AB = calc_distance_bwn_2_pts(line)\n",
    "\n",
    "    status = (AB <= AC+BC+tolerence) & (AB >= (AC+BC)-tolerence)\n",
    "    return status"
   ]
  },
  {
   "cell_type": "code",
   "execution_count": 10,
   "id": "ced04fdf-4f67-458f-a860-eb2d9e0014fb",
   "metadata": {},
   "outputs": [],
   "source": [
    "\n",
    "def calc_poi(line_1, line_2):\n",
    "    line_1 = np.array(line_1)\n",
    "    line_2_x, line_2_y = extract_x_y(line_2)\n",
    "\n",
    "    line_2 = np.array(line_2)\n",
    "    line_1_x, line_1_y = extract_x_y(line_1)\n",
    "\n",
    "    line_2_dx = line_2_x[1] - line_2_x[0]\n",
    "    line_2_dy = line_2_y[1] - line_2_y[0]\n",
    "\n",
    "    line_1_dx = line_1_x[1] - line_1_x[0]\n",
    "    line_1_dy = line_1_y[1] - line_1_y[0]\n",
    "\n",
    "    line_2_slope = line_2_dy / line_2_dx\n",
    "    line_1_slope = line_1_dy / line_1_dx\n",
    "\n",
    "    line_1_c = line_1_y[0] - (line_1_slope * line_1_x[0])\n",
    "    line_2_c = line_2_y[0] - (line_2_slope * line_2_x[0])\n",
    "\n",
    "    x = (line_1_c - line_2_c) / (line_2_slope - line_1_slope)\n",
    "    y = (line_2_slope*x) + line_2_c\n",
    "\n",
    "    return x, y\n"
   ]
  },
  {
   "cell_type": "code",
   "execution_count": 11,
   "id": "f340d384-e58c-4f17-b822-e202137c07e1",
   "metadata": {},
   "outputs": [],
   "source": [
    "\n",
    "def calc_perpendicular(main_line_pts, rafter_pt, D):\n",
    "    # def calc_perpendicular(x1, y1, x2, y2, Px1, Py1, D):\n",
    "    x1, y1 = main_line_pts[0][0], main_line_pts[0][1]\n",
    "    x2, y2 = main_line_pts[1][0], main_line_pts[1][1]\n",
    "    Px1, Py1 = rafter_pt[0], rafter_pt[1]\n",
    "\n",
    "    ABx = x2 - x1\n",
    "    ABy = y2 - y1\n",
    "\n",
    "    # Normalize the direction vector\n",
    "    length_AB = (ABx**2 + ABy**2)**0.5\n",
    "    ux = ABx / length_AB\n",
    "    uy = ABy / length_AB\n",
    "\n",
    "    # Perpendicular vector\n",
    "    vx = -uy\n",
    "    vy = ux\n",
    "\n",
    "    # Calculate the coordinates of point Q at distance D from P\n",
    "    Qx1 = Px1 + D * vx\n",
    "    Qy1 = Py1 + D * vy\n",
    "\n",
    "    return Qx1, Qy1\n"
   ]
  },
  {
   "cell_type": "code",
   "execution_count": 12,
   "id": "d589a8ae-f592-4f5b-bf5a-cb5c80b2dd51",
   "metadata": {},
   "outputs": [],
   "source": [
    "\n",
    "def calculate_parallel_line(line, distance):\n",
    "    line = np.array(line)\n",
    "    x1, y1 = line[0]\n",
    "    x2, y2 = line[1]\n",
    "\n",
    "    dx = x2 - x1\n",
    "    dy = y2 - y1\n",
    "\n",
    "    length = (dx**2 + dy**2)**0.5\n",
    "\n",
    "    ux = dx / length\n",
    "    uy = dy / length\n",
    "\n",
    "    vx = -uy\n",
    "    vy = ux\n",
    "\n",
    "    x3 = x1 + distance * vx\n",
    "    y3 = y1 + distance * vy\n",
    "\n",
    "    x4 = x2 + distance * vx\n",
    "    y4 = y2 + distance * vy\n",
    "\n",
    "    return [x3, y3], [x4, y4]"
   ]
  },
  {
   "cell_type": "code",
   "execution_count": 13,
   "id": "f779fdbd-346d-46df-a044-fb4d7e5b523f",
   "metadata": {},
   "outputs": [],
   "source": [
    "def calc_projection(lengthy_line_pts, smaller_line_pts) -> tuple:\n",
    "    \"\"\"calculates the Perpendicular projection points of lengthhy line\n",
    "    on smaller lines\n",
    "    returns: ([x1,y1], [x2,y2])\"\"\"\n",
    "\n",
    "    eve_x, eve_y = extract_x_y(lengthy_line_pts)\n",
    "\n",
    "    eve_start = calc_perpendicular(lengthy_line_pts, [eve_x[0], eve_y[0]], 3)\n",
    "    eve_end = calc_perpendicular(lengthy_line_pts, [eve_x[1], eve_y[1]], 3)\n",
    "\n",
    "    eve_start_proj = calc_poi([lengthy_line_pts[0], eve_start], smaller_line_pts)\n",
    "    eve_end_proj = calc_poi([lengthy_line_pts[1], eve_end], smaller_line_pts)\n",
    "\n",
    "    return eve_start_proj, eve_end_proj\n"
   ]
  },
  {
   "cell_type": "code",
   "execution_count": 14,
   "id": "0f037fff-510b-4125-8f95-350cac74ed7b",
   "metadata": {},
   "outputs": [],
   "source": [
    "def get_points_at_eq_distance(st_line_pts, distance_bwn_pts_px):\n",
    "    \"\"\"Takes input of points [[x1,y1], [x2,y2] ]\"\"\"\n",
    "    POINTS = []\n",
    "\n",
    "    len_of_ridge = calc_distance_bwn_2_pts(st_line_pts)\n",
    "    no_of_points = int(len_of_ridge // distance_bwn_pts_px)\n",
    "    initial_distance = distance_bwn_pts_px\n",
    "\n",
    "    for i in range(no_of_points):\n",
    "        ratio_i = calc_ratio(initial_distance, len_of_ridge)\n",
    "        u = st_line_pts[0][0] + ratio_i * (st_line_pts[1][0] - st_line_pts[0][0])\n",
    "        v = st_line_pts[0][1] + ratio_i * (st_line_pts[1][1] - st_line_pts[0][1])\n",
    "        initial_distance += distance_bwn_pts_px\n",
    "        POINTS.append((u, v))\n",
    "\n",
    "    return {\"points\": POINTS, \"count\": no_of_points}"
   ]
  },
  {
   "cell_type": "markdown",
   "id": "ac7c4af4-8d6d-484c-889f-e73245b30f0a",
   "metadata": {},
   "source": [
    "### algorithm\n",
    "\n",
    "\n",
    "1. first we draw the fire setback\n",
    "2. then we identify which side of the firesetback is ridge and eve\n",
    "3. check weather the ridge_len  > eve_len or eve_len > ridge\n",
    "4. if ridge>eve:\n",
    "        extend the eve to match the ridge\n",
    "5. if eve> ridge:\n",
    "        extend the ridge to match the eve\n",
    "6. "
   ]
  },
  {
   "cell_type": "code",
   "execution_count": 15,
   "id": "d3ef7795-b9cc-4ca9-ae5c-ab1e71fbc74e",
   "metadata": {},
   "outputs": [
    {
     "data": {
      "image/svg+xml": [
       "<svg xmlns=\"http://www.w3.org/2000/svg\" xmlns:xlink=\"http://www.w3.org/1999/xlink\" width=\"300\" height=\"300\" viewBox=\"585.7326458585032 262.6864937686007 358.84102046984117 676.5585962283039\" preserveAspectRatio=\"xMinYMin meet\"><g transform=\"matrix(1,0,0,-1,0,1201.9315837655054)\"><path fill-rule=\"evenodd\" fill=\"#66cc99\" stroke=\"#555555\" stroke-width=\"4.510390641522026\" opacity=\"0.6\" d=\"M 919.5159405421109,914.1873642106711 L 666.7406365581767,752.3312407110769 L 610.7903716447368,508.5479435882313 L 651.7539584563624,487.5665942456913 L 766.6518239036053,287.7442195548342 L 919.5159405421109,914.1873642106711 z\" /></g></svg>"
      ],
      "text/plain": [
       "<POLYGON ((919.516 914.187, 666.741 752.331, 610.79 508.548, 651.754 487.567...>"
      ]
     },
     "execution_count": 15,
     "metadata": {},
     "output_type": "execute_result"
    }
   ],
   "source": [
    "roof_pts = [(p['x'], p['y']) for p in roof]\n",
    "roof_polygon = shapely.Polygon(roof_pts)\n",
    "roof_polygon"
   ]
  },
  {
   "cell_type": "code",
   "execution_count": 16,
   "id": "beee2c16-ff35-454b-855f-f0254c080e07",
   "metadata": {},
   "outputs": [
    {
     "data": {
      "image/svg+xml": [
       "<svg xmlns=\"http://www.w3.org/2000/svg\" xmlns:xlink=\"http://www.w3.org/1999/xlink\" width=\"296.8312718280006\" height=\"300\" viewBox=\"612.5919039756448 319.87394394898547 296.8312718280006 571.7183502432492\" preserveAspectRatio=\"xMinYMin meet\"><g transform=\"matrix(1,0,0,-1,0,1211.4662381412202)\"><path fill-rule=\"evenodd\" fill=\"#66cc99\" stroke=\"#555555\" stroke-width=\"3.8114556682883283\" opacity=\"0.6\" d=\"M 888.2484220909324,870.4175404795218 L 759.072292982277,341.0486976616984 L 666.1409190270084,502.6684784534697 L 633.7666576883577,519.2504171879007 L 684.4061798329747,739.8940493894461 L 888.2484220909324,870.4175404795218 z\" /></g></svg>"
      ],
      "text/plain": [
       "<POLYGON ((888.248 870.418, 759.072 341.049, 666.141 502.668, 633.767 519.25...>"
      ]
     },
     "execution_count": 16,
     "metadata": {},
     "output_type": "execute_result"
    }
   ],
   "source": [
    "firesetback = get_firesetback(roof_polygon, 20)\n",
    "firesetback"
   ]
  },
  {
   "cell_type": "code",
   "execution_count": 17,
   "id": "a3272238-7d23-48e5-bfa9-b50d9eacf879",
   "metadata": {},
   "outputs": [],
   "source": [
    "ridge_identified_fsb = identify_side_on_firesetback(firesetback, ridge_pts, 20, \"ridge\")"
   ]
  },
  {
   "cell_type": "code",
   "execution_count": 18,
   "id": "83b25e69-2ebd-4e95-8e9d-f7b31122b784",
   "metadata": {},
   "outputs": [],
   "source": [
    "eve_identified_fsb = identify_side_on_firesetback(firesetback, eve_pts, 20, \"eave\")"
   ]
  },
  {
   "cell_type": "code",
   "execution_count": 19,
   "id": "e4a992ab-d3ea-4377-9572-e252580abee8",
   "metadata": {},
   "outputs": [
    {
     "data": {
      "text/plain": [
       "array([[684.40617983, 739.89404939],\n",
       "       [633.76665769, 519.25041719]])"
      ]
     },
     "execution_count": 19,
     "metadata": {},
     "output_type": "execute_result"
    }
   ],
   "source": [
    "ridge_fsb = filter(lambda x: x['ridge']==True, ridge_identified_fsb)\n",
    "ridge_fsb_side = list(ridge_fsb)[0]['coords']\n",
    "ridge_fsb_side"
   ]
  },
  {
   "cell_type": "code",
   "execution_count": 20,
   "id": "183457a5-7072-4ff4-b5b4-9cd48c70a490",
   "metadata": {},
   "outputs": [
    {
     "data": {
      "text/plain": [
       "array([[759.07229298, 341.04869766],\n",
       "       [888.24842209, 870.41754048]])"
      ]
     },
     "execution_count": 20,
     "metadata": {},
     "output_type": "execute_result"
    }
   ],
   "source": [
    "eave_fsb = filter(lambda x: x['eave']==True, eve_identified_fsb)\n",
    "eave_fsb_side = list(eave_fsb)[0]['coords']\n",
    "eave_fsb_side"
   ]
  },
  {
   "cell_type": "code",
   "execution_count": 21,
   "id": "b0fd3064-0afa-4be0-a5fb-bab5a1f379f4",
   "metadata": {},
   "outputs": [],
   "source": [
    "ridge_len = calc_distance_bwn_2_pts(ridge_fsb_side)\n",
    "eave_len = calc_distance_bwn_2_pts(eave_fsb_side)"
   ]
  },
  {
   "cell_type": "code",
   "execution_count": 22,
   "id": "90fdc36c-1e12-458a-bad9-7ce8be820f59",
   "metadata": {},
   "outputs": [],
   "source": [
    "# if len of ridge_len > eave_len:\n",
    "    # set the line of extensions as eave_len\n",
    "extended_line_type = ''\n",
    "l1 = []\n",
    "l2 = []\n",
    "if ridge_len > eave_len:\n",
    "    extended_line_type = \"eave\"\n",
    "    extended_line = calc_projection(ridge_fsb_side, eave_fsb_side)\n",
    "    l1_points = np.array([ridge_fsb_side[0], extended_line[0]])\n",
    "    l2_points = np.array([ridge_fsb_side[1], extended_line[1]])\n",
    "    l1.extend(l1_points)\n",
    "    l2.extend(l2_points)\n",
    "    \n",
    "else:\n",
    "    extended_line_type = \"ridge\"\n",
    "    extended_line = calc_projection(eave_fsb_side, ridge_fsb_side)\n",
    "    l1_points = np.array([eave_fsb_side[0], extended_line[0]])\n",
    "    l2_points = np.array([eave_fsb_side[1], extended_line[1]])\n",
    "    l1.extend(l1_points)\n",
    "    l2.extend(l2_points)"
   ]
  },
  {
   "cell_type": "code",
   "execution_count": null,
   "id": "ef8adcd2-8c64-41b9-b2a4-3bcae6ad4ce5",
   "metadata": {},
   "outputs": [],
   "source": []
  },
  {
   "cell_type": "markdown",
   "id": "d035f0fa-bc3c-4d6e-baf5-b0309b873b1c",
   "metadata": {},
   "source": [
    "by this time we will be aware of which side of line is extended either **Ridge** or **Eave** \\\n",
    "Now we need to take the edge points of the extended line and other one and then find the distance on each other side.  "
   ]
  },
  {
   "cell_type": "code",
   "execution_count": 23,
   "id": "d6100126-bee9-4ec7-812c-09959d3fcccc",
   "metadata": {},
   "outputs": [],
   "source": [
    "l1_rows = get_points_at_eq_distance(l1, MODULE_HEIGHT)"
   ]
  },
  {
   "cell_type": "code",
   "execution_count": 24,
   "id": "f5a37103-4856-4254-8a45-3926273edab3",
   "metadata": {},
   "outputs": [],
   "source": [
    "l2_rows = get_points_at_eq_distance(l2, MODULE_HEIGHT)"
   ]
  },
  {
   "cell_type": "markdown",
   "id": "10b062fc-1e52-40b2-b138-16fe8801cada",
   "metadata": {},
   "source": [
    "---\n",
    "By this time we know, the number of rows that can fit in the fireset back, we need to draw the parallel lines between line1 and line2\n",
    "\n",
    "**Problems** \\\n",
    "Parallel line can be any side of the roof. we need to validate this by checking the poi with l1 or l2 and poi should be within l1 and l2\n"
   ]
  },
  {
   "cell_type": "code",
   "execution_count": 25,
   "id": "2f319573-f870-4f6f-884c-92f1a037a768",
   "metadata": {},
   "outputs": [
    {
     "data": {
      "text/plain": [
       "2"
      ]
     },
     "execution_count": 25,
     "metadata": {},
     "output_type": "execute_result"
    }
   ],
   "source": [
    "no_of_rows = l1_rows['count'] if l1_rows['count'] > l2_rows['count'] else l2_rows['count']\n",
    "no_of_rows"
   ]
  },
  {
   "cell_type": "code",
   "execution_count": 26,
   "id": "4baa6ee0-4543-41b5-ad47-f07d383d8012",
   "metadata": {},
   "outputs": [],
   "source": [
    "fsb_prep = prep(firesetback)\n",
    "parallel_lines = []\n",
    "POINTS = []\n",
    "initial_dist = MODULE_HEIGHT\n",
    "rp = get_points_at_eq_distance(ridge_fsb_side, MODULE_WIDTH)\n",
    "POINTS.append(rp['points'])\n",
    "\n",
    "for i in range(no_of_rows):\n",
    "    line = calculate_parallel_line(ridge_fsb_side, initial_dist)\n",
    "    poi = calc_poi(l1, line)\n",
    "    if check_point_bwn_AB(poi, l1): \n",
    "        parallel_lines.append(line)\n",
    "        splits = get_points_at_eq_distance(line, MODULE_WIDTH)\n",
    "        \n",
    "        pts = [p for p in splits['points'] if fsb_prep.contains(shapely.Point(p)) ]\n",
    "        POINTS.append(pts)\n",
    "        \n",
    "        # POINTS.extend(splits['points'])\n",
    "    else:\n",
    "        line = calculate_parallel_line(ridge_fsb_side, -initial_dist)\n",
    "        parallel_lines.append(line)\n",
    "        point = get_points_at_eq_distance(line, MODULE_WIDTH)\n",
    "        splits = get_points_at_eq_distance(line, MODULE_WIDTH)\n",
    "\n",
    "        pts = [p for p in splits['points'] if fsb_prep.contains(shapely.Point(p)) ]\n",
    "        POINTS.append(pts)\n",
    "        \n",
    "        # POINTS.append(splits['points'])\n",
    "    initial_dist += MODULE_HEIGHT\n",
    "    \n",
    "    "
   ]
  },
  {
   "cell_type": "code",
   "execution_count": 27,
   "id": "ce00f93c-e785-4e7f-8e4e-5b8459fd9895",
   "metadata": {},
   "outputs": [
    {
     "data": {
      "text/plain": [
       "[[(np.float64(674.4205506184838), np.float64(696.3852363834503)),\n",
       "  (np.float64(664.434921403993), np.float64(652.8764233774546)),\n",
       "  (np.float64(654.4492921895021), np.float64(609.3676103714588)),\n",
       "  (np.float64(644.4636629750113), np.float64(565.858797365463)),\n",
       "  (np.float64(634.4780337605205), np.float64(522.3499843594673))],\n",
       " [(np.float64(740.4245115675437), np.float64(681.2367863295677)),\n",
       "  (np.float64(730.4388823530529), np.float64(637.727973323572)),\n",
       "  (np.float64(720.453253138562), np.float64(594.2191603175761)),\n",
       "  (np.float64(710.4676239240712), np.float64(550.7103473115804)),\n",
       "  (np.float64(700.4819947095804), np.float64(507.20153430558463))],\n",
       " [(np.float64(806.4284725166036), np.float64(666.0883362756852)),\n",
       "  (np.float64(796.4428433021128), np.float64(622.5795232696894)),\n",
       "  (np.float64(786.4572140876219), np.float64(579.0707102636936)),\n",
       "  (np.float64(776.4715848731311), np.float64(535.5618972576978)),\n",
       "  (np.float64(766.4859556586403), np.float64(492.053084251702))]]"
      ]
     },
     "execution_count": 27,
     "metadata": {},
     "output_type": "execute_result"
    }
   ],
   "source": [
    "POINTS"
   ]
  },
  {
   "cell_type": "code",
   "execution_count": 28,
   "id": "a8edd59b-93b8-4c71-b951-b08bcc436c7a",
   "metadata": {},
   "outputs": [
    {
     "data": {
      "text/plain": [
       "[([np.float64(750.4101407820345), np.float64(724.7455993355635)],\n",
       "  [np.float64(699.7706186374176), np.float64(504.1019671340181)]),\n",
       " ([np.float64(816.4141017310944), np.float64(709.5971492816809)],\n",
       "  [np.float64(765.7745795864774), np.float64(488.95351708013544)])]"
      ]
     },
     "execution_count": 28,
     "metadata": {},
     "output_type": "execute_result"
    }
   ],
   "source": [
    "parallel_lines"
   ]
  },
  {
   "cell_type": "markdown",
   "id": "a4bf3065-20dd-4b08-ba63-23c3a752b8d2",
   "metadata": {},
   "source": [
    "\n"
   ]
  },
  {
   "cell_type": "code",
   "execution_count": 29,
   "id": "f36d3b6c-2ff7-44c0-8acb-042033789e7c",
   "metadata": {},
   "outputs": [],
   "source": [
    "# # preparing polygon for checking\n",
    "# fsb_prep = prep(firesetback)\n",
    "\n",
    "# prep_points = []\n",
    "# prep_points.append(rp['points'])\n",
    "# for row in POINTS[1:]:\n",
    "#     row_pt = []\n",
    "#     for pt in row:\n",
    "#         p = shapely.Point(pt)\n",
    "#         status = fsb_prep.contains(p)\n",
    "#         if status:\n",
    "#             row_pt.append(pt)\n",
    "#     prep_points.append(row_pt)\n",
    "\n",
    "# # rp = get_points_at_eq_distance(ridge_fsb_side, MODULE_WIDTH)\n",
    "\n",
    "# # POINTS.append(rp['points'])\n",
    "# # prep_points.append(rp['points'])"
   ]
  },
  {
   "cell_type": "code",
   "execution_count": 30,
   "id": "22e760df-74b7-4795-bdab-207c5148bdc5",
   "metadata": {},
   "outputs": [],
   "source": [
    "# prep_points"
   ]
  },
  {
   "cell_type": "code",
   "execution_count": 31,
   "id": "84f440a7-b0f2-44bf-9071-f94311aafc6d",
   "metadata": {},
   "outputs": [
    {
     "data": {
      "text/plain": [
       "array([[[684.40617983, 739.89404939],\n",
       "        [633.76665769, 519.25041719]],\n",
       "\n",
       "       [[750.41014078, 724.74559934],\n",
       "        [699.77061864, 504.10196713]],\n",
       "\n",
       "       [[816.41410173, 709.59714928],\n",
       "        [765.77457959, 488.95351708]]])"
      ]
     },
     "execution_count": 31,
     "metadata": {},
     "output_type": "execute_result"
    }
   ],
   "source": [
    "temp_parallel_lines = [ridge_fsb_side]\n",
    "temp_parallel_lines.extend(parallel_lines)\n",
    "temp_parallel_lines = np.array(temp_parallel_lines)\n",
    "temp_parallel_lines"
   ]
  },
  {
   "cell_type": "markdown",
   "id": "ae6fbb52-2cc4-4906-becc-c6b86a40908a",
   "metadata": {},
   "source": [
    "now we have two cases \\\n",
    "1. When the curr line is bigger than the prev line\n",
    "2. when the prev line is bigger than the current line\n",
    "\n",
    "calculation will be depend on the above cases. \\\n",
    "if case 1 then, we need to calculate the curr line pts agian \n"
   ]
  },
  {
   "cell_type": "code",
   "execution_count": 32,
   "id": "95202f2d-924e-4ed2-b654-df376813a6b8",
   "metadata": {},
   "outputs": [],
   "source": [
    "corrected_rows = []\n",
    "\n",
    "for line_idx in range(1, len(temp_parallel_lines)):\n",
    "    curr_line_pts = POINTS[line_idx]\n",
    "    prev_line_pts =  POINTS[line_idx - 1]\n",
    "\n",
    "    curr_line = temp_parallel_lines[line_idx]\n",
    "    prev_line = temp_parallel_lines[line_idx - 1]\n",
    "\n",
    "    set_no_of_pts, bigger_line, smaller_line = (len(curr_line_pts), prev_line_pts, curr_line_pts) \\\n",
    "                                if len(curr_line_pts) <= len(prev_line_pts) \\\n",
    "                                else (len(prev_line_pts), curr_line_pts, prev_line_pts)\n",
    "   \n",
    "    \n",
    "    new_line1_pts = []\n",
    "    new_line2_pts = []\n",
    "    for i in range(set_no_of_pts):\n",
    "        curr_pt = smaller_line[i]\n",
    "        # line passing through the curr_pt and perpendicular to curr line\n",
    "        perp_pt = calc_perpendicular(smaller_line, curr_pt, 5)\n",
    "        perp_line = [perp_pt, curr_pt]\n",
    "        # print(perp_line, \"\\n---\\n\\n\", bigger_line)\n",
    "        new_pt = calc_poi(bigger_line, perp_line)\n",
    "\n",
    "        new_line1_pts.append(curr_pt)\n",
    "        new_line2_pts.append(new_pt)\n",
    "    corrected_rows.append([new_line1_pts, new_line2_pts])\n",
    "    "
   ]
  },
  {
   "cell_type": "code",
   "execution_count": 33,
   "id": "82092af8-1fc8-4e03-9d36-0dbedb5ff4d6",
   "metadata": {},
   "outputs": [
    {
     "data": {
      "text/plain": [
       "[[[(np.float64(740.4245115675437), np.float64(681.2367863295677)),\n",
       "   (np.float64(730.4388823530529), np.float64(637.727973323572)),\n",
       "   (np.float64(720.453253138562), np.float64(594.2191603175761)),\n",
       "   (np.float64(710.4676239240712), np.float64(550.7103473115804)),\n",
       "   (np.float64(700.4819947095804), np.float64(507.20153430558463))],\n",
       "  [(np.float64(674.4205506184838), np.float64(696.3852363834501)),\n",
       "   (np.float64(664.434921403993), np.float64(652.8764233774543)),\n",
       "   (np.float64(654.4492921895021), np.float64(609.3676103714585)),\n",
       "   (np.float64(644.4636629750113), np.float64(565.8587973654628)),\n",
       "   (np.float64(634.4780337605205), np.float64(522.349984359467))]],\n",
       " [[(np.float64(806.4284725166036), np.float64(666.0883362756852)),\n",
       "   (np.float64(796.4428433021128), np.float64(622.5795232696894)),\n",
       "   (np.float64(786.4572140876219), np.float64(579.0707102636936)),\n",
       "   (np.float64(776.4715848731311), np.float64(535.5618972576978)),\n",
       "   (np.float64(766.4859556586403), np.float64(492.053084251702))],\n",
       "  [(np.float64(740.4245115675436), np.float64(681.2367863295675)),\n",
       "   (np.float64(730.4388823530528), np.float64(637.7279733235717)),\n",
       "   (np.float64(720.453253138562), np.float64(594.219160317576)),\n",
       "   (np.float64(710.4676239240712), np.float64(550.7103473115801)),\n",
       "   (np.float64(700.4819947095804), np.float64(507.20153430558435))]]]"
      ]
     },
     "execution_count": 33,
     "metadata": {},
     "output_type": "execute_result"
    }
   ],
   "source": [
    "corrected_rows"
   ]
  },
  {
   "cell_type": "code",
   "execution_count": 104,
   "id": "a968db2b-5aec-45ae-b4e1-03613fd71079",
   "metadata": {},
   "outputs": [],
   "source": [
    "# MODULES = []\n",
    "# for i in range(len(prep_points)-1):\n",
    "#     curr_row = prep_points[i]\n",
    "#     next_row = prep_points[i+1]\n",
    "#     curr_row_pts_len = len(curr_row)\n",
    "#     next_row_pts_len = len(next_row)\n",
    "\n",
    "#     loop_len = curr_row_pts_len if curr_row_pts_len <= next_row_pts_len else next_row_pts_len\n",
    "#     for j in range(loop_len- 1):\n",
    "#         # curr, next,next, curr\n",
    "#         module = [ curr_row[j], next_row[j], next_row[j+1], curr_row[j+1] ]\n",
    "#         MODULES.append(module)"
   ]
  },
  {
   "cell_type": "code",
   "execution_count": 105,
   "id": "02949405-ea9f-4367-b1f5-86492b9d1969",
   "metadata": {},
   "outputs": [],
   "source": [
    "# prep_points"
   ]
  },
  {
   "cell_type": "code",
   "execution_count": 106,
   "id": "880a4424-e661-4166-b53f-6acf1513e90d",
   "metadata": {},
   "outputs": [],
   "source": [
    "# MODULES\n",
    "MODULES = []\n",
    "MODULES_Poly = []\n",
    "for row in corrected_rows:\n",
    "    row_top = row[0]\n",
    "    row_btm = row[1]\n",
    "\n",
    "    for pt in range(len(row_top) - 1 ):\n",
    "        module = [ row_top[pt], row_btm[pt], row_btm[pt+1], row_top[pt+1]]\n",
    "        module_poly_shape = shapely.Polygon(module)\n",
    "        MODULES_Poly.append(module_poly_shape)\n",
    "        MODULES.append(module)\n"
   ]
  },
  {
   "cell_type": "code",
   "execution_count": 107,
   "id": "fda129ec-7a8d-472c-97cf-8f77c6d7540c",
   "metadata": {},
   "outputs": [],
   "source": [
    "array = shapely.MultiPolygon(MODULES_Poly)"
   ]
  },
  {
   "cell_type": "code",
   "execution_count": 108,
   "id": "28be11a4-6499-4ebc-9d7e-70968931e500",
   "metadata": {},
   "outputs": [
    {
     "data": {
      "image/svg+xml": [
       "<svg xmlns=\"http://www.w3.org/2000/svg\" xmlns:xlink=\"http://www.w3.org/1999/xlink\" width=\"188.2970109266231\" height=\"220.678724302288\" viewBox=\"626.3047476752505 483.87979816643207 188.2970109266231 220.678724302288\" preserveAspectRatio=\"xMinYMin meet\"><g transform=\"matrix(1,0,0,-1,0,1188.4383206351522)\"><g><path fill-rule=\"evenodd\" fill=\"#ff3333\" stroke=\"#555555\" stroke-width=\"2.0\" opacity=\"0.6\" d=\"M 740.4245115675437,681.2367863295677 L 674.4205506184838,696.3852363834501 L 664.434921403993,652.8764233774543 L 730.4388823530529,637.727973323572 L 740.4245115675437,681.2367863295677 z\" /><path fill-rule=\"evenodd\" fill=\"#ff3333\" stroke=\"#555555\" stroke-width=\"2.0\" opacity=\"0.6\" d=\"M 730.4388823530529,637.727973323572 L 664.434921403993,652.8764233774543 L 654.4492921895021,609.3676103714585 L 720.453253138562,594.2191603175761 L 730.4388823530529,637.727973323572 z\" /><path fill-rule=\"evenodd\" fill=\"#ff3333\" stroke=\"#555555\" stroke-width=\"2.0\" opacity=\"0.6\" d=\"M 720.453253138562,594.2191603175761 L 654.4492921895021,609.3676103714585 L 644.4636629750113,565.8587973654628 L 710.4676239240712,550.7103473115804 L 720.453253138562,594.2191603175761 z\" /><path fill-rule=\"evenodd\" fill=\"#ff3333\" stroke=\"#555555\" stroke-width=\"2.0\" opacity=\"0.6\" d=\"M 710.4676239240712,550.7103473115804 L 644.4636629750113,565.8587973654628 L 634.4780337605205,522.349984359467 L 700.4819947095804,507.20153430558463 L 710.4676239240712,550.7103473115804 z\" /><path fill-rule=\"evenodd\" fill=\"#ff3333\" stroke=\"#555555\" stroke-width=\"2.0\" opacity=\"0.6\" d=\"M 806.4284725166036,666.0883362756852 L 740.4245115675436,681.2367863295675 L 730.4388823530528,637.7279733235717 L 796.4428433021128,622.5795232696894 L 806.4284725166036,666.0883362756852 z\" /><path fill-rule=\"evenodd\" fill=\"#ff3333\" stroke=\"#555555\" stroke-width=\"2.0\" opacity=\"0.6\" d=\"M 796.4428433021128,622.5795232696894 L 730.4388823530528,637.7279733235717 L 720.453253138562,594.219160317576 L 786.4572140876219,579.0707102636936 L 796.4428433021128,622.5795232696894 z\" /><path fill-rule=\"evenodd\" fill=\"#ff3333\" stroke=\"#555555\" stroke-width=\"2.0\" opacity=\"0.6\" d=\"M 786.4572140876219,579.0707102636936 L 720.453253138562,594.219160317576 L 710.4676239240712,550.7103473115801 L 776.4715848731311,535.5618972576978 L 786.4572140876219,579.0707102636936 z\" /><path fill-rule=\"evenodd\" fill=\"#ff3333\" stroke=\"#555555\" stroke-width=\"2.0\" opacity=\"0.6\" d=\"M 776.4715848731311,535.5618972576978 L 710.4676239240712,550.7103473115801 L 700.4819947095804,507.20153430558435 L 766.4859556586403,492.053084251702 L 776.4715848731311,535.5618972576978 z\" /></g></g></svg>"
      ],
      "text/plain": [
       "<MULTIPOLYGON (((740.425 681.237, 674.421 696.385, 664.435 652.876, 730.439 ...>"
      ]
     },
     "execution_count": 108,
     "metadata": {},
     "output_type": "execute_result"
    }
   ],
   "source": [
    "array"
   ]
  },
  {
   "cell_type": "code",
   "execution_count": 109,
   "id": "c59f4c82-806a-4ef7-acba-c5504da62289",
   "metadata": {},
   "outputs": [
    {
     "data": {
      "text/plain": [
       "24184.166399999984"
      ]
     },
     "execution_count": 109,
     "metadata": {},
     "output_type": "execute_result"
    }
   ],
   "source": [
    "array.area"
   ]
  },
  {
   "cell_type": "code",
   "execution_count": 110,
   "id": "0e48df99-cd3c-45be-917d-5f11967eabf3",
   "metadata": {},
   "outputs": [
    {
     "data": {
      "text/plain": [
       "89091.5398092019"
      ]
     },
     "execution_count": 110,
     "metadata": {},
     "output_type": "execute_result"
    }
   ],
   "source": [
    "roof_polygon.area"
   ]
  },
  {
   "cell_type": "code",
   "execution_count": 111,
   "id": "1deb7214-3da7-4173-8a7e-81d4691be60e",
   "metadata": {},
   "outputs": [],
   "source": [
    "test = roof_polygon - firesetback"
   ]
  },
  {
   "cell_type": "code",
   "execution_count": 112,
   "id": "4a5d4c85-dfb8-4a00-994b-e34e680c49c3",
   "metadata": {},
   "outputs": [
    {
     "data": {
      "text/plain": [
       "'<g><polyline fill=\"none\" stroke=\"#66cc99\" stroke-width=\"2.0\" points=\"766.6518239036053,287.7442195548342 651.7539584563624,487.5665942456913 610.7903716447368,508.5479435882313 666.7406365581767,752.3312407110769 919.5159405421109,914.1873642106711 766.6518239036053,287.7442195548342\" opacity=\"0.8\" /><polyline fill=\"none\" stroke=\"#66cc99\" stroke-width=\"2.0\" points=\"684.4061798329747,739.8940493894461 633.7666576883577,519.2504171879007 666.1409190270084,502.6684784534697 759.072292982277,341.0486976616984 888.2484220909324,870.4175404795218 684.4061798329747,739.8940493894461\" opacity=\"0.8\" /></g>'"
      ]
     },
     "execution_count": 112,
     "metadata": {},
     "output_type": "execute_result"
    }
   ],
   "source": [
    "test.boundary.svg()"
   ]
  },
  {
   "cell_type": "code",
   "execution_count": null,
   "id": "7413db03-41a8-413b-a049-680c4de83b02",
   "metadata": {},
   "outputs": [],
   "source": []
  },
  {
   "cell_type": "markdown",
   "id": "5f3e53fa-91f3-41e9-93f6-8db6b270e40a",
   "metadata": {},
   "source": [
    "## plotting"
   ]
  },
  {
   "cell_type": "code",
   "execution_count": 113,
   "id": "95c69819-781c-493c-b697-23278034186e",
   "metadata": {},
   "outputs": [
    {
     "data": {
      "image/png": "[encoded data removed]",
      "text/plain": [
       "<Figure size 640x480 with 1 Axes>"
      ]
     },
     "metadata": {},
     "output_type": "display_data"
    }
   ],
   "source": [
    "l1_pts = extract_x_y(l1)\n",
    "l2_pts = extract_x_y(l2)\n",
    "\n",
    "ridge_p = extract_x_y(ridge_pts)\n",
    "eave_pt = extract_x_y(eve_pts)\n",
    "\n",
    "exteneded_pt = extract_x_y(extended_line)\n",
    "\n",
    "\n",
    "\n",
    "plt.plot(l1_pts[0], l1_pts[1], label=\"l1\")\n",
    "plt.plot(l2_pts[0], l2_pts[1], label=\"l2\")\n",
    "plt.plot(ridge_p[0], ridge_p[1], label=\"R\")\n",
    "plt.plot(eave_pt[0], eave_pt[1], label=\"E\")\n",
    "\n",
    "for i in range(no_of_rows):\n",
    "    p = extract_x_y(parallel_lines[i])\n",
    "    plt.plot(p[0], p[1], label=\"rows\")\n",
    "\n",
    "# for i in prep_points:\n",
    "#     p = extract_x_y(i)\n",
    "#     plt.scatter(p[0], p[1])\n",
    "\n",
    "plt.plot(exteneded_pt[0], exteneded_pt[1], linestyle='--', c='k', label=\"Extended\")\n",
    "plt.plot(firesetback.boundary.coords.xy[0], firesetback.boundary.coords.xy[1])\n",
    "for i in MODULES:\n",
    "    md_pt = extract_x_y(i)\n",
    "    plt.plot(md_pt[0], md_pt[1], c='#000000')\n",
    "\n",
    "# plt.legend()\n",
    "plt.show()\n"
   ]
  },
  {
   "cell_type": "markdown",
   "id": "4ae0f5bb-9ec4-49c5-a5bb-2e73eef7f5d8",
   "metadata": {},
   "source": [
    "### Pending work\n",
    "this will not fit the modules in most optimized way but it will fit the modules in they way it can mostly fit. \\ \n",
    "\n",
    "the draw back of the system is\n",
    "\n",
    "<img src=\"./complex_roof.png\" >"
   ]
  },
  {
   "cell_type": "markdown",
   "id": "ab617bc7-a8ef-42ec-b1f2-2e886739a2ef",
   "metadata": {},
   "source": [
    "in the above case, the points a,b,c,d,e,f,g,h are intersection points that we can figure out by using calc_poi method and iterating over polygon sides. \\\n",
    "**We need to eliminate the (b,c), (d,e), (f,g)** and then make a,b a line and recalculate the module placement. This algorithm if implmented gives the best optimized solution for module placement. \n",
    "\n",
    "1. but the problem here is we cannot get these in the same order.\n",
    "\n",
    "- a,b,c,d,e,f,g,h => (a,b), (c,d), (e,f), (g,h) - given any combination of points we should be able to extract the exact set,\n",
    "- Note: Every point a, b ... where a = (x,y) -> a point in a two dimensional plane including negative plane. We need to use the \n",
    "\n",
    "\n"
   ]
  },
  {
   "cell_type": "code",
   "execution_count": null,
   "id": "8cca3dfe-1f29-4da2-981b-6f3ba5ee4f08",
   "metadata": {},
   "outputs": [],
   "source": []
  },
  {
   "cell_type": "code",
   "execution_count": null,
   "id": "f3506c7e-e14c-4f40-8ef3-cac01c437bc1",
   "metadata": {},
   "outputs": [],
   "source": []
  },
  {
   "cell_type": "code",
   "execution_count": null,
   "id": "f7b58316-1e6a-4d40-884c-30f0f56f9d1a",
   "metadata": {},
   "outputs": [],
   "source": []
  }
 ],
 "metadata": {
  "kernelspec": {
   "display_name": "Python 3 (ipykernel)",
   "language": "python",
   "name": "python3"
  },
  "language_info": {
   "codemirror_mode": {
    "name": "ipython",
    "version": 3
   },
   "file_extension": ".py",
   "mimetype": "text/x-python",
   "name": "python",
   "nbconvert_exporter": "python",
   "pygments_lexer": "ipython3",
   "version": "3.12.8"
  }
 },
 "nbformat": 4,
 "nbformat_minor": 5
}
