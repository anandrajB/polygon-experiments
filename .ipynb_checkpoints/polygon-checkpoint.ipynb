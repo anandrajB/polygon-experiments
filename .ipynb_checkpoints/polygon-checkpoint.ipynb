{
 "cells": [
  {
   "cell_type": "code",
   "execution_count": 250,
   "id": "7caa562b-96eb-40a7-91a5-53cca16d193b",
   "metadata": {},
   "outputs": [],
   "source": [
    "polygon_pts = [\n",
    "    {\n",
    "        \"x\": 918.3877415056628,\n",
    "        \"y\": 624.5836109260492\n",
    "    },\n",
    "    {\n",
    "        \"x\": 450.69953364423714,\n",
    "        \"y\": 668.5542971352431\n",
    "    },\n",
    "    {\n",
    "        \"x\": 471.6855429713524,\n",
    "        \"y\": 883.4110592938041\n",
    "    },\n",
    "    {\n",
    "        \"x\": 842.4383744170552,\n",
    "        \"y\": 838.4410393071286\n",
    "    },\n",
    "    {\n",
    "        \"x\": 829.4470353097935,\n",
    "        \"y\": 726.5156562291805\n",
    "    },\n",
    "    {\n",
    "        \"x\": 918.3877415056628,\n",
    "        \"y\": 721.5189873417721\n",
    "    },\n",
    "    {\n",
    "        \"x\": 918.3877415056628,\n",
    "        \"y\": 624.5836109260492\n",
    "    }\n",
    "]"
   ]
  },
  {
   "cell_type": "code",
   "execution_count": 251,
   "id": "ce09086e-e4dc-4553-9f40-8fd5870f9154",
   "metadata": {},
   "outputs": [],
   "source": [
    "pts = [ [p['x'], p['y']] for p in polygon_pts]"
   ]
  },
  {
   "cell_type": "code",
   "execution_count": 252,
   "id": "b4d7a2e7-9a3e-46d8-939f-1e9c8b56d648",
   "metadata": {},
   "outputs": [],
   "source": [
    "# ridge = [[890.4063957361758, 604.5969353764157], [421.7188540972685, 658.5609593604264]]"
   ]
  },
  {
   "cell_type": "code",
   "execution_count": null,
   "id": "351d3840-026c-461b-be35-f1b43154706b",
   "metadata": {},
   "outputs": [],
   "source": []
  },
  {
   "cell_type": "code",
   "execution_count": null,
   "id": "b002a16e-adfa-4698-b851-42d349938f03",
   "metadata": {},
   "outputs": [],
   "source": []
  },
  {
   "cell_type": "code",
   "execution_count": null,
   "id": "7571e7a2-b9b7-403a-9eef-9fea9d14605d",
   "metadata": {},
   "outputs": [],
   "source": []
  },
  {
   "cell_type": "code",
   "execution_count": 253,
   "id": "e257237e-d882-4de8-95ab-0f1f8f691083",
   "metadata": {},
   "outputs": [
    {
     "data": {
      "text/plain": [
       "(np.float64(-0.09374154154424852), np.float64(-0.11463380839998044))"
      ]
     },
     "execution_count": 253,
     "metadata": {},
     "output_type": "execute_result"
    }
   ],
   "source": [
    "np.arctan(slope1), np.arctan(slope2)"
   ]
  },
  {
   "cell_type": "code",
   "execution_count": 254,
   "id": "3df4bdf3-a516-4c41-8d53-a62a139c87e5",
   "metadata": {},
   "outputs": [],
   "source": [
    "from shapely import Polygon\n",
    "from matplotlib import pyplot as plt\n",
    "import numpy as np"
   ]
  },
  {
   "cell_type": "code",
   "execution_count": 258,
   "id": "8889919e-229f-44e1-91eb-f41fbaacacff",
   "metadata": {},
   "outputs": [],
   "source": [
    "polygon = Polygon(pts)\n",
    "p = polygon.buffer(-30, cap_style ='flat', join_style='mitre')\n",
    "subb_p_x, sub_p_y = p.exterior.coords.xy\n",
    "# subb_p_x, sub_p_y\n",
    "# points = np.array(p.exterior.coords)\n"
   ]
  },
  {
   "cell_type": "code",
   "execution_count": null,
   "id": "f7a7eb23-0a1a-4aef-b329-cdb752b582f7",
   "metadata": {},
   "outputs": [],
   "source": []
  },
  {
   "cell_type": "code",
   "execution_count": 259,
   "id": "5c6e9912-8565-414e-80ee-5e364796b654",
   "metadata": {},
   "outputs": [],
   "source": [
    "\n",
    "def extract_x_y(line_pts):\n",
    "    line_pts = np.array(line_pts)\n",
    "    return line_pts[:, :1].flatten(), line_pts[:, 1:].flatten()"
   ]
  },
  {
   "cell_type": "code",
   "execution_count": 260,
   "id": "cdde6a6a-78f5-443d-94a5-a36f7a33f765",
   "metadata": {},
   "outputs": [],
   "source": [
    "# p_x, p_y = extract_x_y(pts)\n",
    "# sub_p_x, sub_p_y = extract_x_y(points)"
   ]
  },
  {
   "cell_type": "code",
   "execution_count": 261,
   "id": "3b2ec91c-2945-4803-80f9-b007351909e4",
   "metadata": {},
   "outputs": [
    {
     "data": {
      "text/plain": [
       "[<matplotlib.lines.Line2D at 0x2d6ce28adb0>]"
      ]
     },
     "execution_count": 261,
     "metadata": {},
     "output_type": "execute_result"
    },
    {
     "data": {
      "image/png": "[encoded data removed]",
      "text/plain": [
       "<Figure size 640x480 with 1 Axes>"
      ]
     },
     "metadata": {},
     "output_type": "display_data"
    }
   ],
   "source": [
    "plt.plot(p_x, p_y)\n",
    "plt.plot(subb_p_x, sub_p_y)"
   ]
  },
  {
   "cell_type": "code",
   "execution_count": 248,
   "id": "d928ac0a-61d9-4806-98ba-780c335b0a13",
   "metadata": {},
   "outputs": [],
   "source": [
    "import requests"
   ]
  },
  {
   "cell_type": "code",
   "execution_count": 249,
   "id": "7739331f-772a-4aa5-a307-f2f39b73a191",
   "metadata": {},
   "outputs": [],
   "source": [
    "mt_per_px = 0.06431112418158494 \n",
    "fire_set_back_distance = ((2 * 0.3048) / mt_per_px)*2"
   ]
  },
  {
   "cell_type": "code",
   "execution_count": 211,
   "id": "5e1273c3-259b-445b-bffa-c69ea1ce73c6",
   "metadata": {},
   "outputs": [],
   "source": [
    "data = {\n",
    "    'roof_plane_pts': pts,\n",
    "    'firesetback_distance': fire_set_back_distance\n",
    "}\n",
    "import json\n",
    "data = json.dumps(data)"
   ]
  },
  {
   "cell_type": "code",
   "execution_count": 213,
   "id": "08e1de0b-a042-4f0a-a0f4-ec620cba8c30",
   "metadata": {},
   "outputs": [],
   "source": [
    "pts = requests.post(\"http://127.0.0.1:9000/calc/firesetback/\", data=data)"
   ]
  },
  {
   "cell_type": "code",
   "execution_count": 217,
   "id": "38581ffd-5ca3-4533-9676-f9cbf634cbb3",
   "metadata": {},
   "outputs": [],
   "source": [
    "pts = json.loads(pts.content.decode('utf-8'))"
   ]
  },
  {
   "cell_type": "code",
   "execution_count": 218,
   "id": "f0a6519b-fff6-43c8-8d3c-42a2a753a2be",
   "metadata": {},
   "outputs": [
    {
     "data": {
      "text/plain": [
       "{'points': [[937.345581467495, 603.7598080775126],\n",
       "  [429.9818666040545, 651.4606701586908],\n",
       "  [454.7039396909557, 904.5676089055361],\n",
       "  [863.4443461629274, 854.9899315706608],\n",
       "  [850.5981631493751, 744.3151240692858],\n",
       "  [937.345581467495, 739.4416736019757],\n",
       "  [937.345581467495, 603.7598080775126]]}"
      ]
     },
     "execution_count": 218,
     "metadata": {},
     "output_type": "execute_result"
    }
   ],
   "source": [
    "pts"
   ]
  },
  {
   "cell_type": "code",
   "execution_count": 220,
   "id": "eabf2933-94c8-47e5-be02-834c714dbc98",
   "metadata": {},
   "outputs": [],
   "source": [
    "subb_p_x, sub_p_y = extract_x_y(pts['points'])"
   ]
  },
  {
   "cell_type": "code",
   "execution_count": 221,
   "id": "bd469880-947d-417f-b334-76843e660e83",
   "metadata": {},
   "outputs": [
    {
     "data": {
      "text/plain": [
       "[<matplotlib.lines.Line2D at 0x2d6cdff4320>]"
      ]
     },
     "execution_count": 221,
     "metadata": {},
     "output_type": "execute_result"
    },
    {
     "data": {
      "image/png": "[encoded data removed]",
      "text/plain": [
       "<Figure size 640x480 with 1 Axes>"
      ]
     },
     "metadata": {},
     "output_type": "display_data"
    }
   ],
   "source": [
    "plt.plot(p_x, p_y)\n",
    "plt.plot(subb_p_x, sub_p_y)"
   ]
  },
  {
   "cell_type": "code",
   "execution_count": null,
   "id": "90878804-94c1-443e-92ee-27baf8183dcd",
   "metadata": {},
   "outputs": [],
   "source": []
  }
 ],
 "metadata": {
  "kernelspec": {
   "display_name": "Python 3 (ipykernel)",
   "language": "python",
   "name": "python3"
  },
  "language_info": {
   "codemirror_mode": {
    "name": "ipython",
    "version": 3
   },
   "file_extension": ".py",
   "mimetype": "text/x-python",
   "name": "python",
   "nbconvert_exporter": "python",
   "pygments_lexer": "ipython3",
   "version": "3.12.8"
  }
 },
 "nbformat": 4,
 "nbformat_minor": 5
}
