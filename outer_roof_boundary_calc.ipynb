{
 "cells": [
  {
   "cell_type": "code",
   "execution_count": 5,
   "metadata": {},
   "outputs": [
    {
     "name": "stdout",
     "output_type": "stream",
     "text": [
      "[[165.61456298828125, 212], [217.61456298828125, 333], [337.61456298828125, 256], [276.61456298828125, 165]]\n"
     ]
    },
    {
     "data": {
      "text/plain": [
       "15746.0"
      ]
     },
     "execution_count": 5,
     "metadata": {},
     "output_type": "execute_result"
    }
   ],
   "source": [
    "polygon_pts = [\n",
    "     {\n",
    "            \"x\": 165.61456298828125,\n",
    "            \"y\": 212\n",
    "        },\n",
    "     {\n",
    "            \"x\": 217.61456298828125,\n",
    "            \"y\": 333\n",
    "        },\n",
    "    {\n",
    "            \"x\": 337.61456298828125,\n",
    "            \"y\": 256\n",
    "        },\n",
    "     {\n",
    "            \"x\": 276.61456298828125,\n",
    "            \"y\": 165\n",
    "        }\n",
    "    \n",
    "]\n",
    "\n",
    "poly_points = pts = [ [p['x'], p['y']] for p in polygon_pts]\n",
    "\n",
    "print(poly_points)\n",
    "from shapely import Polygon\n",
    "poly = Polygon(poly_points)\n",
    "\n",
    "poly.area"
   ]
  },
  {
   "cell_type": "code",
   "execution_count": 15,
   "metadata": {},
   "outputs": [
    {
     "data": {
      "image/svg+xml": [
       "<svg xmlns=\"http://www.w3.org/2000/svg\" xmlns:xlink=\"http://www.w3.org/1999/xlink\" width=\"300\" height=\"300\" viewBox=\"380.2279834710744 439.2353757171775 487.3531239669422 443.4637259447403\" preserveAspectRatio=\"xMinYMin meet\"><g transform=\"matrix(1,0,0,-1,0,1321.9344773790954)\"><path fill-rule=\"evenodd\" fill=\"#66cc99\" stroke=\"#555555\" stroke-width=\"3.249020826446281\" opacity=\"0.6\" d=\"M 398.27809917355376,463.2761310452418 L 400.27479338842977,864.6489859594384 L 487.13099173553724,853.6661466458659 L 574.9855371900827,853.6661466458659 L 620.9095041322314,848.6739469578783 L 617.9144628099174,815.7254290171608 L 641.8747933884298,814.7269890795632 L 643.8714876033058,846.6770670826834 L 746.7012396694215,837.6911076443058 L 849.5309917355372,845.6786271450858 L 846.5359504132232,457.2854914196568 L 398.27809917355376,463.2761310452418 z\" /></g></svg>"
      ],
      "text/plain": [
       "<POLYGON ((398.278 463.276, 400.275 864.649, 487.131 853.666, 574.986 853.66...>"
      ]
     },
     "execution_count": 15,
     "metadata": {},
     "output_type": "execute_result"
    }
   ],
   "source": [
    "from shapely import Polygon\n",
    "\n",
    "# Your points in pixels\n",
    "points = [\n",
    "    [\n",
    "        398.27809917355376,\n",
    "        463.2761310452418\n",
    "    ],\n",
    "    [\n",
    "        400.27479338842977,\n",
    "        864.6489859594384\n",
    "    ],\n",
    "    [\n",
    "        487.13099173553724,\n",
    "        853.6661466458659\n",
    "    ],\n",
    "    [\n",
    "        574.9855371900827,\n",
    "        853.6661466458659\n",
    "    ],\n",
    "    [\n",
    "        620.9095041322314,\n",
    "        848.6739469578783\n",
    "    ],\n",
    "    [\n",
    "        617.9144628099174,\n",
    "        815.7254290171608\n",
    "    ],\n",
    "    [\n",
    "        641.8747933884298,\n",
    "        814.7269890795632\n",
    "    ],\n",
    "    [\n",
    "        643.8714876033058,\n",
    "        846.6770670826834\n",
    "    ],\n",
    "    [\n",
    "        746.7012396694215,\n",
    "        837.6911076443058\n",
    "    ],\n",
    "    [\n",
    "        849.5309917355372,\n",
    "        845.6786271450858\n",
    "    ],\n",
    "    [\n",
    "        846.5359504132232,\n",
    "        457.2854914196568\n",
    "    ]\n",
    "]\n",
    "\n",
    "# Create a Polygon object\n",
    "poly = Polygon(points)\n",
    "\n",
    "\n",
    "# points_to_buffer = [\n",
    "#         746.7012396694215,\n",
    "#         837.6911076443058\n",
    "#     ]\n",
    "\n",
    "poly\n",
    "# # Calculate the area in square pixels\n",
    "# area_in_pixels = poly.area\n",
    "\n",
    "# # Conversion factor: x pixels per foot\n",
    "# # Example: if 100 pixels = 1 foot, then conversion_factor = 100\n",
    "# conversion_factor = 10  # Replace with your actual conversion factor\n",
    "\n",
    "# # Calculate the area in square feet\n",
    "# area_in_sqft = (area_in_pixels / (conversion_factor ** 2))\n",
    "\n",
    "# print(f\"Area in square feet: {area_in_sqft}\")\n"
   ]
  },
  {
   "cell_type": "code",
   "execution_count": 9,
   "metadata": {},
   "outputs": [
    {
     "data": {
      "image/svg+xml": [
       "<svg xmlns=\"http://www.w3.org/2000/svg\" xmlns:xlink=\"http://www.w3.org/1999/xlink\" width=\"100.0\" height=\"100.0\" viewBox=\"-0.04 -0.04 1.08 1.08\" preserveAspectRatio=\"xMinYMin meet\"><g transform=\"matrix(1,0,0,-1,0,1.0)\"><path fill-rule=\"evenodd\" fill=\"#ff3333\" stroke=\"#555555\" stroke-width=\"0.0216\" opacity=\"0.6\" d=\"M 0.2,0.0 L 1.0,1.0 L 1.0,0.0 L 0.2,1.0 L 0.0,0.0 L 0.2,0.0 z\" /></g></svg>"
      ],
      "text/plain": [
       "<POLYGON ((0.2 0, 1 1, 1 0, 0.2 1, 0 0, 0.2 0))>"
      ]
     },
     "execution_count": 9,
     "metadata": {},
     "output_type": "execute_result"
    }
   ],
   "source": [
    "from shapely.geometry import Polygon, Point\n",
    "\n",
    "# Define your polygon\n",
    "original_polygon = Polygon([(0, 0), (1, 1), (1, 0), (0, 1)])\n",
    "\n",
    "\n",
    "# Define the buffer distance for specific points\n",
    "buffer_distance = 0.2\n",
    "\n",
    "# Specify which points to buffer (e.g., buffer only the first and last points)\n",
    "points_to_buffer = [0, 3]  # Indices of points to buffer\n",
    "\n",
    "# # Create a list to hold the buffered points\n",
    "buffered_points = []\n",
    "\n",
    "# Iterate through the polygon's exterior coordinates\n",
    "for i, (x, y) in enumerate(original_polygon.exterior.coords):\n",
    "    if i in points_to_buffer:\n",
    "        # Buffer the specified points\n",
    "        buffered_points.append(Point(x, y).buffer(buffer_distance))\n",
    "    else:\n",
    "        # Keep the original point if not buffering\n",
    "        buffered_points.append(Point(x, y))\n",
    "\n",
    "# Create a new polygon from the buffered points\n",
    "# Note: This will create a MultiPolygon if the buffers overlap\n",
    "buffered_polygon = Polygon([p.exterior.coords[0] if isinstance(p, Polygon) else (p.x, p.y) for p in buffered_points if p.is_valid])\n",
    "\n",
    "original_polygon\n",
    "buffered_polygon"
   ]
  },
  {
   "cell_type": "code",
   "execution_count": 22,
   "metadata": {},
   "outputs": [
    {
     "data": {
      "image/svg+xml": [
       "<svg xmlns=\"http://www.w3.org/2000/svg\" xmlns:xlink=\"http://www.w3.org/1999/xlink\" width=\"300\" height=\"300\" viewBox=\"380.2279834710744 439.2353757171775 487.3531239669422 443.4637259447403\" preserveAspectRatio=\"xMinYMin meet\"><g transform=\"matrix(1,0,0,-1,0,1321.9344773790954)\"><path fill-rule=\"evenodd\" fill=\"#66cc99\" stroke=\"#555555\" stroke-width=\"3.249020826446281\" opacity=\"0.6\" d=\"M 398.27809917355376,463.2761310452418 L 400.27479338842977,864.6489859594384 L 487.13099173553724,853.6661466458659 L 574.9855371900827,853.6661466458659 L 620.9095041322314,848.6739469578783 L 617.9144628099174,815.7254290171608 L 641.8747933884298,814.7269890795632 L 643.8714876033058,846.6770670826834 L 746.7012396694215,837.6911076443058 L 849.5309917355372,845.6786271450858 L 846.5359504132232,457.2854914196568 L 398.27809917355376,463.2761310452418 z\" /></g></svg>"
      ],
      "text/plain": [
       "<POLYGON ((398.278 463.276, 400.275 864.649, 487.131 853.666, 574.986 853.66...>"
      ]
     },
     "execution_count": 22,
     "metadata": {},
     "output_type": "execute_result"
    }
   ],
   "source": [
    "from shapely.geometry import Polygon, Point\n",
    "import matplotlib.pyplot as plt\n",
    "\n",
    "# Your points\n",
    "points = [\n",
    "    [398.27809917355376, 463.2761310452418],\n",
    "    [400.27479338842977, 864.6489859594384],\n",
    "    [487.13099173553724, 853.6661466458659],\n",
    "    [574.9855371900827, 853.6661466458659],  # 4th point (where we'll add buffer)\n",
    "    [620.9095041322314, 848.6739469578783],\n",
    "    [617.9144628099174, 815.7254290171608],\n",
    "    [641.8747933884298, 814.7269890795632],\n",
    "    [643.8714876033058, 846.6770670826834],\n",
    "    [746.7012396694215, 837.6911076443058],\n",
    "    [849.5309917355372, 845.6786271450858],\n",
    "    [846.5359504132232, 457.2854914196568]\n",
    "]\n",
    "\n",
    "# Create the original polygon (closing it by adding first point at end)\n",
    "points_closed = points + [points[0]]\n",
    "original_polygon = Polygon(points_closed)\n",
    "\n",
    "# Define buffer distance for the 4th point\n",
    "buffer_distance = -30  # Adjust this value as needed\n",
    "\n",
    "# Create buffer around the 4th point (index 3 since we start at 0)\n",
    "fourth_point = Point(points[3])  # 4th point\n",
    "buffered_area = fourth_point.buffer(buffer_distance)\n",
    "\n",
    "# Combine the original polygon with the buffer\n",
    "result = original_polygon.union(buffered_area)\n",
    "\n",
    "\n",
    "result\n",
    "# # Visualization function\n",
    "# def plot_polygons(original, buffered, buffer_point):\n",
    "#     fig, ax = plt.subplots()\n",
    "    \n",
    "#     # Plot original polygon\n",
    "#     x, y = original.exterior.xy\n",
    "#     ax.plot(x, y, 'b-', label='Original Polygon')\n",
    "    \n",
    "#     # Plot buffered result\n",
    "#     x, y = buffered.exterior.xy\n",
    "#     ax.plot(x, y, 'r-', label='Buffered Result')\n",
    "    \n",
    "#     # Plot the buffered point location\n",
    "#     ax.plot(buffer_point.x, buffer_point.y, 'go', label='4th Point')\n",
    "    \n",
    "#     ax.set_aspect('equal')\n",
    "#     ax.legend()\n",
    "#     plt.title('Polygon with Buffer on 4th Point')\n",
    "#     plt.show()\n",
    "\n",
    "# # Show the result\n",
    "# plot_polygons(original_polygon, result, fourth_point)\n",
    "\n",
    "# # Print information\n",
    "# print(f\"Original area: {original_polygon.area:.2f}\")\n",
    "# print(f\"Buffered area: {result.area:.2f}\")\n",
    "# print(\"\\nBuffered polygon coordinates:\")\n",
    "# for coord in result.exterior.coords:\n",
    "#     print(f\"({coord[0]:.2f}, {coord[1]:.2f})\")"
   ]
  }
 ],
 "metadata": {
  "kernelspec": {
   "display_name": "Python 3",
   "language": "python",
   "name": "python3"
  },
  "language_info": {
   "codemirror_mode": {
    "name": "ipython",
    "version": 3
   },
   "file_extension": ".py",
   "mimetype": "text/x-python",
   "name": "python",
   "nbconvert_exporter": "python",
   "pygments_lexer": "ipython3",
   "version": "3.12.0"
  }
 },
 "nbformat": 4,
 "nbformat_minor": 2
}
