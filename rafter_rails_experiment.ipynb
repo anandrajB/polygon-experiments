{
 "cells": [
  {
   "cell_type": "code",
   "execution_count": 2,
   "id": "aa623393-978c-4a78-ab9d-b8ef255a794b",
   "metadata": {},
   "outputs": [],
   "source": [
    "# imports\n",
    "import numpy as np\n",
    "import matplotlib.pyplot as plt"
   ]
  },
  {
   "cell_type": "code",
   "execution_count": 3,
   "id": "240590ea",
   "metadata": {},
   "outputs": [
    {
     "name": "stdout",
     "output_type": "stream",
     "text": [
      "Requirement already satisfied: shapely in c:\\users\\il010549\\appdata\\local\\programs\\python\\python312\\lib\\site-packages (2.0.7)\n",
      "Requirement already satisfied: numpy<3,>=1.14 in c:\\users\\il010549\\appdata\\local\\programs\\python\\python312\\lib\\site-packages (from shapely) (2.2.3)\n",
      "Note: you may need to restart the kernel to use updated packages.\n"
     ]
    },
    {
     "name": "stderr",
     "output_type": "stream",
     "text": [
      "\n",
      "[notice] A new release of pip is available: 23.2.1 -> 25.0.1\n",
      "[notice] To update, run: python.exe -m pip install --upgrade pip\n"
     ]
    }
   ],
   "source": [
    "pip install shapely"
   ]
  },
  {
   "cell_type": "code",
   "execution_count": 4,
   "id": "63233e13-0211-4210-a10a-f822caef1686",
   "metadata": {},
   "outputs": [],
   "source": [
    "response = {\n",
    "    \"rafter_dist\": 2,\n",
    "    \"ridge_pts\": [\n",
    "        [\n",
    "            903.3977348434377,\n",
    "            595.6029313790806\n",
    "        ],\n",
    "        [\n",
    "            435.709526982012,\n",
    "            648.5676215856096\n",
    "        ]\n",
    "    ],\n",
    "    \"eve_pts\": [\n",
    "        [\n",
    "            460.692871419054,\n",
    "            866.4223850766156\n",
    "        ],\n",
    "        [\n",
    "            830.4463690872751,\n",
    "            818.454363757495\n",
    "        ]\n",
    "    ],\n",
    "    \"mt_per_px\": 0.06431112342582257,\n",
    "    \"roof_pts\": [\n",
    "        {\n",
    "            \"x\": 903.3977348434377,\n",
    "            \"y\": 595.6029313790806\n",
    "        },\n",
    "        {\n",
    "            \"x\": 435.709526982012,\n",
    "            \"y\": 648.5676215856096\n",
    "        },\n",
    "        {\n",
    "            \"x\": 460.692871419054,\n",
    "            \"y\": 866.4223850766156\n",
    "        },\n",
    "        {\n",
    "            \"x\": 830.4463690872751,\n",
    "            \"y\": 818.454363757495\n",
    "        },\n",
    "        {\n",
    "            \"x\": 816.4556962025316,\n",
    "            \"y\": 715.5229846768821\n",
    "        },\n",
    "        {\n",
    "            \"x\": 905.396402398401,\n",
    "            \"y\": 700.5329780146569\n",
    "        },\n",
    "        {\n",
    "            \"x\": 903.3977348434377,\n",
    "            \"y\": 595.6029313790806\n",
    "        }\n",
    "    ]\n",
    "}"
   ]
  },
  {
   "cell_type": "code",
   "execution_count": 5,
   "id": "d9e568d4",
   "metadata": {},
   "outputs": [
    {
     "data": {
      "text/plain": [
       "519.8159306635308"
      ]
     },
     "execution_count": 5,
     "metadata": {},
     "output_type": "execute_result"
    }
   ],
   "source": [
    "from shapely import geometry\n",
    "\n",
    "# Convert roof_pts to a list of tuples\n",
    "\n",
    "data = [[918.3877415056628, 578.614257161892], [398.73417721518985, 591.6055962691539]]\n",
    "# Ensure the polygon is closed by repeating the first point at the end\n",
    "data.append(data[0])\n",
    "# roof_pts = [(pt['x'], pt['y']) for pt in response['roof_pts']]\n",
    "poly = geometry.Polygon(data)\n",
    "\n",
    "poly\n",
    "\n",
    "line_pts = data\n",
    "dist = ( (line_pts[1][0] - line_pts[0][0])**2 + (line_pts[1][1] - line_pts[0][1])**2 )**0.5\n",
    "\n",
    "dist "
   ]
  },
  {
   "cell_type": "code",
   "execution_count": 6,
   "id": "1dd1a2e1-c66a-4615-b22e-3ef492819079",
   "metadata": {},
   "outputs": [],
   "source": [
    "rafter_calc_res = {\n",
    "  \"points\": {\n",
    "    \"count\": 24,\n",
    "    \"points\": [\n",
    "      [\n",
    "        884.5603055737741,\n",
    "        597.7362299929528\n",
    "      ],\n",
    "      [\n",
    "        865.7228763041106,\n",
    "        599.8695286068249\n",
    "      ],\n",
    "      [\n",
    "        846.8854470344471,\n",
    "        602.002827220697\n",
    "      ],\n",
    "      [\n",
    "        828.0480177647836,\n",
    "        604.1361258345692\n",
    "      ],\n",
    "      [\n",
    "        809.2105884951201,\n",
    "        606.2694244484413\n",
    "      ],\n",
    "      [\n",
    "        790.3731592254566,\n",
    "        608.4027230623135\n",
    "      ],\n",
    "      [\n",
    "        771.5357299557929,\n",
    "        610.5360216761857\n",
    "      ],\n",
    "      [\n",
    "        752.6983006861295,\n",
    "        612.6693202900578\n",
    "      ],\n",
    "      [\n",
    "        733.860871416466,\n",
    "        614.8026189039299\n",
    "      ],\n",
    "      [\n",
    "        715.0234421468025,\n",
    "        616.9359175178021\n",
    "      ],\n",
    "      [\n",
    "        696.186012877139,\n",
    "        619.0692161316742\n",
    "      ],\n",
    "      [\n",
    "        677.3485836074755,\n",
    "        621.2025147455464\n",
    "      ],\n",
    "      [\n",
    "        658.511154337812,\n",
    "        623.3358133594186\n",
    "      ],\n",
    "      [\n",
    "        639.6737250681484,\n",
    "        625.4691119732908\n",
    "      ],\n",
    "      [\n",
    "        620.8362957984849,\n",
    "        627.6024105871628\n",
    "      ],\n",
    "      [\n",
    "        601.9988665288215,\n",
    "        629.735709201035\n",
    "      ],\n",
    "      [\n",
    "        583.1614372591579,\n",
    "        631.8690078149071\n",
    "      ],\n",
    "      [\n",
    "        564.3240079894945,\n",
    "        634.0023064287793\n",
    "      ],\n",
    "      [\n",
    "        545.486578719831,\n",
    "        636.1356050426515\n",
    "      ],\n",
    "      [\n",
    "        526.6491494501673,\n",
    "        638.2689036565237\n",
    "      ],\n",
    "      [\n",
    "        507.81172018050387,\n",
    "        640.4022022703957\n",
    "      ],\n",
    "      [\n",
    "        488.9742909108403,\n",
    "        642.5355008842679\n",
    "      ],\n",
    "      [\n",
    "        470.13686164117684,\n",
    "        644.6687994981401\n",
    "      ],\n",
    "      [\n",
    "        451.2994323715133,\n",
    "        646.8020981120122\n",
    "      ]\n",
    "    ]\n",
    "  },\n",
    "  \"rafters_tips\": [\n",
    "    [\n",
    "      908.4107401040126,\n",
    "      808.3400669769452\n",
    "    ],\n",
    "    [\n",
    "      889.6079624885174,\n",
    "      810.7793462351716\n",
    "    ],\n",
    "    [\n",
    "      870.8051848730222,\n",
    "      813.218625493398\n",
    "    ],\n",
    "    [\n",
    "      852.002407257527,\n",
    "      815.6579047516244\n",
    "    ],\n",
    "    [\n",
    "      833.1996296420317,\n",
    "      818.0971840098508\n",
    "    ],\n",
    "    [\n",
    "      814.3968520265365,\n",
    "      820.5364632680772\n",
    "    ],\n",
    "    [\n",
    "      795.5940744110413,\n",
    "      822.9757425263036\n",
    "    ],\n",
    "    [\n",
    "      776.7912967955463,\n",
    "      825.41502178453\n",
    "    ],\n",
    "    [\n",
    "      757.9885191800511,\n",
    "      827.8543010427564\n",
    "    ],\n",
    "    [\n",
    "      739.1857415645559,\n",
    "      830.2935803009829\n",
    "    ],\n",
    "    [\n",
    "      720.3829639490607,\n",
    "      832.7328595592093\n",
    "    ],\n",
    "    [\n",
    "      701.5801863335654,\n",
    "      835.1721388174357\n",
    "    ],\n",
    "    [\n",
    "      682.7774087180703,\n",
    "      837.6114180756621\n",
    "    ],\n",
    "    [\n",
    "      663.9746311025751,\n",
    "      840.0506973338885\n",
    "    ],\n",
    "    [\n",
    "      645.1718534870799,\n",
    "      842.4899765921149\n",
    "    ],\n",
    "    [\n",
    "      626.3690758715848,\n",
    "      844.9292558503413\n",
    "    ],\n",
    "    [\n",
    "      607.5662982560895,\n",
    "      847.3685351085677\n",
    "    ],\n",
    "    [\n",
    "      588.7635206405944,\n",
    "      849.8078143667941\n",
    "    ],\n",
    "    [\n",
    "      569.9607430250992,\n",
    "      852.2470936250205\n",
    "    ],\n",
    "    [\n",
    "      551.1579654096039,\n",
    "      854.6863728832469\n",
    "    ],\n",
    "    [\n",
    "      532.3551877941088,\n",
    "      857.1256521414732\n",
    "    ],\n",
    "    [\n",
    "      513.5524101786135,\n",
    "      859.5649313996997\n",
    "    ],\n",
    "    [\n",
    "      494.7496325631184,\n",
    "      862.004210657926\n",
    "    ],\n",
    "    [\n",
    "      475.9468549476232,\n",
    "      864.4434899161524\n",
    "    ]\n",
    "  ],\n",
    "  \"status\": True\n",
    "}\n"
   ]
  },
  {
   "cell_type": "code",
   "execution_count": 7,
   "id": "c3879005-97d5-4046-8092-326c9af8e7d4",
   "metadata": {},
   "outputs": [],
   "source": [
    "# ridge_pts = response['ridge_pts']\n",
    "# eve_pts = response['eve_pts']\n",
    "\n",
    "# # ridge_idx_1 = 0\n",
    "# # ridge_idx_2 = 0\n",
    "\n",
    "# # eve_idx_1 = 0\n",
    "# # eve_idx_2 = 0\n",
    "def get_ridge_eve_indices(roof_pts, ridge_pts, eve_pts):\n",
    "    pt_locations = {\n",
    "        \"r1\": -1, \n",
    "        \"r2\": -1,\n",
    "        \"e1\" : -1, \n",
    "        \"e2\": -1\n",
    "    }\n",
    "    \n",
    "    for idx in range(len(roof_pts)):\n",
    "        roof_pt = roof_pts[idx]\n",
    "        x, y = roof_pt['x'], roof_pt['y']\n",
    "        \n",
    "        if(x==ridge_pts[0][0]) & (y==ridge_pts[0][1]):\n",
    "            pt_locations['r1'] = idx if pt_locations['r1']==-1 else pt_locations['r1']\n",
    "        if(x==ridge_pts[1][0]) & (y==ridge_pts[1][1]):\n",
    "            pt_locations['r2'] = idx if pt_locations['r2']==-1 else pt_locations['r2']\n",
    "        if(x==eve_pts[0][0]) & (y==eve_pts[0][1]):\n",
    "            pt_locations['e1'] = idx if pt_locations['e1']==-1 else pt_locations['e1']\n",
    "        if(x==eve_pts[1][0]) & (y==eve_pts[1][1]):\n",
    "            pt_locations['e2'] =idx if pt_locations['e2']==-1 else pt_locations['e2']\n",
    "    \n",
    "    return pt_locations\n"
   ]
  },
  {
   "cell_type": "code",
   "execution_count": null,
   "id": "bb67b883-9f93-4e34-a448-5e0b64513d9b",
   "metadata": {},
   "outputs": [],
   "source": []
  },
  {
   "cell_type": "markdown",
   "id": "5650cc2e-3a1a-4c29-a001-87220bb62b92",
   "metadata": {},
   "source": [
    "# roof pts"
   ]
  },
  {
   "cell_type": "code",
   "execution_count": 8,
   "id": "aea5caba-4441-4b4f-90e6-7f39f9a0f04f",
   "metadata": {},
   "outputs": [],
   "source": [
    "# roof_pts = response['roof_pts']\n"
   ]
  },
  {
   "cell_type": "code",
   "execution_count": 9,
   "id": "2815a06a-a122-4905-bb31-c9ac502f6b64",
   "metadata": {},
   "outputs": [],
   "source": [
    "# pt_locations = get_ridge_eve_indices(roof_pts, ridge_pts, eve_pts)"
   ]
  },
  {
   "cell_type": "code",
   "execution_count": null,
   "id": "840d138a-b522-4192-aeed-b35c642128e2",
   "metadata": {},
   "outputs": [],
   "source": []
  },
  {
   "cell_type": "code",
   "execution_count": 10,
   "id": "d2f5e81b-6e09-47f0-9a74-8a902ccb5551",
   "metadata": {},
   "outputs": [],
   "source": [
    "\n",
    "# ridge_eve = [ (pt_locations['r1'], pt_locations['r2']),  (pt_locations['e1'], pt_locations['e2'])] \n",
    "# ridge_eve"
   ]
  },
  {
   "cell_type": "code",
   "execution_count": 11,
   "id": "345b254e-33d4-4754-a5b9-5bcee5220e78",
   "metadata": {},
   "outputs": [],
   "source": [
    "# pts_idx = list(range(1, len(roof_pts)))\n",
    "# line_segments = list(enumerate(pts_idx))\n",
    "# line_segments = [i for i in line_segments if i not in ridge_eve]\n",
    "# line_segments"
   ]
  },
  {
   "cell_type": "code",
   "execution_count": 12,
   "id": "4147b120-d591-42b7-9f8c-58af76dc823b",
   "metadata": {},
   "outputs": [],
   "source": [
    "# def seggrate_lines(no_of_roof_pts):\n",
    "#     pts_idx = list(range(1, no_of_roof_pts))\n",
    "#     line_segments = list(enumerate(pts_idx))\n",
    "#     line_segments = [i for i in line_segments if i not in ridge_eve]\n",
    "#     line_segments"
   ]
  },
  {
   "cell_type": "markdown",
   "id": "5950f109-ad34-4a7d-acdf-a041e1d991d7",
   "metadata": {},
   "source": [
    "### from above we are able bring all the line segmet point indices which are not part of ridge or eve"
   ]
  },
  {
   "cell_type": "code",
   "execution_count": null,
   "id": "5d79fa89-7e4e-48bf-8b23-d1d3ad81effe",
   "metadata": {},
   "outputs": [],
   "source": []
  },
  {
   "cell_type": "markdown",
   "id": "f76ded19-0ab5-4385-af82-90434ed14b16",
   "metadata": {},
   "source": [
    "## Making Rafter Line segments"
   ]
  },
  {
   "cell_type": "code",
   "execution_count": 13,
   "id": "fa3214ef-b677-4945-815c-707597535bcd",
   "metadata": {},
   "outputs": [],
   "source": [
    "# no_of_rafters = len(rafter_calc_res['points']['points'])"
   ]
  },
  {
   "cell_type": "code",
   "execution_count": 14,
   "id": "3d0c43d4-9f05-439c-aec0-4504ac02ee03",
   "metadata": {},
   "outputs": [],
   "source": [
    "# rafter_start_pts = rafter_calc_res['points']['points']\n",
    "# rafter_tips = rafter_calc_res['rafters_tips']"
   ]
  },
  {
   "cell_type": "code",
   "execution_count": 15,
   "id": "4d3cb94f-a3bd-4d40-99e3-f7f60c334594",
   "metadata": {},
   "outputs": [],
   "source": [
    "# no_of_rafters"
   ]
  },
  {
   "cell_type": "code",
   "execution_count": 16,
   "id": "76f19f00-b2c6-418d-9ed4-0cbfbcb5c3f1",
   "metadata": {},
   "outputs": [],
   "source": [
    "# rafter_lines = [ [rafter_start_pts[i], rafter_tips[i]] for i in range(no_of_rafters) ]"
   ]
  },
  {
   "cell_type": "markdown",
   "id": "1f6f6eeb-ec8b-43e9-a907-922b6493709d",
   "metadata": {},
   "source": [
    "1. step1: check weather the rafter line is cutting any of the remaining lines in the roof plane\n",
    "2. step2: check if the starting point is on rafter and also endoing point is on rafter\n",
    "\n",
    "\n",
    "assuming the rafter meets only one side in the entire set of sides. \n",
    "\n",
    "```\n",
    "get the rafter, ridge, eve\n",
    "if rafter_start, rafter_end are in ridge and eve:\n",
    "    pass\n",
    "else:\n",
    "    check the start is in ridge or end is on ridge:\n",
    "        if start is in ridge:\n",
    "            find poi of other end with any other side.\n",
    "\n",
    " \n",
    "```"
   ]
  },
  {
   "cell_type": "code",
   "execution_count": 17,
   "id": "11bc32b1-44b0-41c7-9073-edb4183ad364",
   "metadata": {},
   "outputs": [],
   "source": [
    "def extract_x_y(line_pts):\n",
    "    line_pts = np.array(line_pts)\n",
    "    return line_pts[:, :1].flatten(), line_pts[:, 1:].flatten()"
   ]
  },
  {
   "cell_type": "code",
   "execution_count": 18,
   "id": "aa2e1087-28ae-4522-9f32-65a39869093b",
   "metadata": {},
   "outputs": [],
   "source": [
    "def calc_distance(point):\n",
    "\n",
    "    dist = ( (point[1][0] - point[0][0])**2 + (point[1][1] - point[0][1])**2 )**0.5\n",
    "    return dist"
   ]
  },
  {
   "cell_type": "code",
   "execution_count": 19,
   "id": "f941ed49-fbe9-4076-8a90-66bcb47bd3d6",
   "metadata": {},
   "outputs": [],
   "source": [
    "def calc_poi(line_1, line_2):\n",
    "    line_1 = np.array(line_1)\n",
    "    line_2_x, line_2_y = extract_x_y(line_2)\n",
    "\n",
    "    line_2 = np.array(line_2)\n",
    "    line_1_x, line_1_y = extract_x_y(line_1)\n",
    "\n",
    "    line_2_dx = line_2_x[1] - line_2_x[0]\n",
    "    line_2_dy = line_2_y[1] - line_2_y[0]\n",
    "\n",
    "    line_1_dx = line_1_x[1] - line_1_x[0]\n",
    "    line_1_dy = line_1_y[1] - line_1_y[0]\n",
    "\n",
    "    line_2_slope = line_2_dy / line_2_dx\n",
    "    line_1_slope = line_1_dy / line_1_dx\n",
    "\n",
    "    line_1_c = line_1_y[0] - (line_1_slope * line_1_x[0])\n",
    "    line_2_c = line_2_y[0] - (line_2_slope * line_2_x[0])\n",
    "\n",
    "    x = (line_1_c - line_2_c) / (line_2_slope - line_1_slope)\n",
    "    y = (line_2_slope*x) + line_2_c\n",
    "\n",
    "    return x, y"
   ]
  },
  {
   "cell_type": "markdown",
   "id": "0c7d172f-a30c-4753-88ac-bb46ffc47768",
   "metadata": {},
   "source": [
    "A-----c---------------B  \n",
    "\n",
    "\n",
    "\n",
    "A--------------B------c\n",
    "\n",
    "\n",
    "c----A----------------B\n",
    "\n",
    "\n",
    "    c\n",
    "A--------------------B"
   ]
  },
  {
   "cell_type": "code",
   "execution_count": 20,
   "id": "48355d33-f62a-478c-bae2-7905402146cb",
   "metadata": {},
   "outputs": [],
   "source": [
    "def check_point_bwn_AB(point, line, tolerence=0.0000000001):\n",
    "    A = line[0]\n",
    "    B = line[1]\n",
    "    AC = calc_distance([A, point])\n",
    "    BC = calc_distance([B, point])\n",
    "    AB = calc_distance(line)\n",
    "\n",
    "    status = (AB <= AC+BC+tolerence) & (AB >= (AC+BC)-tolerence)\n",
    "    return status"
   ]
  },
  {
   "cell_type": "markdown",
   "id": "982244a9-7d37-4f78-a284-f533acd0047e",
   "metadata": {},
   "source": [
    "### Step 1"
   ]
  },
  {
   "cell_type": "code",
   "execution_count": 21,
   "id": "84f51271-8d45-4159-8291-fe686dda77d2",
   "metadata": {},
   "outputs": [
    {
     "data": {
      "text/plain": [
       "{'r1': 0, 'r2': 1, 'e1': 2, 'e2': 3}"
      ]
     },
     "execution_count": 21,
     "metadata": {},
     "output_type": "execute_result"
    }
   ],
   "source": [
    "ridge_pts = response['ridge_pts']\n",
    "eve_pts = response['eve_pts']\n",
    "roof_pts = response['roof_pts']\n",
    "\n",
    "pt_locations = get_ridge_eve_indices(roof_pts, ridge_pts, eve_pts)\n",
    "pt_locations"
   ]
  },
  {
   "cell_type": "code",
   "execution_count": null,
   "id": "b13554f9",
   "metadata": {},
   "outputs": [],
   "source": []
  },
  {
   "cell_type": "markdown",
   "id": "969abda9-8aa6-44a2-9bd0-a495cb67431a",
   "metadata": {},
   "source": [
    "### Step 2"
   ]
  },
  {
   "cell_type": "code",
   "execution_count": 22,
   "id": "b886e3d2-0ec9-4a42-a61e-d5402f8aee37",
   "metadata": {},
   "outputs": [],
   "source": [
    "rafter_start_pts = rafter_calc_res['points']['points']\n",
    "rafter_tips = rafter_calc_res['rafters_tips']"
   ]
  },
  {
   "cell_type": "code",
   "execution_count": 23,
   "id": "dff14ef9-5040-4d89-af02-0f1088cef7eb",
   "metadata": {},
   "outputs": [],
   "source": [
    "def seggrate_lines(no_of_roof_pts, pt_locations):\n",
    "    ridge_eve = [ (pt_locations['r1'], pt_locations['r2']),  (pt_locations['e1'], pt_locations['e2'])] \n",
    "    pts_idx = list(range(1, no_of_roof_pts))\n",
    "    line_segments = list(enumerate(pts_idx))\n",
    "    line_segments = [i for i in line_segments if i not in ridge_eve]\n",
    "    return {\"ridge_eve\": ridge_eve, \"line_segments\": line_segments }"
   ]
  },
  {
   "cell_type": "markdown",
   "id": "1b26715c-6dd4-4015-988a-27fd7411d2cc",
   "metadata": {},
   "source": [
    "### Seggregation of Lines"
   ]
  },
  {
   "cell_type": "code",
   "execution_count": 24,
   "id": "4e8331ac-9300-41c8-bc91-4bc08e2cea21",
   "metadata": {},
   "outputs": [
    {
     "data": {
      "text/plain": [
       "([(0, 1), (2, 3)], [(1, 2), (3, 4), (4, 5), (5, 6)])"
      ]
     },
     "execution_count": 24,
     "metadata": {},
     "output_type": "execute_result"
    }
   ],
   "source": [
    "line_seggregation = seggrate_lines(len(roof_pts), pt_locations)\n",
    "ridge_eve = line_seggregation.get('ridge_eve', [])\n",
    "line_segments = line_seggregation.get('line_segments', [])\n",
    "ridge_eve, line_segments"
   ]
  },
  {
   "cell_type": "markdown",
   "id": "b4a5f2fc-6e17-4ebf-bf66-46abe148b797",
   "metadata": {},
   "source": [
    "### creating rafter lines"
   ]
  },
  {
   "cell_type": "code",
   "execution_count": 25,
   "id": "c978022d-8b3b-4da8-b396-ddf8d6217ee6",
   "metadata": {},
   "outputs": [],
   "source": [
    "no_of_rafters = len(rafter_start_pts)"
   ]
  },
  {
   "cell_type": "code",
   "execution_count": 26,
   "id": "e8890c5f-3a55-43ef-b066-4464ca91b764",
   "metadata": {},
   "outputs": [],
   "source": [
    "rafter_lines = [ [rafter_start_pts[i], rafter_tips[i]] for i in range(no_of_rafters) ]\n",
    "# # rafter_lines"
   ]
  },
  {
   "cell_type": "code",
   "execution_count": null,
   "id": "72d5d259-fc0e-4076-9208-f67497ef44d5",
   "metadata": {},
   "outputs": [],
   "source": []
  },
  {
   "cell_type": "code",
   "execution_count": 27,
   "id": "291c64fd-0b24-4d50-b6fe-0d053f95fc7e",
   "metadata": {},
   "outputs": [],
   "source": [
    "def recalc_rafters(rafter_lines , ridge_pts, eve_pts, roof_pts, ):\n",
    "    new_rafters = []\n",
    "\n",
    "    no_of_rafters = len(rafter_lines)\n",
    "    for rafter in rafter_lines:\n",
    "       \n",
    "    \n",
    "        rafter_start, rafter_end = rafter[0], rafter[1]\n",
    "    \n",
    "        raf_start_is_ridge = check_point_bwn_AB(rafter_start, ridge_pts)\n",
    "        raf_start_is_eve = check_point_bwn_AB(rafter_start, eve_pts)\n",
    "        raf_end_is_ridge = check_point_bwn_AB(rafter_end, ridge_pts)\n",
    "        raf_end_is_eve = check_point_bwn_AB(rafter_end, eve_pts)\n",
    "    \n",
    "        if( (raf_start_is_ridge & raf_end_is_eve) | (raf_start_is_eve & raf_end_is_ridge) ):\n",
    "            new_rafter = rafter\n",
    "            new_rafters.append(new_rafter)\n",
    "        else:\n",
    "            for line in  line_segments:\n",
    "                line_start = [roof_pts[line[0]]['x'], roof_pts[line[0]]['y']]\n",
    "                line_end = [roof_pts[line[1]]['x'], roof_pts[line[1]]['y']]\n",
    "    \n",
    "                side = [ line_start, line_end ]\n",
    "                assumption_poi = calc_poi(side, rafter)\n",
    "                if (raf_start_is_ridge & (not raf_end_is_eve)):\n",
    "                    if(check_point_bwn_AB(assumption_poi, side)):\n",
    "                        new_rafter = [rafter_start, assumption_poi]\n",
    "                        new_rafters.append(new_rafter)\n",
    "                        break\n",
    "                    # change the rafter end \n",
    "                elif ((not raf_start_is_ridge) & (raf_end_is_eve)):\n",
    "                    # change the rafter start\n",
    "                    if(check_point_bwn_AB(assumption_poi, side)):\n",
    "                        new_rafter = [assumption_poi, rafter_end]\n",
    "                        new_rafters.append(new_rafter)\n",
    "                        break;\n",
    "    return new_rafters\n",
    "\n",
    "        \n",
    "        "
   ]
  },
  {
   "cell_type": "code",
   "execution_count": 28,
   "id": "e806d225-e0b9-44af-8316-babc6519a8e3",
   "metadata": {},
   "outputs": [],
   "source": [
    "new_rafters = recalc_rafters(rafter_lines, ridge_pts, eve_pts, roof_pts)"
   ]
  },
  {
   "cell_type": "code",
   "execution_count": 29,
   "id": "fca7d4ab-c809-440a-9a33-ddb995499695",
   "metadata": {},
   "outputs": [
    {
     "data": {
      "text/plain": [
       "[[903.3977348434377, 595.6029313790806], [435.709526982012, 648.5676215856096]]"
      ]
     },
     "execution_count": 29,
     "metadata": {},
     "output_type": "execute_result"
    }
   ],
   "source": [
    "ridge_pts"
   ]
  },
  {
   "cell_type": "code",
   "execution_count": 30,
   "id": "a130c42a-e124-49b3-ab07-444bb8953caf",
   "metadata": {},
   "outputs": [],
   "source": [
    "# ridge_pts"
   ]
  },
  {
   "cell_type": "code",
   "execution_count": 31,
   "id": "5b4e00ae-aaf1-4f26-90ee-45d9165a7d51",
   "metadata": {},
   "outputs": [],
   "source": [
    "r_x, r_y = extract_x_y(ridge_pts)\n",
    "\n",
    "raf_x, raf_y = extract_x_y(rafter_start_pts)\n",
    "\n",
    "e_x, e_y = extract_x_y(eve_pts)\n",
    "\n",
    "raf_eve_x, raf_eve_y = extract_x_y(rafter_tips)\n",
    "\n",
    "new_rdge_pts_x, new_rdge_pts_y = extract_x_y(new_rafters)\n",
    " \n",
    "# exp_x, exp_y = extract_x_y(calc_projection(sides['eve'], sides['ridge']))"
   ]
  },
  {
   "cell_type": "code",
   "execution_count": 32,
   "id": "d62bed1a-39c3-4e54-abb4-1bc79f32f827",
   "metadata": {},
   "outputs": [
    {
     "name": "stderr",
     "output_type": "stream",
     "text": [
      "C:\\Users\\IL010549\\AppData\\Local\\Temp\\ipykernel_31812\\3407888984.py:15: UserWarning: No artists with labels found to put in legend.  Note that artists whose label start with an underscore are ignored when legend() is called with no argument.\n",
      "  plt.legend()\n"
     ]
    },
    {
     "data": {
      "image/png": "[encoded data removed]",
      "text/plain": [
       "<Figure size 640x480 with 1 Axes>"
      ]
     },
     "metadata": {},
     "output_type": "display_data"
    }
   ],
   "source": [
    "def plot_img():\n",
    "\n",
    "    \n",
    "    for i in new_rafters:\n",
    "        _x, _y = extract_x_y(i)\n",
    "        plt.plot(_x, _y, color='black')\n",
    "        # for i in range(len(new_rafters) - 1):\n",
    "        #     rail_start = new_rafters[i][1]\n",
    "        #     rail_end = new_rafters[i + 1][1]\n",
    "        #     x , y = extract_x_y(rail_start) ,  extract_x_y(rail_end)\n",
    "        #     plt.plot(x, y, color='black')\n",
    "            # plt.plot(rail_start , rail_end, color='black')\n",
    "            # rails.append([rail_start, rail_end])\n",
    "\n",
    "    plt.legend()\n",
    "    \n",
    "\n",
    "plot_img()"
   ]
  },
  {
   "cell_type": "code",
   "execution_count": null,
   "id": "318a7f9f",
   "metadata": {},
   "outputs": [],
   "source": []
  }
 ],
 "metadata": {
  "kernelspec": {
   "display_name": "Python 3",
   "language": "python",
   "name": "python3"
  },
  "language_info": {
   "codemirror_mode": {
    "name": "ipython",
    "version": 3
   },
   "file_extension": ".py",
   "mimetype": "text/x-python",
   "name": "python",
   "nbconvert_exporter": "python",
   "pygments_lexer": "ipython3",
   "version": "3.12.0"
  }
 },
 "nbformat": 4,
 "nbformat_minor": 5
}
