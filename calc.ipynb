{
 "cells": [
  {
   "cell_type": "code",
   "execution_count": null,
   "metadata": {},
   "outputs": [
    {
     "name": "stdout",
     "output_type": "stream",
     "text": [
      "593.6017630289045 690.4192572067632\n",
      "601.4510309420094 763.6836348847602\n",
      "741.0372060882703 744.0776190487583\n",
      "734.3740841650911 697.4328727012058\n",
      "783.1735986224593 683.9342974845005\n",
      "782.9371187670798 673.055549442196\n",
      "593.6017630289045 690.4192572067632\n"
     ]
    },
    {
     "data": {
      "text/plain": [
       "<Figure size 1200x1000 with 0 Axes>"
      ]
     },
     "metadata": {},
     "output_type": "display_data"
    }
   ],
   "source": [
    "\n",
    "after_firesetback_points = [\n",
    "    [593.6017630289045, 690.4192572067632],\n",
    "    [601.4510309420094, 763.6836348847602],\n",
    "    [741.0372060882703, 744.0776190487583],\n",
    "    [734.3740841650911, 697.4328727012058],\n",
    "    [783.1735986224593, 683.9342974845005],\n",
    "    [782.9371187670798, 673.055549442196],\n",
    "    [593.6017630289045, 690.4192572067632],\n",
    "]\n",
    "\n",
    "\n",
    "\n",
    "from matplotlib import pyplot as plt\n",
    "\n",
    "\n",
    "\n",
    "plt.figure(figsize=(12, 10))\n",
    "\n",
    "\n",
    "\n",
    "for item in after_firesetback_points:\n",
    "    # plt.plot(item[0], item[1])\n",
    "\n",
    "\n",
    "\n",
    "# plt.show()\n"
   ]
  }
 ],
 "metadata": {
  "kernelspec": {
   "display_name": "Python 3",
   "language": "python",
   "name": "python3"
  },
  "language_info": {
   "codemirror_mode": {
    "name": "ipython",
    "version": 3
   },
   "file_extension": ".py",
   "mimetype": "text/x-python",
   "name": "python",
   "nbconvert_exporter": "python",
   "pygments_lexer": "ipython3",
   "version": "3.12.0"
  }
 },
 "nbformat": 4,
 "nbformat_minor": 2
}
