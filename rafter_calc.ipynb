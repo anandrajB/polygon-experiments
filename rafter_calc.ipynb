{
 "cells": [
  {
   "cell_type": "code",
   "execution_count": 1,
   "id": "09fbd545-c5b7-48b4-b4c7-b4d8afeaf9a1",
   "metadata": {},
   "outputs": [],
   "source": [
    "import matplotlib.pyplot as plt\n",
    "import numpy as np\n",
    "\n",
    "from functions import calc_distance_bwn_2_pts"
   ]
  },
  {
   "cell_type": "code",
   "execution_count": 2,
   "id": "18717adc-60d8-4e8a-ab80-8264d49b7385",
   "metadata": {},
   "outputs": [
    {
     "data": {
      "text/plain": [
       "{'rafter_dist': 2,\n",
       " 'ridge_pts': [[604.5344770153231, 534.6435709526982],\n",
       "  [666.4931712191872, 773.4843437708195]],\n",
       " 'eve_pts': [[534.5811125916056, 1040.3064623584278],\n",
       "  [448.6384077281812, 762.491672218521]],\n",
       " 'mt_per_px': 0.06431116525314934,\n",
       " 'roof_pts': [{'x': 448.6384077281812, 'y': 762.491672218521},\n",
       "  {'x': 604.5344770153231, 'y': 534.6435709526982},\n",
       "  {'x': 666.4931712191872, 'y': 773.4843437708195},\n",
       "  {'x': 534.5811125916056, 'y': 1040.3064623584278},\n",
       "  {'x': 448.6384077281812, 'y': 762.491672218521}]}"
      ]
     },
     "execution_count": 2,
     "metadata": {},
     "output_type": "execute_result"
    }
   ],
   "source": [
    "{\n",
    "    \"rafter_dist\": 2,\n",
    "    \"ridge_pts\": [\n",
    "        [\n",
    "            604.5344770153231,\n",
    "            534.6435709526982\n",
    "        ],\n",
    "        [\n",
    "            666.4931712191872,\n",
    "            773.4843437708195\n",
    "        ]\n",
    "    ],\n",
    "    \"eve_pts\": [\n",
    "        [\n",
    "            534.5811125916056,\n",
    "            1040.3064623584278\n",
    "        ],\n",
    "        [\n",
    "            448.6384077281812,\n",
    "            762.491672218521\n",
    "        ]\n",
    "    ],\n",
    "    \"mt_per_px\": 0.06431116525314934,\n",
    "    \"roof_pts\": [\n",
    "        {\n",
    "            \"x\": 448.6384077281812,\n",
    "            \"y\": 762.491672218521\n",
    "        },\n",
    "        {\n",
    "            \"x\": 604.5344770153231,\n",
    "            \"y\": 534.6435709526982\n",
    "        },\n",
    "        {\n",
    "            \"x\": 666.4931712191872,\n",
    "            \"y\": 773.4843437708195\n",
    "        },\n",
    "        {\n",
    "            \"x\": 534.5811125916056,\n",
    "            \"y\": 1040.3064623584278\n",
    "        },\n",
    "        {\n",
    "            \"x\": 448.6384077281812,\n",
    "            \"y\": 762.491672218521\n",
    "        }\n",
    "    ]\n",
    "}"
   ]
  },
  {
   "cell_type": "code",
   "execution_count": 3,
   "id": "72d6f3fb-9489-4349-934c-e6bc3c939d31",
   "metadata": {},
   "outputs": [],
   "source": [
    "mt_per_px = 0.06431113068322548 "
   ]
  },
  {
   "cell_type": "code",
   "execution_count": 4,
   "id": "b527e7a6-4571-4945-a59c-a2ec68ceea9d",
   "metadata": {},
   "outputs": [],
   "source": [
    "sides = {\n",
    "    \"ridge\": [\n",
    "        [\n",
    "            604.5344770153231,\n",
    "            534.6435709526982\n",
    "        ],\n",
    "        [\n",
    "            666.4931712191872,\n",
    "            773.4843437708195\n",
    "        ],],\n",
    "    \"eve\":[\n",
    "        [\n",
    "            534.5811125916056,\n",
    "            1040.3064623584278\n",
    "        ],\n",
    "        [\n",
    "            448.6384077281812,\n",
    "            762.491672218521\n",
    "        ]\n",
    "    ]\n",
    "}"
   ]
  },
  {
   "cell_type": "code",
   "execution_count": 5,
   "id": "664119e3-70c5-4f45-acc6-175d91150154",
   "metadata": {},
   "outputs": [],
   "source": [
    "\n",
    "def check_point_bwn_AB(point, line, tolerence=0.0000001):\n",
    "    A = line[0]\n",
    "    B = line[1]\n",
    "    AC = calc_distance_bwn_2_pts([A, point])\n",
    "    BC = calc_distance_bwn_2_pts([B, point])\n",
    "    AB = calc_distance_bwn_2_pts(line)\n",
    "\n",
    "    status = (AB <= AC+BC+tolerence) & (AB >= (AC+BC)-tolerence)\n",
    "    return status"
   ]
  },
  {
   "cell_type": "code",
   "execution_count": 6,
   "id": "b1fed6a5-f3e6-434a-8e0e-aaf9a17c265c",
   "metadata": {},
   "outputs": [],
   "source": [
    "rafetr_distance = 3 # in feet"
   ]
  },
  {
   "cell_type": "code",
   "execution_count": 7,
   "id": "ecc34872-09e2-4904-964d-c985472b2836",
   "metadata": {},
   "outputs": [],
   "source": [
    "# 1ft = 0.3048 mt\n",
    "raf_dist_mt = rafetr_distance*0.3048"
   ]
  },
  {
   "cell_type": "code",
   "execution_count": 8,
   "id": "b336d833-42a8-43b3-936c-964ae41dd3ab",
   "metadata": {},
   "outputs": [
    {
     "data": {
      "text/plain": [
       "14.21837853394337"
      ]
     },
     "execution_count": 8,
     "metadata": {},
     "output_type": "execute_result"
    }
   ],
   "source": [
    "raf_dist_px = raf_dist_mt / mt_per_px\n",
    "raf_dist_px"
   ]
  },
  {
   "cell_type": "code",
   "execution_count": 9,
   "id": "28d7fe88-0fde-4054-bc90-00cbecc2ecdd",
   "metadata": {},
   "outputs": [],
   "source": [
    "def calc_distance(point):\n",
    "\n",
    "    dist = ( (point[1][0] - point[0][0])**2 + (point[1][1] - point[0][1])**2 )**0.5\n",
    "    return dist"
   ]
  },
  {
   "cell_type": "code",
   "execution_count": 10,
   "id": "c40e0f32-8bc1-442a-bc23-64a9fa452a98",
   "metadata": {},
   "outputs": [],
   "source": [
    "AB = calc_distance(sides['ridge'])"
   ]
  },
  {
   "cell_type": "code",
   "execution_count": 11,
   "id": "69e8b493-71b0-4308-9359-93b44fae8a1b",
   "metadata": {},
   "outputs": [
    {
     "data": {
      "text/plain": [
       "17"
      ]
     },
     "execution_count": 11,
     "metadata": {},
     "output_type": "execute_result"
    }
   ],
   "source": [
    "no_of_rafters = int(AB // raf_dist_px)\n",
    "no_of_rafters"
   ]
  },
  {
   "cell_type": "code",
   "execution_count": 12,
   "id": "6f7baf47-cd9e-4937-a1aa-3b5da3f50d77",
   "metadata": {},
   "outputs": [
    {
     "data": {
      "text/plain": [
       "0.057623444660924845"
      ]
     },
     "execution_count": 12,
     "metadata": {},
     "output_type": "execute_result"
    }
   ],
   "source": [
    "\n",
    "def calc_ratio(distance, len_of_line):\n",
    "    return distance/len_of_line\n",
    "\n",
    "calc_ratio(raf_dist_px, AB)"
   ]
  },
  {
   "cell_type": "markdown",
   "id": "30eb9cfb-36cb-41d3-86bc-dfcf1400bf01",
   "metadata": {},
   "source": [
    "## calculation of projection"
   ]
  },
  {
   "cell_type": "code",
   "execution_count": null,
   "id": "63b2f514-a940-4c62-9ced-bab931c5c721",
   "metadata": {},
   "outputs": [],
   "source": []
  },
  {
   "cell_type": "code",
   "execution_count": 13,
   "id": "d21c8b41-44f5-4a42-895d-83c99e977f0f",
   "metadata": {},
   "outputs": [],
   "source": [
    "# distance_i = raf_dist_px\n",
    "# point = sides['ridge']\n",
    "# P = []\n",
    "# for i in range(8):\n",
    "#     ratio_i = calc_ratio(distance_i, AB)\n",
    "#     u = point[0][0] + ratio_i * ( point[1][0] - point[0][0] )\n",
    "#     v = point[0][1] + ratio_i * ( point[1][1] - point[0][1] )\n",
    "#     distance_i += raf_dist_px\n",
    "#     P.append((u,v))\n",
    "\n",
    "def calc_rafter_pts(ridge_line_pts, rafter_dist_px):\n",
    "    POINTS = []\n",
    "\n",
    "    len_of_ridge = calc_distance(ridge_line_pts)\n",
    "    no_of_rafters = int(len_of_ridge // rafter_dist_px)\n",
    "    initial_distance = rafter_dist_px\n",
    "    \n",
    "    for i in range(no_of_rafters):\n",
    "        ratio_i = calc_ratio(initial_distance, len_of_ridge)\n",
    "        u = ridge_line_pts[0][0] + ratio_i * ( ridge_line_pts[1][0] - ridge_line_pts[0][0] )\n",
    "        v = ridge_line_pts[0][1] + ratio_i * ( ridge_line_pts[1][1] - ridge_line_pts[0][1] )\n",
    "        initial_distance += raf_dist_px\n",
    "        POINTS.append((u,v))\n",
    "\n",
    "    return POINTS"
   ]
  },
  {
   "cell_type": "code",
   "execution_count": 14,
   "id": "8288c311-bdff-4438-9d03-51b519ed9ec8",
   "metadata": {},
   "outputs": [],
   "source": [
    "def calc_perpendicular(ridge_pts, rafter_pt, D):\n",
    "# def calc_perpendicular(x1, y1, x2, y2, Px1, Py1, D):\n",
    "    x1, y1 = ridge_pts[0][0], ridge_pts[0][1]\n",
    "    x2, y2 = ridge_pts[1][0], ridge_pts[1][1]\n",
    "    Px1, Py1 = rafter_pt[0], rafter_pt[1]\n",
    "    \n",
    "    ABx = x2 - x1\n",
    "    ABy = y2 - y1\n",
    "    \n",
    "    # Normalize the direction vector\n",
    "    length_AB = (ABx**2 + ABy**2)**0.5\n",
    "    ux = ABx / length_AB\n",
    "    uy = ABy / length_AB\n",
    "    \n",
    "    # Perpendicular vector\n",
    "    vx = -uy\n",
    "    vy = ux\n",
    "    \n",
    "    # Calculate the coordinates of point Q at distance D from P\n",
    "    Qx1 = Px1 + D * vx\n",
    "    Qy1 = Py1 + D * vy\n",
    "    \n",
    "    return Qx1, Qy1"
   ]
  },
  {
   "cell_type": "code",
   "execution_count": null,
   "id": "da8f8681-8a7a-4e92-91d7-887ba9e262f0",
   "metadata": {},
   "outputs": [],
   "source": []
  },
  {
   "cell_type": "code",
   "execution_count": 15,
   "id": "6aa35b0d-cb6f-4677-a750-3690c9e73628",
   "metadata": {},
   "outputs": [],
   "source": [
    "eve_pts = np.array(sides['eve'])\n"
   ]
  },
  {
   "cell_type": "markdown",
   "id": "85c24cad-6809-44a8-adb0-9fdecb2d40a3",
   "metadata": {},
   "source": [
    "## calculation of POI"
   ]
  },
  {
   "cell_type": "code",
   "execution_count": 16,
   "id": "458ea3a0-8bae-4a57-87ad-c4ab6e90fb90",
   "metadata": {},
   "outputs": [],
   "source": [
    "def extract_x_y(line_pts):\n",
    "    line_pts = np.array(line_pts)\n",
    "    return line_pts[:, :1].flatten(), line_pts[:, 1:].flatten()"
   ]
  },
  {
   "cell_type": "code",
   "execution_count": 17,
   "id": "7cf4f7f4-ff2d-4444-b325-3c51ba3c4a86",
   "metadata": {},
   "outputs": [],
   "source": [
    "def calc_poi(rafter_pts, eve_pts):\n",
    "    rafter_pts = np.array(rafter_pts)\n",
    "    eve_pts = np.array(eve_pts)\n",
    "    eve_x, eve_y = extract_x_y(eve_pts)\n",
    "    rafter_x, rafter_y = extract_x_y(rafter_pts)\n",
    "\n",
    "    eve_dx = eve_x[1] - eve_x[0]\n",
    "    eve_dy = eve_y[1] - eve_y[0]\n",
    "\n",
    "    rafter_dx = rafter_x[1] - rafter_x[0]\n",
    "    rafter_dy = rafter_y[1] - rafter_y[0]\n",
    "\n",
    "    eve_slope = eve_dy / eve_dx\n",
    "    rafter_slope = rafter_dy / rafter_dx\n",
    "\n",
    "    rafter_c = rafter_y[0] - (rafter_slope * rafter_x[0])\n",
    "    eve_c = eve_y[0] - (eve_slope * eve_x[0])\n",
    "\n",
    "    x = (rafter_c - eve_c) / (eve_slope - rafter_slope)\n",
    "    y = (eve_slope*x) + eve_c\n",
    "\n",
    "    return x, y"
   ]
  },
  {
   "cell_type": "code",
   "execution_count": 18,
   "id": "71656446-84c7-4997-b02e-95ecf9487668",
   "metadata": {},
   "outputs": [],
   "source": [
    "def calc_projection(eve_pts, ridge_pts):\n",
    "    eve_len = calc_distance(eve_pts)\n",
    "    ridge_len = calc_distance(eve_pts)\n",
    "\n",
    "    eve_x, eve_y = extract_x_y(eve_pts)\n",
    "    ridge_x, ridge_y = extract_x_y(ridge_pts)\n",
    "\n",
    "    eve_start = calc_perpendicular(eve_pts, [eve_x[0], eve_y[0]], 3)\n",
    "    eve_end = calc_perpendicular(eve_pts, [eve_x[1], eve_y[1]], 3)\n",
    "\n",
    "    eve_start_proj = calc_poi([eve_pts[0], eve_start], ridge_pts)\n",
    "    eve_end_proj = calc_poi([eve_pts[1], eve_end], ridge_pts)\n",
    "\n",
    "    return eve_start_proj, eve_end_proj"
   ]
  },
  {
   "cell_type": "code",
   "execution_count": 19,
   "id": "8d60e81b-6de4-4768-9977-7967fcec68a1",
   "metadata": {},
   "outputs": [
    {
     "data": {
      "text/plain": [
       "((np.float64(720.7689666238431), np.float64(982.7087808952188)),\n",
       " (np.float64(647.6692059140702), np.float64(700.9209936430298)))"
      ]
     },
     "execution_count": 19,
     "metadata": {},
     "output_type": "execute_result"
    }
   ],
   "source": [
    "calc_projection(sides['eve'], sides['ridge'])"
   ]
  },
  {
   "cell_type": "markdown",
   "id": "e1d1eba5-04c3-4f32-9c18-9321e398ed3c",
   "metadata": {},
   "source": [
    "## New projection Algorithm"
   ]
  },
  {
   "cell_type": "code",
   "execution_count": 20,
   "id": "c957dc20-eca1-43a6-aadb-b09b2c5fdd53",
   "metadata": {},
   "outputs": [],
   "source": [
    "\n",
    "def calc_pt_projection_on_line(line1, line2, pt=2):\n",
    "    \"\"\"\n",
    "    line1: [ [x1,y1], [x2,y2] ] -> the line which the points are referenced\n",
    "    line2: [ [x1,y1], [x2,y2] ] -> the line which has the projected\n",
    "    pt: 0 or 1 or 2 -> 0 this will say only first pt will be projected\n",
    "                   -> 1 this will say only the last pt has to be projected\n",
    "                -> 2 -> both the points will be projectec and extended if necessary\n",
    "    returns: ([x1,y1], [x2,y2])\n",
    "    \"\"\"\n",
    "    pt_0_perp_line = [line1[0], calc_perpendicular(line1, line1[0], 1)]\n",
    "    new_pt_0 = calc_poi(line2, pt_0_perp_line)\n",
    " \n",
    "    if check_point_bwn_AB(new_pt_0, line2):\n",
    "        new_pt_0 = line2[0]\n",
    "\n",
    "    if pt==0:\n",
    "        return [new_pt_0, line2[1]]\n",
    "    \n",
    "    pt_1_perp_line = [calc_perpendicular(line1, line1[1], 1), line1[1]]\n",
    "    new_pt_1 = calc_poi(line2, pt_1_perp_line)\n",
    " \n",
    "    if check_point_bwn_AB(new_pt_1, line2):\n",
    "        new_pt_1 = line2[1]\n",
    "\n",
    "    if pt==1:\n",
    "        return [line2[0], new_pt_1]\n",
    "        \n",
    "    return [new_pt_0, new_pt_1]\n",
    "\n",
    "   \n",
    "    # return [pt_0_intersection, pt_1_intersection]\n"
   ]
  },
  {
   "cell_type": "markdown",
   "id": "0b58ea19-46a6-4854-b817-e51e63bdfced",
   "metadata": {},
   "source": [
    "# Execution"
   ]
  },
  {
   "cell_type": "code",
   "execution_count": 21,
   "id": "fabca69f-cfc3-4802-9fde-a55c2a4e1cf4",
   "metadata": {},
   "outputs": [
    {
     "name": "stdout",
     "output_type": "stream",
     "text": [
      "(np.float64(717.1986932371265), np.float64(968.9459528399727))\n",
      "(np.float64(713.628419850407), np.float64(955.1831247847151))\n",
      "(np.float64(710.0581464636874), np.float64(941.4202967294576))\n",
      "(np.float64(706.487873076968), np.float64(927.6574686742001))\n",
      "(np.float64(702.9175996902484), np.float64(913.8946406189425))\n",
      "(np.float64(699.3473263035289), np.float64(900.131812563685))\n",
      "(np.float64(695.7770529168093), np.float64(886.3689845084275))\n",
      "(np.float64(692.2067795300898), np.float64(872.60615645317))\n",
      "(np.float64(688.6365061433703), np.float64(858.8433283979125))\n",
      "(np.float64(685.0662327566507), np.float64(845.0805003426549))\n",
      "(np.float64(681.4959593699313), np.float64(831.3176722873974))\n",
      "(np.float64(677.9256859832117), np.float64(817.5548442321399))\n",
      "(np.float64(674.3554125964922), np.float64(803.7920161768823))\n",
      "(np.float64(670.7851392097726), np.float64(790.0291881216248))\n",
      "(np.float64(667.2148658230531), np.float64(776.2663600663673))\n"
     ]
    }
   ],
   "source": [
    "#rafter_dist_px #known already\n",
    "\n",
    "projected_line = calc_pt_projection_on_line(sides['eve'], sides['ridge'])\n",
    "# projected_line = calc_projection(sides['eve'], sides['ridge'])\n",
    "# projected_line2 = calc_pt_projection_on_line(sides['ridge'], sides['eve'])\n",
    "\n",
    "\n",
    "# rafter_points = calc_rafter_pts(sides['ridge'], raf_dist_px)\n",
    "rafter_points = calc_rafter_pts(projected_line, raf_dist_px)\n",
    "perp_pts = []\n",
    "temp_p = []\n",
    "for p in rafter_points:\n",
    "    print(p)\n",
    "    # perp = calc_perpendicular(sides['ridge'][0][0], sides['ridge'][0][1], sides['ridge'][1][0], sides['ridge'][1][1], p[0], p[1], 5)\n",
    "    perp = calc_perpendicular(sides['ridge'], p, 5)\n",
    "    # print(\"--\",perp)\n",
    "    rafter_pt = np.array([perp, p])\n",
    "\n",
    "    temp_p.append(perp)\n",
    "    projection = calc_poi(rafter_pt, sides['eve'])\n",
    "    perp_pts.append(projection)"
   ]
  },
  {
   "cell_type": "code",
   "execution_count": 22,
   "id": "56b2e186-0216-4a89-9090-bc78a992f88c",
   "metadata": {},
   "outputs": [
    {
     "data": {
      "text/plain": [
       "[(np.float64(712.3588909972291), np.float64(970.2014663917453)),\n",
       " (np.float64(708.7886176105096), np.float64(956.4386383364877)),\n",
       " (np.float64(705.21834422379), np.float64(942.6758102812302)),\n",
       " (np.float64(701.6480708370706), np.float64(928.9129822259727)),\n",
       " (np.float64(698.077797450351), np.float64(915.150154170715)),\n",
       " (np.float64(694.5075240636315), np.float64(901.3873261154575)),\n",
       " (np.float64(690.937250676912), np.float64(887.6244980602)),\n",
       " (np.float64(687.3669772901924), np.float64(873.8616700049425)),\n",
       " (np.float64(683.7967039034729), np.float64(860.098841949685)),\n",
       " (np.float64(680.2264305167533), np.float64(846.3360138944274)),\n",
       " (np.float64(676.6561571300339), np.float64(832.5731858391699)),\n",
       " (np.float64(673.0858837433143), np.float64(818.8103577839124)),\n",
       " (np.float64(669.5156103565948), np.float64(805.0475297286548)),\n",
       " (np.float64(665.9453369698753), np.float64(791.2847016733973)),\n",
       " (np.float64(662.3750635831557), np.float64(777.5218736181398))]"
      ]
     },
     "execution_count": 22,
     "metadata": {},
     "output_type": "execute_result"
    }
   ],
   "source": [
    "temp_p"
   ]
  },
  {
   "cell_type": "code",
   "execution_count": 28,
   "id": "8272ba1b-6432-401a-9c04-8dad0f372a73",
   "metadata": {},
   "outputs": [],
   "source": [
    "r_x, r_y = extract_x_y(np.array(sides['ridge']))\n",
    "raf_x, raf_y = extract_x_y(rafter_points)\n",
    "\n",
    "e_x, e_y = extract_x_y(sides['eve'])\n",
    "\n",
    "raf_eve_x, raf_eve_y = extract_x_y(perp_pts)\n",
    "\n",
    "# exp_x, exp_y = extract_x_y(calc_projection(sides['eve'], sides['ridge']))\n",
    "exp_x, exp_y = extract_x_y(projected_line)\n",
    "# exp_x1, exp_y1 = extract_x_y(projected_line2)\n"
   ]
  },
  {
   "cell_type": "code",
   "execution_count": 29,
   "id": "631403c4-873a-4327-964b-f1d4145254c1",
   "metadata": {},
   "outputs": [
    {
     "data": {
      "text/plain": [
       "(np.float64(717.1986932371265), np.float64(527.7119542245032))"
      ]
     },
     "execution_count": 29,
     "metadata": {},
     "output_type": "execute_result"
    }
   ],
   "source": [
    "rafter_points[0][0], perp_pts[0][0]"
   ]
  },
  {
   "cell_type": "code",
   "execution_count": 30,
   "id": "0de59dc0-567e-4365-8508-814adf781b71",
   "metadata": {},
   "outputs": [],
   "source": [
    "roof_side1 = extract_x_y([sides['ridge'][0], sides['eve'][0]])\n",
    "roof_side2 = extract_x_y([sides['ridge'][1], sides['eve'][1]])"
   ]
  },
  {
   "cell_type": "markdown",
   "id": "663ef516-dcbd-4d37-bcf8-da70a37240e0",
   "metadata": {},
   "source": [
    "### Just Displaying the points in graph"
   ]
  },
  {
   "cell_type": "code",
   "execution_count": 33,
   "id": "dceb008b-052b-482f-a783-1241eadb02bd",
   "metadata": {},
   "outputs": [
    {
     "data": {
      "image/png": "[encoded data removed]",
      "text/plain": [
       "<Figure size 640x480 with 1 Axes>"
      ]
     },
     "metadata": {},
     "output_type": "display_data"
    }
   ],
   "source": [
    "def plot_img():\n",
    "\n",
    "    plt.plot(r_x, r_y, label=\"ridge\", linewidth=10)\n",
    "    # plt.scatter(raf_x, raf_y)\n",
    "\n",
    "    plt.plot(e_x, e_y, label=\"eve\")\n",
    "    # plt.scatter(raf_eve_x, raf_eve_y)\n",
    "\n",
    "    # plt.plot(roof_side1[0], roof_side1[1], c='blue', linestyle=\"dashed\" )\n",
    "    # # plt.plot(roof_side2[0], roof_side2[1], c='blue', linestyle=\"dashed\" )\n",
    "    \n",
    "    # for pt in range(len(raf_eve_x)):\n",
    "    #     temp_x = [rafter_points[pt][0], perp_pts[pt][0]]\n",
    "    #     temp_y = [rafter_points[pt][1], perp_pts[pt][1]]\n",
    "    #     plt.plot(temp_x, temp_y, c='black')\n",
    "    # plt.legend()\n",
    "    plt.plot(exp_x, exp_y, c=\"r\", linestyle=\"dashed\")\n",
    "    # plt.plot(exp_x1, exp_y1, c=\"g\", linestyle=\"dashed\")\n",
    "    # plt.show()\n",
    "    \n",
    "    # plt.scatter(18.860524810780408, 26.028350181857476)\n",
    "    \n",
    "    # plt.ylim(0,100)\n",
    "\n",
    "plot_img()"
   ]
  },
  {
   "cell_type": "code",
   "execution_count": null,
   "id": "b2b645a0-94de-47c5-b026-702249312b28",
   "metadata": {},
   "outputs": [],
   "source": []
  },
  {
   "cell_type": "code",
   "execution_count": 340,
   "id": "da520af7-ec0c-45ab-aa18-748b7efeb12c",
   "metadata": {},
   "outputs": [
    {
     "data": {
      "text/plain": [
       "(np.float64(1780.5172154669633), np.float64(5067.867353048539))"
      ]
     },
     "execution_count": 340,
     "metadata": {},
     "output_type": "execute_result"
    }
   ],
   "source": [
    "calc_poi(sides['ridge'], sides['eve'])"
   ]
  },
  {
   "cell_type": "code",
   "execution_count": 284,
   "id": "3d5bbce4-df14-4fbc-9650-0b51f1b9eddd",
   "metadata": {},
   "outputs": [],
   "source": [
    "# perp = calc_perpendicular(10, 20, 90, 29, P[0][0], P[0][1], 25) "
   ]
  },
  {
   "cell_type": "code",
   "execution_count": 285,
   "id": "ca2049db-1e6b-4ce9-9de8-135cfadabbfd",
   "metadata": {},
   "outputs": [
    {
     "ename": "NameError",
     "evalue": "name 'P' is not defined",
     "output_type": "error",
     "traceback": [
      "\u001b[1;31m---------------------------------------------------------------------------\u001b[0m",
      "\u001b[1;31mNameError\u001b[0m                                 Traceback (most recent call last)",
      "Cell \u001b[1;32mIn[285], line 1\u001b[0m\n\u001b[1;32m----> 1\u001b[0m rafter_line \u001b[38;5;241m=\u001b[39m np\u001b[38;5;241m.\u001b[39marray([\u001b[43mP\u001b[49m[\u001b[38;5;241m0\u001b[39m], perp])\n\u001b[0;32m      2\u001b[0m eve_line \u001b[38;5;241m=\u001b[39m np\u001b[38;5;241m.\u001b[39marray(sides[\u001b[38;5;124m'\u001b[39m\u001b[38;5;124meve\u001b[39m\u001b[38;5;124m'\u001b[39m])\n\u001b[0;32m      3\u001b[0m eve_line, rafter_line\n",
      "\u001b[1;31mNameError\u001b[0m: name 'P' is not defined"
     ]
    }
   ],
   "source": [
    "rafter_line = np.array([P[0], perp])\n",
    "eve_line = np.array(sides['eve'])\n",
    "eve_line, rafter_line"
   ]
  },
  {
   "cell_type": "code",
   "execution_count": 286,
   "id": "6b6c1d30-60c4-40cb-9156-3336d719d725",
   "metadata": {},
   "outputs": [
    {
     "data": {
      "text/plain": [
       "[[604.5344770153231, 534.6435709526982],\n",
       " [666.4931712191872, 773.4843437708195]]"
      ]
     },
     "execution_count": 286,
     "metadata": {},
     "output_type": "execute_result"
    }
   ],
   "source": [
    "sides['ridge']"
   ]
  },
  {
   "cell_type": "code",
   "execution_count": 149,
   "id": "931f91ca-55b2-4f7c-bb10-9a3deeb57e3e",
   "metadata": {},
   "outputs": [
    {
     "name": "stdout",
     "output_type": "stream",
     "text": [
      "(19.419498676119733, 21.05969360106347)\n",
      "(28.838997352239467, 22.11938720212694)\n",
      "(38.2584960283592, 23.17908080319041)\n",
      "(47.677994704478934, 24.23877440425388)\n",
      "(57.097493380598664, 25.29846800531735)\n",
      "(66.51699205671841, 26.35816160638082)\n",
      "(75.93649073283812, 27.41785520744429)\n",
      "(85.35598940895787, 28.47754880850776)\n"
     ]
    }
   ],
   "source": [
    "Mi = []\n",
    "for p in P:\n",
    "    rafter = calc_perpendicular(10, 20, 90, 29, P[0][0], P[0][1], 25) "
   ]
  },
  {
   "cell_type": "code",
   "execution_count": 147,
   "id": "5b8bb233-9b96-43e5-b142-5459f0c77761",
   "metadata": {},
   "outputs": [
    {
     "data": {
      "text/plain": [
       "(array([16.11832432]), array([50.40346568]))"
      ]
     },
     "execution_count": 147,
     "metadata": {},
     "output_type": "execute_result"
    }
   ],
   "source": [
    "meet_point = calc_poi(eve_line, rafter_line)\n",
    "meet_point"
   ]
  },
  {
   "cell_type": "code",
   "execution_count": 132,
   "id": "72bad98a-a156-4a3e-975a-a3f4694d0186",
   "metadata": {},
   "outputs": [
    {
     "data": {
      "text/plain": [
       "49.69026547"
      ]
     },
     "execution_count": 132,
     "metadata": {},
     "output_type": "execute_result"
    }
   ],
   "source": [
    "-0.04424779*7+50"
   ]
  },
  {
   "cell_type": "code",
   "execution_count": 135,
   "id": "33f6e1ef-8dcb-404e-8b50-d44705e594d8",
   "metadata": {},
   "outputs": [
    {
     "data": {
      "text/plain": [
       "18.875"
      ]
     },
     "execution_count": 135,
     "metadata": {},
     "output_type": "execute_result"
    }
   ],
   "source": [
    "-0.1125*19.419498676119733 + 21.05969360106347"
   ]
  },
  {
   "cell_type": "markdown",
   "id": "32ffc88c-744f-42ca-97f6-336b737d9c43",
   "metadata": {},
   "source": [
    "## Drawing Roof Inner Plane"
   ]
  },
  {
   "cell_type": "code",
   "execution_count": 261,
   "id": "a7bb1a05-fe2f-49f1-9e13-353213515097",
   "metadata": {},
   "outputs": [],
   "source": [
    "pts = [\n",
    "    {\n",
    "        \"x\": 813.4576948700866,\n",
    "        \"y\": 302.7981345769487\n",
    "    },\n",
    "    {\n",
    "        \"x\": 609.5936042638241,\n",
    "        \"y\": 582.6115922718187\n",
    "    },\n",
    "    {\n",
    "        \"x\": 654.5636242504996,\n",
    "        \"y\": 713.5243171219187\n",
    "    },\n",
    "    {\n",
    "        \"x\": 1007.3284477015322,\n",
    "        \"y\": 840.439706862092\n",
    "    },\n",
    "    {\n",
    "        \"x\": 813.4576948700866,\n",
    "        \"y\": 302.7981345769487\n",
    "    }\n",
    "]"
   ]
  },
  {
   "cell_type": "code",
   "execution_count": 268,
   "id": "f11576a6-bb70-453e-9cb1-068720de40c4",
   "metadata": {},
   "outputs": [
    {
     "name": "stdout",
     "output_type": "stream",
     "text": [
      "{'x': 813.4576948700866, 'y': 302.7981345769487} {'x': 609.5936042638241, 'y': 582.6115922718187}\n",
      "{'x': 609.5936042638241, 'y': 582.6115922718187} {'x': 654.5636242504996, 'y': 713.5243171219187}\n",
      "{'x': 654.5636242504996, 'y': 713.5243171219187} {'x': 1007.3284477015322, 'y': 840.439706862092}\n",
      "{'x': 1007.3284477015322, 'y': 840.439706862092} {'x': 813.4576948700866, 'y': 302.7981345769487}\n"
     ]
    }
   ],
   "source": [
    "for i in range(len(pts)):\n",
    "    if(i<len(pts)-1):\n",
    "        print(pts[i], pts[i+1])\n"
   ]
  }
 ],
 "metadata": {
  "kernelspec": {
   "display_name": "Python 3 (ipykernel)",
   "language": "python",
   "name": "python3"
  },
  "language_info": {
   "codemirror_mode": {
    "name": "ipython",
    "version": 3
   },
   "file_extension": ".py",
   "mimetype": "text/x-python",
   "name": "python",
   "nbconvert_exporter": "python",
   "pygments_lexer": "ipython3",
   "version": "3.12.0"
  }
 },
 "nbformat": 4,
 "nbformat_minor": 5
}
