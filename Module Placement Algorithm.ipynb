{
 "cells": [
  {
   "cell_type": "markdown",
   "id": "ff654e2e-1eac-4a20-aa05-3abb1ce11e44",
   "metadata": {},
   "source": [
    "## Module Placement Algorithm"
   ]
  },
  {
   "cell_type": "code",
   "execution_count": 1,
   "id": "26c61a87-7c7e-4ea2-ac0f-850f753b9bad",
   "metadata": {},
   "outputs": [],
   "source": [
    "import numpy as np\n",
    "import matplotlib.pyplot as plt\n",
    "import shapely\n",
    "from shapely import Point\n",
    "from shapely.affinity import rotate, translate"
   ]
  },
  {
   "cell_type": "code",
   "execution_count": 2,
   "id": "74258f85-1340-4a0b-bedc-da089f975b63",
   "metadata": {},
   "outputs": [],
   "source": [
    "roof = [\n",
    "    {\n",
    "        \"x\": 872.5026975798373,\n",
    "        \"y\": 625.7414298352895\n",
    "    },\n",
    "    {\n",
    "        \"x\": 442.5233711108871,\n",
    "        \"y\": 675.2486443967465\n",
    "    },\n",
    "    {\n",
    "        \"x\": 459.57598163441736,\n",
    "        \"y\": 838.4664879791068\n",
    "    },\n",
    "    {\n",
    "        \"x\": 788.1723154108191,\n",
    "        \"y\": 801.7568158133508\n",
    "    },\n",
    "    {\n",
    "        \"x\": 775.2999242413591,\n",
    "        \"y\": 702.7384222021205\n",
    "    },\n",
    "    {\n",
    "        \"x\": 875.604035686002,\n",
    "        \"y\": 686.5276567161176\n",
    "    },\n",
    "    {\n",
    "        \"x\": 872.5026975798373,\n",
    "        \"y\": 625.7414298352895\n",
    "    }\n",
    "]"
   ]
  },
  {
   "cell_type": "code",
   "execution_count": 3,
   "id": "e079f14a-0038-4bba-9d52-3ab7e7863a95",
   "metadata": {},
   "outputs": [],
   "source": [
    "roof_pts = [[pt['x'], pt['y']] for pt in roof]"
   ]
  },
  {
   "cell_type": "code",
   "execution_count": 4,
   "id": "8a84cab5-42bf-4729-aca6-035f4400b6b1",
   "metadata": {},
   "outputs": [
    {
     "data": {
      "text/plain": [
       "[[872.5026975798373, 625.7414298352895],\n",
       " [442.5233711108871, 675.2486443967465],\n",
       " [459.57598163441736, 838.4664879791068],\n",
       " [788.1723154108191, 801.7568158133508],\n",
       " [775.2999242413591, 702.7384222021205],\n",
       " [875.604035686002, 686.5276567161176],\n",
       " [872.5026975798373, 625.7414298352895]]"
      ]
     },
     "execution_count": 4,
     "metadata": {},
     "output_type": "execute_result"
    }
   ],
   "source": [
    "roof_pts"
   ]
  },
  {
   "cell_type": "code",
   "execution_count": 5,
   "id": "4ab006db-8936-4c22-aaae-9a49fd64972e",
   "metadata": {},
   "outputs": [
    {
     "data": {
      "image/svg+xml": [
       "<svg xmlns=\"http://www.w3.org/2000/svg\" xmlns:xlink=\"http://www.w3.org/1999/xlink\" width=\"300\" height=\"247.37151130982647\" viewBox=\"425.2001445278825 608.4182032522849 467.7271177411241 247.37151130982647\" preserveAspectRatio=\"xMinYMin meet\"><g transform=\"matrix(1,0,0,-1,0,1464.2079178143963)\"><path fill-rule=\"evenodd\" fill=\"#66cc99\" stroke=\"#555555\" stroke-width=\"3.1181807849408276\" opacity=\"0.6\" d=\"M 872.5026975798373,625.7414298352895 L 442.5233711108871,675.2486443967465 L 459.57598163441736,838.4664879791068 L 788.1723154108191,801.7568158133508 L 775.2999242413591,702.7384222021205 L 875.604035686002,686.5276567161176 L 872.5026975798373,625.7414298352895 z\" /></g></svg>"
      ],
      "text/plain": [
       "<POLYGON ((872.503 625.741, 442.523 675.249, 459.576 838.466, 788.172 801.75...>"
      ]
     },
     "execution_count": 5,
     "metadata": {},
     "output_type": "execute_result"
    }
   ],
   "source": [
    "roof_polygon = shapely.polygons(roof_pts)\n",
    "roof_polygon"
   ]
  },
  {
   "cell_type": "markdown",
   "id": "e28a3fc2-4739-4c4b-83d3-e0df11e7e28e",
   "metadata": {},
   "source": [
    "```\n",
    "1.We need a map of actual roof to the fireset back of the roof\n",
    "Make a mapping of the side to the firesetback \n",
    "\n",
    "```"
   ]
  },
  {
   "cell_type": "code",
   "execution_count": 6,
   "id": "9264e1be-9bd3-4f17-b498-afa68e48eca6",
   "metadata": {},
   "outputs": [],
   "source": [
    "ridge = [\n",
    "    [\n",
    "        890.4063957361758,\n",
    "        604.5969353764157\n",
    "    ],\n",
    "    [\n",
    "        421.7188540972685,\n",
    "        658.5609593604264\n",
    "    ]\n",
    "]"
   ]
  },
  {
   "cell_type": "code",
   "execution_count": 7,
   "id": "95798ccb-b99a-494b-9916-fa1e278cd27f",
   "metadata": {},
   "outputs": [],
   "source": [
    "def calc_slope(line):\n",
    "    y2_y1 = line[1][1]-line[0][1]\n",
    "    x2_x1 = line[1][0]-line[0][0]\n",
    "    return np.arctan(y2_y1/x2_x1)"
   ]
  },
  {
   "cell_type": "code",
   "execution_count": 8,
   "id": "41cb703b-5ff5-4594-b989-88c0b10389bf",
   "metadata": {},
   "outputs": [],
   "source": [
    "def extract_x_y(line_pts):\n",
    "    line_pts = np.array(line_pts)\n",
    "    return line_pts[:, :1].flatten(), line_pts[:, 1:].flatten()"
   ]
  },
  {
   "cell_type": "code",
   "execution_count": 9,
   "id": "ed743659-595e-4d90-a7fa-3fe53ab59556",
   "metadata": {},
   "outputs": [],
   "source": [
    "ridge_line = shapely.LineString(ridge)"
   ]
  },
  {
   "cell_type": "code",
   "execution_count": 10,
   "id": "4dd209c1-5b35-411f-963e-99befc865fb0",
   "metadata": {},
   "outputs": [],
   "source": [
    "ridge_angle = calc_slope(ridge)"
   ]
  },
  {
   "cell_type": "code",
   "execution_count": 11,
   "id": "43a1a6fd-5305-4a17-9d06-1b47a61bcd83",
   "metadata": {},
   "outputs": [],
   "source": [
    "x, y = extract_x_y(roof_pts)"
   ]
  },
  {
   "cell_type": "code",
   "execution_count": null,
   "id": "f730af60-bd64-4bc1-aee1-04abae68223a",
   "metadata": {},
   "outputs": [],
   "source": []
  },
  {
   "cell_type": "code",
   "execution_count": 12,
   "id": "779c2e82-2849-49ed-93fb-421cdb74a183",
   "metadata": {},
   "outputs": [],
   "source": [
    "import numpy as np"
   ]
  },
  {
   "cell_type": "code",
   "execution_count": 13,
   "id": "f3baf302-1253-4cd4-b2a9-832f06cfbedb",
   "metadata": {},
   "outputs": [],
   "source": [
    "# nx,ny = (3,2)\n",
    "# # x = np.linspace(0, 1, nx)\n",
    "# # y = np.linspace(0, 1, ny)\n",
    "# xv, yv = np.meshgrid(x,y)\n",
    "\n",
    "# import matplotlib.pyplot as plt\n",
    "# plt.plot(xv, yv, marker='o', color='k', linestyle='-')\n",
    "# plt.show()"
   ]
  },
  {
   "cell_type": "code",
   "execution_count": 14,
   "id": "2fd2133a-fca3-4630-9273-988b71d3f47b",
   "metadata": {},
   "outputs": [],
   "source": [
    "roof_polygon1 = rotate(roof_polygon, ridge_angle, use_radians=True)"
   ]
  },
  {
   "cell_type": "code",
   "execution_count": null,
   "id": "5f9c177d-e20a-491e-a86b-303eb7164526",
   "metadata": {},
   "outputs": [],
   "source": []
  },
  {
   "cell_type": "code",
   "execution_count": 15,
   "id": "df49a7e4-f7c8-4ae0-9249-f06d87694736",
   "metadata": {},
   "outputs": [],
   "source": [
    "from shapely.prepared import prep\n",
    "\n",
    "\n",
    "polygon = roof_polygon\n",
    "latmin, lonmin, latmax, lonmax = polygon.bounds\n",
    "x1, y1, x2, y2 = polygon.bounds\n",
    "\n",
    "\n",
    "\n",
    "\n",
    "# new_bounds = shapely.LineString([[x1, x2], [0,0]])\n",
    "# new_bounds1 = shapely.LineString([[0,0], [y1,y2]])\n",
    "\n",
    "# # new_bounds1 = rotate(shapely.LineString([[0,0], [y1,y2]]), ridge_angle, use_radians=True)\n",
    "\n",
    "\n",
    "# # latmin, latmax, lonmin, lonmax = new_bounds.bounds\n",
    "\n",
    "\n",
    "# # # create prepared polygon\n",
    "prep_polygon = prep(polygon)\n",
    "\n",
    "# # # construct a rectangular mesh\n",
    "# # points = []\n",
    "\n",
    "# # lat_res = 50\n",
    "# # lon_res = 30\n",
    "\n",
    "\n",
    "# # for lat in np.arange(latmin, latmax, lat_res):\n",
    "# #     for lon in np.arange(lonmin, lonmax, lon_res):\n",
    "# #         points.append(Point((round(lat,3), round(lon,3))))\n",
    "\n",
    "# # # validate if each point falls inside shape using\n",
    "# # valid_points = []\n",
    "# # # the prepared polygon\n",
    "# # valid_points.extend(filter(prep_polygon.contains, points))"
   ]
  },
  {
   "cell_type": "markdown",
   "id": "ab4a5355-8383-46b1-9a83-cab33c09934a",
   "metadata": {},
   "source": [
    "## finding the x and y axis and then we need to translate them with respect to the ridge angle"
   ]
  },
  {
   "cell_type": "code",
   "execution_count": 16,
   "id": "c1dfd38e-f727-41af-bf6c-e26def1815a0",
   "metadata": {},
   "outputs": [],
   "source": [
    "# we need two lines the \n",
    "# origin (x1, y1)\n",
    "# l1 = (x1,  y1), (x1, y2)\n",
    "# l2 = (x1, y1), (x2, y1)\n",
    "\n",
    "l1 = shapely.LineString([[x1, x1], [y1, y2]])\n",
    "l2 = shapely.LineString([[x1, x2], [y1, y1]])"
   ]
  },
  {
   "cell_type": "code",
   "execution_count": 17,
   "id": "d25b13e2-571e-439c-b59f-f209476de3aa",
   "metadata": {},
   "outputs": [
    {
     "data": {
      "text/plain": [
       "[<matplotlib.lines.Line2D at 0x1496f863e90>]"
      ]
     },
     "execution_count": 17,
     "metadata": {},
     "output_type": "execute_result"
    },
    {
     "data": {
      "image/png": "[encoded data removed]",
      "text/plain": [
       "<Figure size 640x480 with 1 Axes>"
      ]
     },
     "metadata": {},
     "output_type": "display_data"
    }
   ],
   "source": [
    "plt.plot([x1, x1], [y1, y2])\n",
    "plt.plot([x1, x2], [y1, y1])"
   ]
  },
  {
   "cell_type": "markdown",
   "id": "8920cf6e-bef2-4478-a384-3314442fb821",
   "metadata": {},
   "source": [
    "## Rotating of lines"
   ]
  },
  {
   "cell_type": "code",
   "execution_count": 18,
   "id": "1ab4c95f-cc90-4a01-926e-fddfc4018a2a",
   "metadata": {},
   "outputs": [],
   "source": [
    "P1 = shapely.Point(x1, y1) ## origin\n",
    "P2 = shapely.Point(x1, y2)\n",
    "P3 = shapely.Point(x2, y1)\n",
    "P4 = shapely.Point(x2, y2)"
   ]
  },
  {
   "cell_type": "code",
   "execution_count": 19,
   "id": "c2499fc8-5dee-48c3-96a8-ff80bab5a573",
   "metadata": {},
   "outputs": [],
   "source": [
    "new_poly = rotate(shapely.Polygon([P1, P2, P3, P4]), ridge_angle, use_radians=True)"
   ]
  },
  {
   "cell_type": "markdown",
   "id": "bad5a342-5f3d-4b14-9c3b-17972ee69868",
   "metadata": {},
   "source": [
    "## Lower Triangle"
   ]
  },
  {
   "cell_type": "code",
   "execution_count": 20,
   "id": "15577ff7-faff-491a-b310-ee5c2a305b93",
   "metadata": {},
   "outputs": [
    {
     "data": {
      "image/svg+xml": [
       "<svg xmlns=\"http://www.w3.org/2000/svg\" xmlns:xlink=\"http://www.w3.org/1999/xlink\" width=\"300\" height=\"247.37151130982647\" viewBox=\"425.2001445278825 608.4182032522849 467.7271177411241 247.37151130982647\" preserveAspectRatio=\"xMinYMin meet\"><g transform=\"matrix(1,0,0,-1,0,1464.2079178143963)\"><path fill-rule=\"evenodd\" fill=\"#66cc99\" stroke=\"#555555\" stroke-width=\"3.1181807849408276\" opacity=\"0.6\" d=\"M 442.5233711108871,838.4664879791068 L 442.5233711108871,625.7414298352895 L 875.604035686002,625.7414298352895 L 875.604035686002,838.4664879791068 L 442.5233711108871,838.4664879791068 z\" /></g></svg>"
      ],
      "text/plain": [
       "<POLYGON ((442.523 838.466, 442.523 625.741, 875.604 625.741, 875.604 838.46...>"
      ]
     },
     "execution_count": 20,
     "metadata": {},
     "output_type": "execute_result"
    }
   ],
   "source": [
    "lt = shapely.Polygon([P2, P1, P3, P4])\n",
    "\n",
    "lt_rotated = rotate(lt, ridge_angle, use_radians=True)\n",
    "lt"
   ]
  },
  {
   "cell_type": "code",
   "execution_count": 21,
   "id": "54a49c3d-3387-4bc2-bbb2-9d60b5c0cdf3",
   "metadata": {},
   "outputs": [
    {
     "data": {
      "image/svg+xml": [
       "<svg xmlns=\"http://www.w3.org/2000/svg\" xmlns:xlink=\"http://www.w3.org/1999/xlink\" width=\"100.0\" height=\"100.0\" viewBox=\"-0.19644521645327462 -0.0820623085705523 2.3928904329065492 2.1641246171411046\" preserveAspectRatio=\"xMinYMin meet\"><g transform=\"matrix(1,0,0,-1,0,2.0)\"><g><path fill-rule=\"evenodd\" fill=\"#66cc99\" stroke=\"#555555\" stroke-width=\"0.04785780865813098\" opacity=\"0.6\" d=\"M -0.10781964486414317,0.12094617090130155 L 0.006563263018579235,1.1143829078827223 L 0.9999999999999999,0.9999999999999999 L 0.8856170921172776,0.006563263018579152 L -0.10781964486414317,0.12094617090130155 z\" /><path fill-rule=\"evenodd\" fill=\"#66cc99\" stroke=\"#555555\" stroke-width=\"0.04785780865813098\" opacity=\"0.6\" d=\"M 0.9999999999999999,0.9999999999999999 L 1.1143829078827225,1.9934367369814208 L 2.107819644864143,1.8790538290986982 L 1.9934367369814208,0.8856170921172775 L 0.9999999999999999,0.9999999999999999 z\" /></g></g></svg>"
      ],
      "text/plain": [
       "<MULTIPOLYGON (((-0.108 0.121, 0.007 1.114, 1 1, 0.886 0.007, -0.108 0.121))...>"
      ]
     },
     "execution_count": 21,
     "metadata": {},
     "output_type": "execute_result"
    }
   ],
   "source": [
    "a = [(0, 0), (0, 1), (1, 1), (1, 0), (0, 0)]\n",
    "b = [(1, 1), (1, 2), (2, 2), (2, 1), (1, 1)]\n",
    "a = shapely.Polygon(a)\n",
    "b = shapely.Polygon(b)\n",
    "rotate(shapely.MultiPolygon([a,b]), ridge_angle, use_radians=True)\n"
   ]
  },
  {
   "cell_type": "code",
   "execution_count": 22,
   "id": "6a019e02-586e-48a1-bbc7-9b6f2cce9cc0",
   "metadata": {},
   "outputs": [
    {
     "data": {
      "image/svg+xml": [
       "<svg xmlns=\"http://www.w3.org/2000/svg\" xmlns:xlink=\"http://www.w3.org/1999/xlink\" width=\"300\" height=\"297.2315416380811\" viewBox=\"413.59571278100503 583.4881880881576 490.9359812348792 297.2315416380811\" preserveAspectRatio=\"xMinYMin meet\"><g transform=\"matrix(1,0,0,-1,0,1464.2079178143963)\"><path fill-rule=\"evenodd\" fill=\"#66cc99\" stroke=\"#555555\" stroke-width=\"3.2729065415658614\" opacity=\"0.6\" d=\"M 456.1106376308264,862.5369156064284 L 431.7785269008154,651.2080279698515 L 862.0167691660627,601.671002207968 L 886.3488798960739,812.9998898445448 L 456.1106376308264,862.5369156064284 z\" /></g></svg>"
      ],
      "text/plain": [
       "<POLYGON ((456.111 862.537, 431.779 651.208, 862.017 601.671, 886.349 813, 4...>"
      ]
     },
     "execution_count": 22,
     "metadata": {},
     "output_type": "execute_result"
    }
   ],
   "source": [
    "lt_rotated"
   ]
  },
  {
   "cell_type": "code",
   "execution_count": 23,
   "id": "032469ce-bc85-4797-8392-de3b91a4dd25",
   "metadata": {},
   "outputs": [],
   "source": [
    "minx, miny, _, _ = lt_rotated.bounds"
   ]
  },
  {
   "cell_type": "markdown",
   "id": "b7779f49-3078-44d6-a67a-c8099180e111",
   "metadata": {},
   "source": [
    "## getting back the translated points"
   ]
  },
  {
   "cell_type": "code",
   "execution_count": 24,
   "id": "076d27fc-92ee-45e6-b593-b24105345a7f",
   "metadata": {},
   "outputs": [
    {
     "data": {
      "text/plain": [
       "array([[456.11063763, 862.53691561],\n",
       "       [431.7785269 , 651.20802797],\n",
       "       [862.01676917, 601.67100221],\n",
       "       [886.3488799 , 812.99988984]])"
      ]
     },
     "execution_count": 24,
     "metadata": {},
     "output_type": "execute_result"
    }
   ],
   "source": [
    "# try prininting one by one to inspect why the complex operations were performed ;)\n",
    "rotated_points = np.array(lt_rotated.boundary.coords.xy)[:, :4].T\n",
    "rotated_points"
   ]
  },
  {
   "cell_type": "code",
   "execution_count": 25,
   "id": "fe671d12-8e9c-4ec5-9c50-37d2f102e365",
   "metadata": {},
   "outputs": [
    {
     "data": {
      "text/plain": [
       "<matplotlib.legend.Legend at 0x1496f48b320>"
      ]
     },
     "execution_count": 25,
     "metadata": {},
     "output_type": "execute_result"
    },
    {
     "data": {
      "image/png": "[encoded data removed]",
      "text/plain": [
       "<Figure size 640x480 with 1 Axes>"
      ]
     },
     "metadata": {},
     "output_type": "display_data"
    }
   ],
   "source": [
    "plt.plot(extract_x_y(rotated_points)[0],extract_x_y(rotated_points)[1])\n",
    "plt.scatter(rotated_points[0][0], rotated_points[0][1], label=\"p1\")\n",
    "plt.scatter(rotated_points[1][0], rotated_points[1][1], label=\"p2\")\n",
    "plt.scatter(rotated_points[2][0], rotated_points[2][1], label=\"p3\")\n",
    "plt.scatter(rotated_points[3][0], rotated_points[3][1], label=\"p4\")\n",
    "\n",
    "\n",
    "plt.scatter(minx, miny)\n",
    "plt.legend()"
   ]
  },
  {
   "cell_type": "code",
   "execution_count": 26,
   "id": "1bff377a-787a-4ab0-9588-571d0ef92215",
   "metadata": {},
   "outputs": [],
   "source": [
    "P1_r = shapely.Point(rotated_points[0])\n",
    "P2_r = shapely.Point(rotated_points[1])\n",
    "P3_r = shapely.Point(rotated_points[2])\n"
   ]
  },
  {
   "cell_type": "code",
   "execution_count": null,
   "id": "a9aa5d93-ffc8-4dcf-8e13-063bfed4a5fe",
   "metadata": {},
   "outputs": [],
   "source": []
  },
  {
   "cell_type": "code",
   "execution_count": 27,
   "id": "09b161fe-1315-4175-8a55-0b9ad31b8e56",
   "metadata": {},
   "outputs": [],
   "source": [
    "def calc_poi(line_1, line_2):\n",
    "    line_1 = np.array(line_1)\n",
    "    line_2_x, line_2_y = extract_x_y(line_2)\n",
    "\n",
    "    line_2 = np.array(line_2)\n",
    "    line_1_x, line_1_y = extract_x_y(line_1)\n",
    "\n",
    "    line_2_dx = line_2_x[1] - line_2_x[0]\n",
    "    line_2_dy = line_2_y[1] - line_2_y[0]\n",
    "\n",
    "    line_1_dx = line_1_x[1] - line_1_x[0]\n",
    "    line_1_dy = line_1_y[1] - line_1_y[0]\n",
    "\n",
    "    line_2_slope = line_2_dy / line_2_dx\n",
    "    line_1_slope = line_1_dy / line_1_dx\n",
    "\n",
    "    line_1_c = line_1_y[0] - (line_1_slope * line_1_x[0])\n",
    "    line_2_c = line_2_y[0] - (line_2_slope * line_2_x[0])\n",
    "\n",
    "    x = (line_1_c - line_2_c) / (line_2_slope - line_1_slope)\n",
    "    y = (line_2_slope*x) + line_2_c\n",
    "\n",
    "    return x, y\n",
    "\n",
    "\n",
    "def calc_distance_bwn_2_pts(line_pts: list) -> int:\n",
    "    \"\"\"Takes input of points [[x1,y1], [x2,y2] ]\"\"\"\n",
    "    dist = ( (line_pts[1][0] - line_pts[0][0])**2 + (line_pts[1][1] - line_pts[0][1])**2 )**0.5\n",
    "    return dist\n",
    "\n",
    "\n",
    "def calc_ratio(short_distance, len_of_line):\n",
    "    return short_distance / len_of_line\n",
    "\n",
    "def get_points_at_eq_distance(st_line_pts, distance_bwn_pts_px):\n",
    "    POINTS = []\n",
    "\n",
    "    len_of_ridge = calc_distance_bwn_2_pts(st_line_pts)\n",
    "    no_of_points = int(len_of_ridge // distance_bwn_pts_px)\n",
    "    initial_distance = distance_bwn_pts_px\n",
    "\n",
    "    for i in range(no_of_points):\n",
    "        ratio_i = calc_ratio(initial_distance, len_of_ridge)\n",
    "        u = st_line_pts[0][0] + ratio_i * (st_line_pts[1][0] - st_line_pts[0][0])\n",
    "        v = st_line_pts[0][1] + ratio_i * (st_line_pts[1][1] - st_line_pts[0][1])\n",
    "        initial_distance += distance_bwn_pts_px\n",
    "        POINTS.append((u, v))\n",
    "\n",
    "    return {\"points\": POINTS, \"count\": no_of_points}\n",
    "\n",
    "def calc_perpendicular(ridge_pts, rafter_pt, D):\n",
    "# def calc_perpendicular(x1, y1, x2, y2, Px1, Py1, D):\n",
    "    x1, y1 = ridge_pts[0][0], ridge_pts[0][1]\n",
    "    x2, y2 = ridge_pts[1][0], ridge_pts[1][1]\n",
    "    Px1, Py1 = rafter_pt[0], rafter_pt[1]\n",
    "    \n",
    "    ABx = x2 - x1\n",
    "    ABy = y2 - y1\n",
    "    \n",
    "    # Normalize the direction vector\n",
    "    length_AB = (ABx**2 + ABy**2)**0.5\n",
    "    ux = ABx / length_AB\n",
    "    uy = ABy / length_AB\n",
    "    \n",
    "    # Perpendicular vector\n",
    "    vx = -uy\n",
    "    vy = ux\n",
    "    \n",
    "    # Calculate the coordinates of point Q at distance D from P\n",
    "    Qx1 = Px1 + D * vx\n",
    "    Qy1 = Py1 + D * vy\n",
    "    \n",
    "    return Qx1, Qy1"
   ]
  },
  {
   "cell_type": "code",
   "execution_count": 28,
   "id": "e922547a-d08c-4d69-b47d-922eda258342",
   "metadata": {},
   "outputs": [],
   "source": [
    "horizontail_splits = get_points_at_eq_distance([rotated_points[1], rotated_points[2]], 20)['points']\n",
    "vertical_splits = get_points_at_eq_distance([rotated_points[0], rotated_points[1]], 20)['points']\n",
    "vertical_opp_splits = get_points_at_eq_distance([rotated_points[2],  rotated_points[3]], 20)['points']"
   ]
  },
  {
   "cell_type": "code",
   "execution_count": 29,
   "id": "663545ab-4a66-4b00-a9f9-26fcbffd5be5",
   "metadata": {},
   "outputs": [
    {
     "data": {
      "text/plain": [
       "<matplotlib.legend.Legend at 0x1496f8b9550>"
      ]
     },
     "execution_count": 29,
     "metadata": {},
     "output_type": "execute_result"
    },
    {
     "data": {
      "image/png": "[encoded data removed]",
      "text/plain": [
       "<Figure size 640x480 with 1 Axes>"
      ]
     },
     "metadata": {},
     "output_type": "display_data"
    }
   ],
   "source": [
    "t_x, t_y = extract_x_y(horizontail_splits)\n",
    "t1_x, t1_y = extract_x_y(vertical_splits)\n",
    "t2_x, t2_y = extract_x_y(vertical_opp_splits)\n",
    "plt.scatter(t_x, t_y, label=\"horizontal\")\n",
    "plt.scatter(t1_x, t1_y)\n",
    "plt.scatter(t2_x, t2_y)\n",
    "\n",
    "plt.legend()\n"
   ]
  },
  {
   "cell_type": "code",
   "execution_count": 30,
   "id": "0b59536e-af7f-468e-b60c-d899ca8a3720",
   "metadata": {},
   "outputs": [],
   "source": [
    "POINTS = []\n",
    "for i in horizontail_splits:\n",
    "    for j in vertical_splits:\n",
    "        POINTS.append((round(i[0],3), round(j[1],3)))\n",
    "\n",
    "for i in horizontail_splits:\n",
    "    for j in vertical_opp_splits:\n",
    "        p = (round(i[0],3), round(j[1],3))\n",
    "        if p not in POINTS:\n",
    "            POINTS.append((round(i[0],3), round(j[1],3)))"
   ]
  },
  {
   "cell_type": "code",
   "execution_count": 31,
   "id": "56e9188b-25f4-48ea-9ae8-32fbb9471396",
   "metadata": {},
   "outputs": [],
   "source": [
    "p_x, p_y = extract_x_y(POINTS)"
   ]
  },
  {
   "cell_type": "code",
   "execution_count": 32,
   "id": "ed9d4c0b-1ca5-4f9e-be74-417e0652cfe7",
   "metadata": {},
   "outputs": [
    {
     "data": {
      "text/plain": [
       "<matplotlib.collections.PathCollection at 0x14971c193a0>"
      ]
     },
     "execution_count": 32,
     "metadata": {},
     "output_type": "execute_result"
    },
    {
     "data": {
      "image/png": "[encoded data removed]",
      "text/plain": [
       "<Figure size 640x480 with 1 Axes>"
      ]
     },
     "metadata": {},
     "output_type": "display_data"
    }
   ],
   "source": [
    "t_x, t_y = extract_x_y(horizontail_splits)\n",
    "t1_x, t1_y = extract_x_y(vertical_splits)\n",
    "plt.scatter(t_x, t_y, c=\"k\")\n",
    "plt.scatter(t1_x, t1_y, c=\"k\")\n",
    "plt.scatter(p_x, p_y)\n",
    "\n"
   ]
  },
  {
   "cell_type": "code",
   "execution_count": 33,
   "id": "47f53f00-db7f-46f6-96a5-0429b02d3e86",
   "metadata": {
    "scrolled": true
   },
   "outputs": [],
   "source": [
    "# l1 = extract_x_y(new_bounds.xy)\n",
    "# l2 = extract_x_y(new_bounds1.xy)\n",
    "\n",
    "# # plt.plot(l1[0], l1[1])\n",
    "# # plt.plot(l2[0], l2[1])\n",
    "# # plt.scatter(x2, y2)\n",
    "# # plt.scatter(x1, y1)\n",
    "# plt.scatter(x1, y2, label=\"p3\")\n",
    "# plt.scatter(x2, y1, label=\"p4\")\n",
    "# plt.legend()\n",
    "\n",
    "\n",
    "# # x1, y1, x1, y2\n",
    "# # x1, y1, x2, y1"
   ]
  },
  {
   "cell_type": "code",
   "execution_count": 34,
   "id": "8a4d7865-8fa7-40c8-892c-0d60f6e62b75",
   "metadata": {},
   "outputs": [],
   "source": [
    "bounding_rect = [\n",
    "    [x2, y2],\n",
    "    [x2, y1],\n",
    "    [x1, y1],\n",
    "    [x1, y2]\n",
    "]"
   ]
  },
  {
   "cell_type": "code",
   "execution_count": 35,
   "id": "d662d9ba-9521-46cf-a8c2-0fc57c7de1e3",
   "metadata": {},
   "outputs": [],
   "source": [
    "bounding_rect_genom = shapely.Polygon(bounding_rect)"
   ]
  },
  {
   "cell_type": "code",
   "execution_count": 36,
   "id": "c566dcaa-0320-48b8-ac1c-3ff474b561ad",
   "metadata": {},
   "outputs": [],
   "source": [
    "bounding_rect_genom_rotated = rotate(bounding_rect_genom, ridge_angle, use_radians=True)"
   ]
  },
  {
   "cell_type": "code",
   "execution_count": 37,
   "id": "871b10ea-fb2b-4c74-8a82-7493db573842",
   "metadata": {},
   "outputs": [
    {
     "data": {
      "text/plain": [
       "(array('d', [886.3488798960739, 862.0167691660627, 431.7785269008154, 456.1106376308264, 886.3488798960739]),\n",
       " array('d', [812.9998898445448, 601.671002207968, 651.2080279698515, 862.5369156064284, 812.9998898445448]))"
      ]
     },
     "execution_count": 37,
     "metadata": {},
     "output_type": "execute_result"
    }
   ],
   "source": [
    "bounding_rect_genom_rotated.boundary.coords.xy"
   ]
  },
  {
   "cell_type": "code",
   "execution_count": 38,
   "id": "7a3037b1-90da-4fb7-b79a-eb2d2f96d1ba",
   "metadata": {},
   "outputs": [
    {
     "data": {
      "text/plain": [
       "<matplotlib.collections.PathCollection at 0x14971c18470>"
      ]
     },
     "execution_count": 38,
     "metadata": {},
     "output_type": "execute_result"
    },
    {
     "data": {
      "image/png": "[encoded data removed]",
      "text/plain": [
       "<Figure size 640x480 with 1 Axes>"
      ]
     },
     "metadata": {},
     "output_type": "display_data"
    }
   ],
   "source": [
    "plt.scatter(bounding_rect_genom_rotated.boundary.coords.xy[0], bounding_rect_genom_rotated.boundary.coords.xy[1])"
   ]
  },
  {
   "cell_type": "code",
   "execution_count": 39,
   "id": "f524a064-d12b-49d1-b82f-00944fcf7990",
   "metadata": {},
   "outputs": [],
   "source": [
    "# points\n",
    "# valid_points = points"
   ]
  },
  {
   "cell_type": "code",
   "execution_count": 40,
   "id": "357cdf48-c243-463e-99b2-c08ca960014a",
   "metadata": {},
   "outputs": [],
   "source": [
    "# points"
   ]
  },
  {
   "cell_type": "code",
   "execution_count": 41,
   "id": "6e8d1b8b-e53d-4bcf-a5de-83153120abc3",
   "metadata": {
    "scrolled": true
   },
   "outputs": [
    {
     "data": {
      "text/plain": [
       "[(np.float64(451.647), np.float64(842.668)),\n",
       " (np.float64(451.647), np.float64(822.799)),\n",
       " (np.float64(451.647), np.float64(802.931)),\n",
       " (np.float64(451.647), np.float64(783.062)),\n",
       " (np.float64(451.647), np.float64(763.193)),\n",
       " (np.float64(451.647), np.float64(743.325)),\n",
       " (np.float64(451.647), np.float64(723.456)),\n",
       " (np.float64(451.647), np.float64(703.587)),\n",
       " (np.float64(451.647), np.float64(683.718)),\n",
       " (np.float64(451.647), np.float64(663.85)),\n",
       " (np.float64(471.516), np.float64(842.668)),\n",
       " (np.float64(471.516), np.float64(822.799)),\n",
       " (np.float64(471.516), np.float64(802.931)),\n",
       " (np.float64(471.516), np.float64(783.062)),\n",
       " (np.float64(471.516), np.float64(763.193)),\n",
       " (np.float64(471.516), np.float64(743.325)),\n",
       " (np.float64(471.516), np.float64(723.456)),\n",
       " (np.float64(471.516), np.float64(703.587)),\n",
       " (np.float64(471.516), np.float64(683.718)),\n",
       " (np.float64(471.516), np.float64(663.85)),\n",
       " (np.float64(491.385), np.float64(842.668)),\n",
       " (np.float64(491.385), np.float64(822.799)),\n",
       " (np.float64(491.385), np.float64(802.931)),\n",
       " (np.float64(491.385), np.float64(783.062)),\n",
       " (np.float64(491.385), np.float64(763.193)),\n",
       " (np.float64(491.385), np.float64(743.325)),\n",
       " (np.float64(491.385), np.float64(723.456)),\n",
       " (np.float64(491.385), np.float64(703.587)),\n",
       " (np.float64(491.385), np.float64(683.718)),\n",
       " (np.float64(491.385), np.float64(663.85)),\n",
       " (np.float64(511.253), np.float64(842.668)),\n",
       " (np.float64(511.253), np.float64(822.799)),\n",
       " (np.float64(511.253), np.float64(802.931)),\n",
       " (np.float64(511.253), np.float64(783.062)),\n",
       " (np.float64(511.253), np.float64(763.193)),\n",
       " (np.float64(511.253), np.float64(743.325)),\n",
       " (np.float64(511.253), np.float64(723.456)),\n",
       " (np.float64(511.253), np.float64(703.587)),\n",
       " (np.float64(511.253), np.float64(683.718)),\n",
       " (np.float64(511.253), np.float64(663.85)),\n",
       " (np.float64(531.122), np.float64(842.668)),\n",
       " (np.float64(531.122), np.float64(822.799)),\n",
       " (np.float64(531.122), np.float64(802.931)),\n",
       " (np.float64(531.122), np.float64(783.062)),\n",
       " (np.float64(531.122), np.float64(763.193)),\n",
       " (np.float64(531.122), np.float64(743.325)),\n",
       " (np.float64(531.122), np.float64(723.456)),\n",
       " (np.float64(531.122), np.float64(703.587)),\n",
       " (np.float64(531.122), np.float64(683.718)),\n",
       " (np.float64(531.122), np.float64(663.85)),\n",
       " (np.float64(550.991), np.float64(842.668)),\n",
       " (np.float64(550.991), np.float64(822.799)),\n",
       " (np.float64(550.991), np.float64(802.931)),\n",
       " (np.float64(550.991), np.float64(783.062)),\n",
       " (np.float64(550.991), np.float64(763.193)),\n",
       " (np.float64(550.991), np.float64(743.325)),\n",
       " (np.float64(550.991), np.float64(723.456)),\n",
       " (np.float64(550.991), np.float64(703.587)),\n",
       " (np.float64(550.991), np.float64(683.718)),\n",
       " (np.float64(550.991), np.float64(663.85)),\n",
       " (np.float64(570.86), np.float64(842.668)),\n",
       " (np.float64(570.86), np.float64(822.799)),\n",
       " (np.float64(570.86), np.float64(802.931)),\n",
       " (np.float64(570.86), np.float64(783.062)),\n",
       " (np.float64(570.86), np.float64(763.193)),\n",
       " (np.float64(570.86), np.float64(743.325)),\n",
       " (np.float64(570.86), np.float64(723.456)),\n",
       " (np.float64(570.86), np.float64(703.587)),\n",
       " (np.float64(570.86), np.float64(683.718)),\n",
       " (np.float64(570.86), np.float64(663.85)),\n",
       " (np.float64(590.728), np.float64(842.668)),\n",
       " (np.float64(590.728), np.float64(822.799)),\n",
       " (np.float64(590.728), np.float64(802.931)),\n",
       " (np.float64(590.728), np.float64(783.062)),\n",
       " (np.float64(590.728), np.float64(763.193)),\n",
       " (np.float64(590.728), np.float64(743.325)),\n",
       " (np.float64(590.728), np.float64(723.456)),\n",
       " (np.float64(590.728), np.float64(703.587)),\n",
       " (np.float64(590.728), np.float64(683.718)),\n",
       " (np.float64(590.728), np.float64(663.85)),\n",
       " (np.float64(610.597), np.float64(842.668)),\n",
       " (np.float64(610.597), np.float64(822.799)),\n",
       " (np.float64(610.597), np.float64(802.931)),\n",
       " (np.float64(610.597), np.float64(783.062)),\n",
       " (np.float64(610.597), np.float64(763.193)),\n",
       " (np.float64(610.597), np.float64(743.325)),\n",
       " (np.float64(610.597), np.float64(723.456)),\n",
       " (np.float64(610.597), np.float64(703.587)),\n",
       " (np.float64(610.597), np.float64(683.718)),\n",
       " (np.float64(610.597), np.float64(663.85)),\n",
       " (np.float64(630.466), np.float64(842.668)),\n",
       " (np.float64(630.466), np.float64(822.799)),\n",
       " (np.float64(630.466), np.float64(802.931)),\n",
       " (np.float64(630.466), np.float64(783.062)),\n",
       " (np.float64(630.466), np.float64(763.193)),\n",
       " (np.float64(630.466), np.float64(743.325)),\n",
       " (np.float64(630.466), np.float64(723.456)),\n",
       " (np.float64(630.466), np.float64(703.587)),\n",
       " (np.float64(630.466), np.float64(683.718)),\n",
       " (np.float64(630.466), np.float64(663.85)),\n",
       " (np.float64(650.335), np.float64(842.668)),\n",
       " (np.float64(650.335), np.float64(822.799)),\n",
       " (np.float64(650.335), np.float64(802.931)),\n",
       " (np.float64(650.335), np.float64(783.062)),\n",
       " (np.float64(650.335), np.float64(763.193)),\n",
       " (np.float64(650.335), np.float64(743.325)),\n",
       " (np.float64(650.335), np.float64(723.456)),\n",
       " (np.float64(650.335), np.float64(703.587)),\n",
       " (np.float64(650.335), np.float64(683.718)),\n",
       " (np.float64(650.335), np.float64(663.85)),\n",
       " (np.float64(670.203), np.float64(842.668)),\n",
       " (np.float64(670.203), np.float64(822.799)),\n",
       " (np.float64(670.203), np.float64(802.931)),\n",
       " (np.float64(670.203), np.float64(783.062)),\n",
       " (np.float64(670.203), np.float64(763.193)),\n",
       " (np.float64(670.203), np.float64(743.325)),\n",
       " (np.float64(670.203), np.float64(723.456)),\n",
       " (np.float64(670.203), np.float64(703.587)),\n",
       " (np.float64(670.203), np.float64(683.718)),\n",
       " (np.float64(670.203), np.float64(663.85)),\n",
       " (np.float64(690.072), np.float64(842.668)),\n",
       " (np.float64(690.072), np.float64(822.799)),\n",
       " (np.float64(690.072), np.float64(802.931)),\n",
       " (np.float64(690.072), np.float64(783.062)),\n",
       " (np.float64(690.072), np.float64(763.193)),\n",
       " (np.float64(690.072), np.float64(743.325)),\n",
       " (np.float64(690.072), np.float64(723.456)),\n",
       " (np.float64(690.072), np.float64(703.587)),\n",
       " (np.float64(690.072), np.float64(683.718)),\n",
       " (np.float64(690.072), np.float64(663.85)),\n",
       " (np.float64(709.941), np.float64(842.668)),\n",
       " (np.float64(709.941), np.float64(822.799)),\n",
       " (np.float64(709.941), np.float64(802.931)),\n",
       " (np.float64(709.941), np.float64(783.062)),\n",
       " (np.float64(709.941), np.float64(763.193)),\n",
       " (np.float64(709.941), np.float64(743.325)),\n",
       " (np.float64(709.941), np.float64(723.456)),\n",
       " (np.float64(709.941), np.float64(703.587)),\n",
       " (np.float64(709.941), np.float64(683.718)),\n",
       " (np.float64(709.941), np.float64(663.85)),\n",
       " (np.float64(729.81), np.float64(842.668)),\n",
       " (np.float64(729.81), np.float64(822.799)),\n",
       " (np.float64(729.81), np.float64(802.931)),\n",
       " (np.float64(729.81), np.float64(783.062)),\n",
       " (np.float64(729.81), np.float64(763.193)),\n",
       " (np.float64(729.81), np.float64(743.325)),\n",
       " (np.float64(729.81), np.float64(723.456)),\n",
       " (np.float64(729.81), np.float64(703.587)),\n",
       " (np.float64(729.81), np.float64(683.718)),\n",
       " (np.float64(729.81), np.float64(663.85)),\n",
       " (np.float64(749.678), np.float64(842.668)),\n",
       " (np.float64(749.678), np.float64(822.799)),\n",
       " (np.float64(749.678), np.float64(802.931)),\n",
       " (np.float64(749.678), np.float64(783.062)),\n",
       " (np.float64(749.678), np.float64(763.193)),\n",
       " (np.float64(749.678), np.float64(743.325)),\n",
       " (np.float64(749.678), np.float64(723.456)),\n",
       " (np.float64(749.678), np.float64(703.587)),\n",
       " (np.float64(749.678), np.float64(683.718)),\n",
       " (np.float64(749.678), np.float64(663.85)),\n",
       " (np.float64(769.547), np.float64(842.668)),\n",
       " (np.float64(769.547), np.float64(822.799)),\n",
       " (np.float64(769.547), np.float64(802.931)),\n",
       " (np.float64(769.547), np.float64(783.062)),\n",
       " (np.float64(769.547), np.float64(763.193)),\n",
       " (np.float64(769.547), np.float64(743.325)),\n",
       " (np.float64(769.547), np.float64(723.456)),\n",
       " (np.float64(769.547), np.float64(703.587)),\n",
       " (np.float64(769.547), np.float64(683.718)),\n",
       " (np.float64(769.547), np.float64(663.85)),\n",
       " (np.float64(789.416), np.float64(842.668)),\n",
       " (np.float64(789.416), np.float64(822.799)),\n",
       " (np.float64(789.416), np.float64(802.931)),\n",
       " (np.float64(789.416), np.float64(783.062)),\n",
       " (np.float64(789.416), np.float64(763.193)),\n",
       " (np.float64(789.416), np.float64(743.325)),\n",
       " (np.float64(789.416), np.float64(723.456)),\n",
       " (np.float64(789.416), np.float64(703.587)),\n",
       " (np.float64(789.416), np.float64(683.718)),\n",
       " (np.float64(789.416), np.float64(663.85)),\n",
       " (np.float64(809.284), np.float64(842.668)),\n",
       " (np.float64(809.284), np.float64(822.799)),\n",
       " (np.float64(809.284), np.float64(802.931)),\n",
       " (np.float64(809.284), np.float64(783.062)),\n",
       " (np.float64(809.284), np.float64(763.193)),\n",
       " (np.float64(809.284), np.float64(743.325)),\n",
       " (np.float64(809.284), np.float64(723.456)),\n",
       " (np.float64(809.284), np.float64(703.587)),\n",
       " (np.float64(809.284), np.float64(683.718)),\n",
       " (np.float64(809.284), np.float64(663.85)),\n",
       " (np.float64(829.153), np.float64(842.668)),\n",
       " (np.float64(829.153), np.float64(822.799)),\n",
       " (np.float64(829.153), np.float64(802.931)),\n",
       " (np.float64(829.153), np.float64(783.062)),\n",
       " (np.float64(829.153), np.float64(763.193)),\n",
       " (np.float64(829.153), np.float64(743.325)),\n",
       " (np.float64(829.153), np.float64(723.456)),\n",
       " (np.float64(829.153), np.float64(703.587)),\n",
       " (np.float64(829.153), np.float64(683.718)),\n",
       " (np.float64(829.153), np.float64(663.85)),\n",
       " (np.float64(849.022), np.float64(842.668)),\n",
       " (np.float64(849.022), np.float64(822.799)),\n",
       " (np.float64(849.022), np.float64(802.931)),\n",
       " (np.float64(849.022), np.float64(783.062)),\n",
       " (np.float64(849.022), np.float64(763.193)),\n",
       " (np.float64(849.022), np.float64(743.325)),\n",
       " (np.float64(849.022), np.float64(723.456)),\n",
       " (np.float64(849.022), np.float64(703.587)),\n",
       " (np.float64(849.022), np.float64(683.718)),\n",
       " (np.float64(849.022), np.float64(663.85)),\n",
       " (np.float64(451.647), np.float64(621.54)),\n",
       " (np.float64(451.647), np.float64(641.408)),\n",
       " (np.float64(451.647), np.float64(661.277)),\n",
       " (np.float64(451.647), np.float64(681.146)),\n",
       " (np.float64(451.647), np.float64(701.015)),\n",
       " (np.float64(451.647), np.float64(720.883)),\n",
       " (np.float64(451.647), np.float64(740.752)),\n",
       " (np.float64(451.647), np.float64(760.621)),\n",
       " (np.float64(451.647), np.float64(780.49)),\n",
       " (np.float64(451.647), np.float64(800.358)),\n",
       " (np.float64(471.516), np.float64(621.54)),\n",
       " (np.float64(471.516), np.float64(641.408)),\n",
       " (np.float64(471.516), np.float64(661.277)),\n",
       " (np.float64(471.516), np.float64(681.146)),\n",
       " (np.float64(471.516), np.float64(701.015)),\n",
       " (np.float64(471.516), np.float64(720.883)),\n",
       " (np.float64(471.516), np.float64(740.752)),\n",
       " (np.float64(471.516), np.float64(760.621)),\n",
       " (np.float64(471.516), np.float64(780.49)),\n",
       " (np.float64(471.516), np.float64(800.358)),\n",
       " (np.float64(491.385), np.float64(621.54)),\n",
       " (np.float64(491.385), np.float64(641.408)),\n",
       " (np.float64(491.385), np.float64(661.277)),\n",
       " (np.float64(491.385), np.float64(681.146)),\n",
       " (np.float64(491.385), np.float64(701.015)),\n",
       " (np.float64(491.385), np.float64(720.883)),\n",
       " (np.float64(491.385), np.float64(740.752)),\n",
       " (np.float64(491.385), np.float64(760.621)),\n",
       " (np.float64(491.385), np.float64(780.49)),\n",
       " (np.float64(491.385), np.float64(800.358)),\n",
       " (np.float64(511.253), np.float64(621.54)),\n",
       " (np.float64(511.253), np.float64(641.408)),\n",
       " (np.float64(511.253), np.float64(661.277)),\n",
       " (np.float64(511.253), np.float64(681.146)),\n",
       " (np.float64(511.253), np.float64(701.015)),\n",
       " (np.float64(511.253), np.float64(720.883)),\n",
       " (np.float64(511.253), np.float64(740.752)),\n",
       " (np.float64(511.253), np.float64(760.621)),\n",
       " (np.float64(511.253), np.float64(780.49)),\n",
       " (np.float64(511.253), np.float64(800.358)),\n",
       " (np.float64(531.122), np.float64(621.54)),\n",
       " (np.float64(531.122), np.float64(641.408)),\n",
       " (np.float64(531.122), np.float64(661.277)),\n",
       " (np.float64(531.122), np.float64(681.146)),\n",
       " (np.float64(531.122), np.float64(701.015)),\n",
       " (np.float64(531.122), np.float64(720.883)),\n",
       " (np.float64(531.122), np.float64(740.752)),\n",
       " (np.float64(531.122), np.float64(760.621)),\n",
       " (np.float64(531.122), np.float64(780.49)),\n",
       " (np.float64(531.122), np.float64(800.358)),\n",
       " (np.float64(550.991), np.float64(621.54)),\n",
       " (np.float64(550.991), np.float64(641.408)),\n",
       " (np.float64(550.991), np.float64(661.277)),\n",
       " (np.float64(550.991), np.float64(681.146)),\n",
       " (np.float64(550.991), np.float64(701.015)),\n",
       " (np.float64(550.991), np.float64(720.883)),\n",
       " (np.float64(550.991), np.float64(740.752)),\n",
       " (np.float64(550.991), np.float64(760.621)),\n",
       " (np.float64(550.991), np.float64(780.49)),\n",
       " (np.float64(550.991), np.float64(800.358)),\n",
       " (np.float64(570.86), np.float64(621.54)),\n",
       " (np.float64(570.86), np.float64(641.408)),\n",
       " (np.float64(570.86), np.float64(661.277)),\n",
       " (np.float64(570.86), np.float64(681.146)),\n",
       " (np.float64(570.86), np.float64(701.015)),\n",
       " (np.float64(570.86), np.float64(720.883)),\n",
       " (np.float64(570.86), np.float64(740.752)),\n",
       " (np.float64(570.86), np.float64(760.621)),\n",
       " (np.float64(570.86), np.float64(780.49)),\n",
       " (np.float64(570.86), np.float64(800.358)),\n",
       " (np.float64(590.728), np.float64(621.54)),\n",
       " (np.float64(590.728), np.float64(641.408)),\n",
       " (np.float64(590.728), np.float64(661.277)),\n",
       " (np.float64(590.728), np.float64(681.146)),\n",
       " (np.float64(590.728), np.float64(701.015)),\n",
       " (np.float64(590.728), np.float64(720.883)),\n",
       " (np.float64(590.728), np.float64(740.752)),\n",
       " (np.float64(590.728), np.float64(760.621)),\n",
       " (np.float64(590.728), np.float64(780.49)),\n",
       " (np.float64(590.728), np.float64(800.358)),\n",
       " (np.float64(610.597), np.float64(621.54)),\n",
       " (np.float64(610.597), np.float64(641.408)),\n",
       " (np.float64(610.597), np.float64(661.277)),\n",
       " (np.float64(610.597), np.float64(681.146)),\n",
       " (np.float64(610.597), np.float64(701.015)),\n",
       " (np.float64(610.597), np.float64(720.883)),\n",
       " (np.float64(610.597), np.float64(740.752)),\n",
       " (np.float64(610.597), np.float64(760.621)),\n",
       " (np.float64(610.597), np.float64(780.49)),\n",
       " (np.float64(610.597), np.float64(800.358)),\n",
       " (np.float64(630.466), np.float64(621.54)),\n",
       " (np.float64(630.466), np.float64(641.408)),\n",
       " (np.float64(630.466), np.float64(661.277)),\n",
       " (np.float64(630.466), np.float64(681.146)),\n",
       " (np.float64(630.466), np.float64(701.015)),\n",
       " (np.float64(630.466), np.float64(720.883)),\n",
       " (np.float64(630.466), np.float64(740.752)),\n",
       " (np.float64(630.466), np.float64(760.621)),\n",
       " (np.float64(630.466), np.float64(780.49)),\n",
       " (np.float64(630.466), np.float64(800.358)),\n",
       " (np.float64(650.335), np.float64(621.54)),\n",
       " (np.float64(650.335), np.float64(641.408)),\n",
       " (np.float64(650.335), np.float64(661.277)),\n",
       " (np.float64(650.335), np.float64(681.146)),\n",
       " (np.float64(650.335), np.float64(701.015)),\n",
       " (np.float64(650.335), np.float64(720.883)),\n",
       " (np.float64(650.335), np.float64(740.752)),\n",
       " (np.float64(650.335), np.float64(760.621)),\n",
       " (np.float64(650.335), np.float64(780.49)),\n",
       " (np.float64(650.335), np.float64(800.358)),\n",
       " (np.float64(670.203), np.float64(621.54)),\n",
       " (np.float64(670.203), np.float64(641.408)),\n",
       " (np.float64(670.203), np.float64(661.277)),\n",
       " (np.float64(670.203), np.float64(681.146)),\n",
       " (np.float64(670.203), np.float64(701.015)),\n",
       " (np.float64(670.203), np.float64(720.883)),\n",
       " (np.float64(670.203), np.float64(740.752)),\n",
       " (np.float64(670.203), np.float64(760.621)),\n",
       " (np.float64(670.203), np.float64(780.49)),\n",
       " (np.float64(670.203), np.float64(800.358)),\n",
       " (np.float64(690.072), np.float64(621.54)),\n",
       " (np.float64(690.072), np.float64(641.408)),\n",
       " (np.float64(690.072), np.float64(661.277)),\n",
       " (np.float64(690.072), np.float64(681.146)),\n",
       " (np.float64(690.072), np.float64(701.015)),\n",
       " (np.float64(690.072), np.float64(720.883)),\n",
       " (np.float64(690.072), np.float64(740.752)),\n",
       " (np.float64(690.072), np.float64(760.621)),\n",
       " (np.float64(690.072), np.float64(780.49)),\n",
       " (np.float64(690.072), np.float64(800.358)),\n",
       " (np.float64(709.941), np.float64(621.54)),\n",
       " (np.float64(709.941), np.float64(641.408)),\n",
       " (np.float64(709.941), np.float64(661.277)),\n",
       " (np.float64(709.941), np.float64(681.146)),\n",
       " (np.float64(709.941), np.float64(701.015)),\n",
       " (np.float64(709.941), np.float64(720.883)),\n",
       " (np.float64(709.941), np.float64(740.752)),\n",
       " (np.float64(709.941), np.float64(760.621)),\n",
       " (np.float64(709.941), np.float64(780.49)),\n",
       " (np.float64(709.941), np.float64(800.358)),\n",
       " (np.float64(729.81), np.float64(621.54)),\n",
       " (np.float64(729.81), np.float64(641.408)),\n",
       " (np.float64(729.81), np.float64(661.277)),\n",
       " (np.float64(729.81), np.float64(681.146)),\n",
       " (np.float64(729.81), np.float64(701.015)),\n",
       " (np.float64(729.81), np.float64(720.883)),\n",
       " (np.float64(729.81), np.float64(740.752)),\n",
       " (np.float64(729.81), np.float64(760.621)),\n",
       " (np.float64(729.81), np.float64(780.49)),\n",
       " (np.float64(729.81), np.float64(800.358)),\n",
       " (np.float64(749.678), np.float64(621.54)),\n",
       " (np.float64(749.678), np.float64(641.408)),\n",
       " (np.float64(749.678), np.float64(661.277)),\n",
       " (np.float64(749.678), np.float64(681.146)),\n",
       " (np.float64(749.678), np.float64(701.015)),\n",
       " (np.float64(749.678), np.float64(720.883)),\n",
       " (np.float64(749.678), np.float64(740.752)),\n",
       " (np.float64(749.678), np.float64(760.621)),\n",
       " (np.float64(749.678), np.float64(780.49)),\n",
       " (np.float64(749.678), np.float64(800.358)),\n",
       " (np.float64(769.547), np.float64(621.54)),\n",
       " (np.float64(769.547), np.float64(641.408)),\n",
       " (np.float64(769.547), np.float64(661.277)),\n",
       " (np.float64(769.547), np.float64(681.146)),\n",
       " (np.float64(769.547), np.float64(701.015)),\n",
       " (np.float64(769.547), np.float64(720.883)),\n",
       " (np.float64(769.547), np.float64(740.752)),\n",
       " (np.float64(769.547), np.float64(760.621)),\n",
       " (np.float64(769.547), np.float64(780.49)),\n",
       " (np.float64(769.547), np.float64(800.358)),\n",
       " (np.float64(789.416), np.float64(621.54)),\n",
       " (np.float64(789.416), np.float64(641.408)),\n",
       " (np.float64(789.416), np.float64(661.277)),\n",
       " (np.float64(789.416), np.float64(681.146)),\n",
       " (np.float64(789.416), np.float64(701.015)),\n",
       " (np.float64(789.416), np.float64(720.883)),\n",
       " (np.float64(789.416), np.float64(740.752)),\n",
       " (np.float64(789.416), np.float64(760.621)),\n",
       " (np.float64(789.416), np.float64(780.49)),\n",
       " (np.float64(789.416), np.float64(800.358)),\n",
       " (np.float64(809.284), np.float64(621.54)),\n",
       " (np.float64(809.284), np.float64(641.408)),\n",
       " (np.float64(809.284), np.float64(661.277)),\n",
       " (np.float64(809.284), np.float64(681.146)),\n",
       " (np.float64(809.284), np.float64(701.015)),\n",
       " (np.float64(809.284), np.float64(720.883)),\n",
       " (np.float64(809.284), np.float64(740.752)),\n",
       " (np.float64(809.284), np.float64(760.621)),\n",
       " (np.float64(809.284), np.float64(780.49)),\n",
       " (np.float64(809.284), np.float64(800.358)),\n",
       " (np.float64(829.153), np.float64(621.54)),\n",
       " (np.float64(829.153), np.float64(641.408)),\n",
       " (np.float64(829.153), np.float64(661.277)),\n",
       " (np.float64(829.153), np.float64(681.146)),\n",
       " (np.float64(829.153), np.float64(701.015)),\n",
       " (np.float64(829.153), np.float64(720.883)),\n",
       " (np.float64(829.153), np.float64(740.752)),\n",
       " (np.float64(829.153), np.float64(760.621)),\n",
       " (np.float64(829.153), np.float64(780.49)),\n",
       " (np.float64(829.153), np.float64(800.358)),\n",
       " (np.float64(849.022), np.float64(621.54)),\n",
       " (np.float64(849.022), np.float64(641.408)),\n",
       " (np.float64(849.022), np.float64(661.277)),\n",
       " (np.float64(849.022), np.float64(681.146)),\n",
       " (np.float64(849.022), np.float64(701.015)),\n",
       " (np.float64(849.022), np.float64(720.883)),\n",
       " (np.float64(849.022), np.float64(740.752)),\n",
       " (np.float64(849.022), np.float64(760.621)),\n",
       " (np.float64(849.022), np.float64(780.49)),\n",
       " (np.float64(849.022), np.float64(800.358))]"
      ]
     },
     "execution_count": 41,
     "metadata": {},
     "output_type": "execute_result"
    }
   ],
   "source": [
    "# valid_points = [ rotate(point, ridge_angle, use_radians=True) for point in valid_points ]\n",
    "POINTS"
   ]
  },
  {
   "cell_type": "code",
   "execution_count": 42,
   "id": "10c29a87-d6a4-48cb-b899-2f5626b57018",
   "metadata": {},
   "outputs": [],
   "source": [
    "# points = [(p.x, p.y) for p in valid_points]\n",
    "points = [shapely.Point(p) for p in POINTS]\n",
    "valid_points = []\n",
    "valid_points.extend(filter(prep_polygon.contains, points))"
   ]
  },
  {
   "cell_type": "code",
   "execution_count": 43,
   "id": "e82ea3f0-9679-44bb-be95-d6f133e09cb6",
   "metadata": {
    "scrolled": true
   },
   "outputs": [
    {
     "data": {
      "text/plain": [
       "[[451.647, 743.325],\n",
       " [451.647, 723.456],\n",
       " [451.647, 703.587],\n",
       " [451.647, 683.718],\n",
       " [471.516, 822.799],\n",
       " [471.516, 802.931],\n",
       " [471.516, 783.062],\n",
       " [471.516, 763.193],\n",
       " [471.516, 743.325],\n",
       " [471.516, 723.456],\n",
       " [471.516, 703.587],\n",
       " [471.516, 683.718],\n",
       " [491.385, 822.799],\n",
       " [491.385, 802.931],\n",
       " [491.385, 783.062],\n",
       " [491.385, 763.193],\n",
       " [491.385, 743.325],\n",
       " [491.385, 723.456],\n",
       " [491.385, 703.587],\n",
       " [491.385, 683.718],\n",
       " [511.253, 822.799],\n",
       " [511.253, 802.931],\n",
       " [511.253, 783.062],\n",
       " [511.253, 763.193],\n",
       " [511.253, 743.325],\n",
       " [511.253, 723.456],\n",
       " [511.253, 703.587],\n",
       " [511.253, 683.718],\n",
       " [531.122, 822.799],\n",
       " [531.122, 802.931],\n",
       " [531.122, 783.062],\n",
       " [531.122, 763.193],\n",
       " [531.122, 743.325],\n",
       " [531.122, 723.456],\n",
       " [531.122, 703.587],\n",
       " [531.122, 683.718],\n",
       " [550.991, 822.799],\n",
       " [550.991, 802.931],\n",
       " [550.991, 783.062],\n",
       " [550.991, 763.193],\n",
       " [550.991, 743.325],\n",
       " [550.991, 723.456],\n",
       " [550.991, 703.587],\n",
       " [550.991, 683.718],\n",
       " [550.991, 663.85],\n",
       " [570.86, 822.799],\n",
       " [570.86, 802.931],\n",
       " [570.86, 783.062],\n",
       " [570.86, 763.193],\n",
       " [570.86, 743.325],\n",
       " [570.86, 723.456],\n",
       " [570.86, 703.587],\n",
       " [570.86, 683.718],\n",
       " [570.86, 663.85],\n",
       " [590.728, 822.799],\n",
       " [590.728, 802.931],\n",
       " [590.728, 783.062],\n",
       " [590.728, 763.193],\n",
       " [590.728, 743.325],\n",
       " [590.728, 723.456],\n",
       " [590.728, 703.587],\n",
       " [590.728, 683.718],\n",
       " [590.728, 663.85],\n",
       " [610.597, 802.931],\n",
       " [610.597, 783.062],\n",
       " [610.597, 763.193],\n",
       " [610.597, 743.325],\n",
       " [610.597, 723.456],\n",
       " [610.597, 703.587],\n",
       " [610.597, 683.718],\n",
       " [610.597, 663.85],\n",
       " [630.466, 802.931],\n",
       " [630.466, 783.062],\n",
       " [630.466, 763.193],\n",
       " [630.466, 743.325],\n",
       " [630.466, 723.456],\n",
       " [630.466, 703.587],\n",
       " [630.466, 683.718],\n",
       " [630.466, 663.85],\n",
       " [650.335, 802.931],\n",
       " [650.335, 783.062],\n",
       " [650.335, 763.193],\n",
       " [650.335, 743.325],\n",
       " [650.335, 723.456],\n",
       " [650.335, 703.587],\n",
       " [650.335, 683.718],\n",
       " [650.335, 663.85],\n",
       " [670.203, 802.931],\n",
       " [670.203, 783.062],\n",
       " [670.203, 763.193],\n",
       " [670.203, 743.325],\n",
       " [670.203, 723.456],\n",
       " [670.203, 703.587],\n",
       " [670.203, 683.718],\n",
       " [670.203, 663.85],\n",
       " [690.072, 802.931],\n",
       " [690.072, 783.062],\n",
       " [690.072, 763.193],\n",
       " [690.072, 743.325],\n",
       " [690.072, 723.456],\n",
       " [690.072, 703.587],\n",
       " [690.072, 683.718],\n",
       " [690.072, 663.85],\n",
       " [709.941, 802.931],\n",
       " [709.941, 783.062],\n",
       " [709.941, 763.193],\n",
       " [709.941, 743.325],\n",
       " [709.941, 723.456],\n",
       " [709.941, 703.587],\n",
       " [709.941, 683.718],\n",
       " [709.941, 663.85],\n",
       " [729.81, 802.931],\n",
       " [729.81, 783.062],\n",
       " [729.81, 763.193],\n",
       " [729.81, 743.325],\n",
       " [729.81, 723.456],\n",
       " [729.81, 703.587],\n",
       " [729.81, 683.718],\n",
       " [729.81, 663.85],\n",
       " [749.678, 802.931],\n",
       " [749.678, 783.062],\n",
       " [749.678, 763.193],\n",
       " [749.678, 743.325],\n",
       " [749.678, 723.456],\n",
       " [749.678, 703.587],\n",
       " [749.678, 683.718],\n",
       " [749.678, 663.85],\n",
       " [769.547, 802.931],\n",
       " [769.547, 783.062],\n",
       " [769.547, 763.193],\n",
       " [769.547, 743.325],\n",
       " [769.547, 723.456],\n",
       " [769.547, 703.587],\n",
       " [769.547, 683.718],\n",
       " [769.547, 663.85],\n",
       " [789.416, 683.718],\n",
       " [789.416, 663.85],\n",
       " [809.284, 683.718],\n",
       " [809.284, 663.85],\n",
       " [829.153, 683.718],\n",
       " [829.153, 663.85],\n",
       " [849.022, 683.718],\n",
       " [849.022, 663.85],\n",
       " [451.647, 681.146],\n",
       " [451.647, 701.015],\n",
       " [451.647, 720.883],\n",
       " [451.647, 740.752],\n",
       " [451.647, 760.621],\n",
       " [471.516, 681.146],\n",
       " [471.516, 701.015],\n",
       " [471.516, 720.883],\n",
       " [471.516, 740.752],\n",
       " [471.516, 760.621],\n",
       " [471.516, 780.49],\n",
       " [471.516, 800.358],\n",
       " [491.385, 681.146],\n",
       " [491.385, 701.015],\n",
       " [491.385, 720.883],\n",
       " [491.385, 740.752],\n",
       " [491.385, 760.621],\n",
       " [491.385, 780.49],\n",
       " [491.385, 800.358],\n",
       " [511.253, 681.146],\n",
       " [511.253, 701.015],\n",
       " [511.253, 720.883],\n",
       " [511.253, 740.752],\n",
       " [511.253, 760.621],\n",
       " [511.253, 780.49],\n",
       " [511.253, 800.358],\n",
       " [531.122, 681.146],\n",
       " [531.122, 701.015],\n",
       " [531.122, 720.883],\n",
       " [531.122, 740.752],\n",
       " [531.122, 760.621],\n",
       " [531.122, 780.49],\n",
       " [531.122, 800.358],\n",
       " [550.991, 681.146],\n",
       " [550.991, 701.015],\n",
       " [550.991, 720.883],\n",
       " [550.991, 740.752],\n",
       " [550.991, 760.621],\n",
       " [550.991, 780.49],\n",
       " [550.991, 800.358],\n",
       " [570.86, 661.277],\n",
       " [570.86, 681.146],\n",
       " [570.86, 701.015],\n",
       " [570.86, 720.883],\n",
       " [570.86, 740.752],\n",
       " [570.86, 760.621],\n",
       " [570.86, 780.49],\n",
       " [570.86, 800.358],\n",
       " [590.728, 661.277],\n",
       " [590.728, 681.146],\n",
       " [590.728, 701.015],\n",
       " [590.728, 720.883],\n",
       " [590.728, 740.752],\n",
       " [590.728, 760.621],\n",
       " [590.728, 780.49],\n",
       " [590.728, 800.358],\n",
       " [610.597, 661.277],\n",
       " [610.597, 681.146],\n",
       " [610.597, 701.015],\n",
       " [610.597, 720.883],\n",
       " [610.597, 740.752],\n",
       " [610.597, 760.621],\n",
       " [610.597, 780.49],\n",
       " [610.597, 800.358],\n",
       " [630.466, 661.277],\n",
       " [630.466, 681.146],\n",
       " [630.466, 701.015],\n",
       " [630.466, 720.883],\n",
       " [630.466, 740.752],\n",
       " [630.466, 760.621],\n",
       " [630.466, 780.49],\n",
       " [630.466, 800.358],\n",
       " [650.335, 661.277],\n",
       " [650.335, 681.146],\n",
       " [650.335, 701.015],\n",
       " [650.335, 720.883],\n",
       " [650.335, 740.752],\n",
       " [650.335, 760.621],\n",
       " [650.335, 780.49],\n",
       " [650.335, 800.358],\n",
       " [670.203, 661.277],\n",
       " [670.203, 681.146],\n",
       " [670.203, 701.015],\n",
       " [670.203, 720.883],\n",
       " [670.203, 740.752],\n",
       " [670.203, 760.621],\n",
       " [670.203, 780.49],\n",
       " [670.203, 800.358],\n",
       " [690.072, 661.277],\n",
       " [690.072, 681.146],\n",
       " [690.072, 701.015],\n",
       " [690.072, 720.883],\n",
       " [690.072, 740.752],\n",
       " [690.072, 760.621],\n",
       " [690.072, 780.49],\n",
       " [690.072, 800.358],\n",
       " [709.941, 661.277],\n",
       " [709.941, 681.146],\n",
       " [709.941, 701.015],\n",
       " [709.941, 720.883],\n",
       " [709.941, 740.752],\n",
       " [709.941, 760.621],\n",
       " [709.941, 780.49],\n",
       " [709.941, 800.358],\n",
       " [729.81, 661.277],\n",
       " [729.81, 681.146],\n",
       " [729.81, 701.015],\n",
       " [729.81, 720.883],\n",
       " [729.81, 740.752],\n",
       " [729.81, 760.621],\n",
       " [729.81, 780.49],\n",
       " [729.81, 800.358],\n",
       " [749.678, 641.408],\n",
       " [749.678, 661.277],\n",
       " [749.678, 681.146],\n",
       " [749.678, 701.015],\n",
       " [749.678, 720.883],\n",
       " [749.678, 740.752],\n",
       " [749.678, 760.621],\n",
       " [749.678, 780.49],\n",
       " [749.678, 800.358],\n",
       " [769.547, 641.408],\n",
       " [769.547, 661.277],\n",
       " [769.547, 681.146],\n",
       " [769.547, 701.015],\n",
       " [769.547, 720.883],\n",
       " [769.547, 740.752],\n",
       " [769.547, 760.621],\n",
       " [769.547, 780.49],\n",
       " [769.547, 800.358],\n",
       " [789.416, 641.408],\n",
       " [789.416, 661.277],\n",
       " [789.416, 681.146],\n",
       " [809.284, 641.408],\n",
       " [809.284, 661.277],\n",
       " [809.284, 681.146],\n",
       " [829.153, 641.408],\n",
       " [829.153, 661.277],\n",
       " [829.153, 681.146],\n",
       " [849.022, 641.408],\n",
       " [849.022, 661.277],\n",
       " [849.022, 681.146]]"
      ]
     },
     "execution_count": 43,
     "metadata": {},
     "output_type": "execute_result"
    }
   ],
   "source": [
    "points = [[p.x, p.y] for p in valid_points]\n",
    "p_x, p_y = extract_x_y(points)\n",
    "points"
   ]
  },
  {
   "cell_type": "code",
   "execution_count": 44,
   "id": "92182fb7-fb11-451b-886d-4f83751c8e95",
   "metadata": {},
   "outputs": [
    {
     "data": {
      "text/plain": [
       "[<matplotlib.lines.Line2D at 0x14971d13350>]"
      ]
     },
     "execution_count": 44,
     "metadata": {},
     "output_type": "execute_result"
    },
    {
     "data": {
      "image/png": "[encoded data removed]",
      "text/plain": [
       "<Figure size 640x480 with 1 Axes>"
      ]
     },
     "metadata": {},
     "output_type": "display_data"
    }
   ],
   "source": [
    "plt.scatter(p_x,p_y)\n",
    "plt.plot(x,y)"
   ]
  },
  {
   "cell_type": "code",
   "execution_count": 45,
   "id": "a9a22a1e-68e8-4dcf-8713-de301729c8c9",
   "metadata": {},
   "outputs": [],
   "source": [
    "# find the equal distances on ridge side\n",
    "# find the bounding box \n",
    "# find the diagonal length of the bounding box\n",
    "# find the perpendicular lines to the ridge on each starting point of length of diagonal\n",
    "# divide the each line to equal parts of height of panel\n",
    "# take all these points and validate with roof_polygon\n",
    "diagonal = shapely.LineString([P2, P4])\n",
    "diag_len = diagonal.length\n",
    "ridge_line = shapely.LineString(ridge)"
   ]
  },
  {
   "cell_type": "code",
   "execution_count": 46,
   "id": "50a1b4e4-8348-4d7d-a215-dd214c821d5b",
   "metadata": {},
   "outputs": [],
   "source": [
    "panel_width = 60\n",
    "panel_height = 60\n",
    "points_on_ridge = get_points_at_eq_distance(ridge, panel_width)['points']\n"
   ]
  },
  {
   "cell_type": "code",
   "execution_count": 47,
   "id": "3ac37a42-1f18-4bd8-8ab1-774574fe03f7",
   "metadata": {},
   "outputs": [],
   "source": [
    "total_points = []\n",
    "for pt in points_on_ridge:\n",
    "    vertical_line_end = calc_perpendicular(ridge, pt, -diag_len)\n",
    "    vertical_line = [  vertical_line_end, pt ]\n",
    "    vertical_pts = get_points_at_eq_distance(vertical_line, panel_height)['points']\n",
    "    total_points.extend(vertical_pts)\n"
   ]
  },
  {
   "cell_type": "code",
   "execution_count": 48,
   "id": "0b17afef-5f22-4101-8dae-95de1cc3f744",
   "metadata": {},
   "outputs": [],
   "source": [
    "# total_points.extend(points_on_ridge)"
   ]
  },
  {
   "cell_type": "code",
   "execution_count": 49,
   "id": "3bd00f1f-6a6d-4549-9147-20d8bb28d7c6",
   "metadata": {},
   "outputs": [],
   "source": [
    "pt_x, pt_y = extract_x_y(total_points)"
   ]
  },
  {
   "cell_type": "code",
   "execution_count": 50,
   "id": "c18e5507-f13e-4e56-9ee8-a25b9d984572",
   "metadata": {},
   "outputs": [
    {
     "data": {
      "text/plain": [
       "[<matplotlib.lines.Line2D at 0x14971d79b80>]"
      ]
     },
     "execution_count": 50,
     "metadata": {},
     "output_type": "execute_result"
    },
    {
     "data": {
      "image/png": "[encoded data removed]",
      "text/plain": [
       "<Figure size 640x480 with 1 Axes>"
      ]
     },
     "metadata": {},
     "output_type": "display_data"
    }
   ],
   "source": [
    "plt.scatter(pt_x, pt_y)\n",
    "plt.plot(x,y)"
   ]
  },
  {
   "cell_type": "code",
   "execution_count": 51,
   "id": "c6e51250-be57-4ca1-b958-4ee5c29f9e1f",
   "metadata": {},
   "outputs": [],
   "source": [
    "prep_polygon = prep(polygon)"
   ]
  },
  {
   "cell_type": "code",
   "execution_count": 52,
   "id": "764a8bda-a7bb-4d30-a6c2-943f91971788",
   "metadata": {},
   "outputs": [],
   "source": [
    "points = [shapely.Point(p) for p in total_points]"
   ]
  },
  {
   "cell_type": "code",
   "execution_count": 53,
   "id": "01a710fd-f6c1-4003-b8e6-07a9bdafccf7",
   "metadata": {},
   "outputs": [],
   "source": [
    "valid_points = []\n",
    "# # # the prepared polygon\n",
    "valid_points.extend(filter(prep_polygon.contains, points))"
   ]
  },
  {
   "cell_type": "code",
   "execution_count": 54,
   "id": "c9b9adde-cbdd-4fa1-9b0d-03d9b987e0c3",
   "metadata": {},
   "outputs": [
    {
     "data": {
      "text/plain": [
       "<bound method PreparedGeometry.contains of <shapely.prepared.PreparedGeometry object at 0x0000014971CDB380>>"
      ]
     },
     "execution_count": 54,
     "metadata": {},
     "output_type": "execute_result"
    }
   ],
   "source": [
    "prep_polygon.contains"
   ]
  },
  {
   "cell_type": "code",
   "execution_count": 55,
   "id": "23f2f5ff-6f63-4349-b47d-c88af6011069",
   "metadata": {},
   "outputs": [],
   "source": [
    "pts_x, pts_y = extract_x_y([(p.x, p.y) for p in valid_points])"
   ]
  },
  {
   "cell_type": "code",
   "execution_count": 56,
   "id": "1284bbfa-8e3c-4a55-bf50-e36c242f6c37",
   "metadata": {},
   "outputs": [
    {
     "data": {
      "text/plain": [
       "[<matplotlib.lines.Line2D at 0x14971de0ec0>]"
      ]
     },
     "execution_count": 56,
     "metadata": {},
     "output_type": "execute_result"
    },
    {
     "data": {
      "image/png": "[encoded data removed]",
      "text/plain": [
       "<Figure size 640x480 with 1 Axes>"
      ]
     },
     "metadata": {},
     "output_type": "display_data"
    }
   ],
   "source": [
    "plt.scatter(pts_x, pts_y)\n",
    "plt.plot(x,y)"
   ]
  },
  {
   "cell_type": "code",
   "execution_count": 57,
   "id": "b1a21ca7-7e4f-49ac-ad9d-a8070c1a5708",
   "metadata": {},
   "outputs": [
    {
     "data": {
      "text/plain": [
       "(array('d', [456.1106376308264, 431.7785269008154, 862.0167691660627, 886.3488798960739, 456.1106376308264]),\n",
       " array('d', [862.5369156064284, 651.2080279698515, 601.671002207968, 812.9998898445448, 862.5369156064284]))"
      ]
     },
     "execution_count": 57,
     "metadata": {},
     "output_type": "execute_result"
    }
   ],
   "source": [
    "# find the side of the bounding box which will be on the ridge side\n",
    "rotated_boundary = lt_rotated.boundary.coords.xy\n",
    "rotated_boundary"
   ]
  },
  {
   "cell_type": "code",
   "execution_count": null,
   "id": "ef10e024",
   "metadata": {},
   "outputs": [],
   "source": []
  },
  {
   "cell_type": "code",
   "execution_count": null,
   "id": "886283a3",
   "metadata": {},
   "outputs": [],
   "source": []
  }
 ],
 "metadata": {
  "kernelspec": {
   "display_name": "Python 3 (ipykernel)",
   "language": "python",
   "name": "python3"
  },
  "language_info": {
   "codemirror_mode": {
    "name": "ipython",
    "version": 3
   },
   "file_extension": ".py",
   "mimetype": "text/x-python",
   "name": "python",
   "nbconvert_exporter": "python",
   "pygments_lexer": "ipython3",
   "version": "3.12.8"
  }
 },
 "nbformat": 4,
 "nbformat_minor": 5
}
