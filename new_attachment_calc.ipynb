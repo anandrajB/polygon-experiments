{
 "cells": [
  {
   "cell_type": "code",
   "execution_count": 28,
   "id": "6cf99061-07eb-4848-819a-e968b6be1bda",
   "metadata": {},
   "outputs": [],
   "source": [
    "import numpy as np\n",
    "from shapely import Polygon, Point"
   ]
  },
  {
   "cell_type": "code",
   "execution_count": null,
   "id": "22d7ed09-3ea7-42ff-93f6-f1d9bfb97755",
   "metadata": {},
   "outputs": [],
   "source": []
  },
  {
   "cell_type": "markdown",
   "id": "fab171c4-e883-43f5-ba12-3955bf766d6e",
   "metadata": {},
   "source": [
    "From the understanding, the attachment is the intersection of the rail and rafter. \n",
    "\n",
    "1. first construct the rails\n",
    "2. find the intersections of rail "
   ]
  },
  {
   "cell_type": "code",
   "execution_count": 29,
   "id": "5092037c-0cc1-4442-a9e4-29b427709e3a",
   "metadata": {},
   "outputs": [],
   "source": [
    "{\n",
    "    \"roof_pts\": [\n",
    "        {\n",
    "            \"x\": 919.5159405421109,\n",
    "            \"y\": 914.1873642106711\n",
    "        },\n",
    "        { \n",
    "            \"x\": 666.7406365581767,\n",
    "            \"y\": 752.3312407110769\n",
    "        },\n",
    "        {\n",
    "            \"x\": 610.7903716447368,\n",
    "            \"y\": 508.5479435882313\n",
    "        },\n",
    "        {\n",
    "            \"x\": 651.7539584563624,\n",
    "            \"y\": 487.5665942456913\n",
    "        },\n",
    "        {\n",
    "            \"x\": 766.6518239036053,\n",
    "            \"y\": 287.7442195548342\n",
    "        },\n",
    "        {\n",
    "            \"x\": 919.5159405421109,\n",
    "            \"y\": 914.1873642106711\n",
    "        }\n",
    "    ],\n",
    "    \"ridge_pts\": [\n",
    "        [\n",
    "            666.7406365581767,\n",
    "            752.3312407110769\n",
    "        ],\n",
    "        [\n",
    "            610.7903716447368,\n",
    "            508.5479435882313\n",
    "        ]\n",
    "    ],\n",
    "    \"eve_pts\": [\n",
    "        [\n",
    "            766.6518239036053,\n",
    "            287.7442195548342\n",
    "        ],\n",
    "        [\n",
    "            919.5159405421109,\n",
    "            914.1873642106711\n",
    "        ]\n",
    "    ],\n",
    "    \"firesetback_distance\": 20,\n",
    "    \"module_height\": 67.72,\n",
    "    \"module_width\": 44.64\n",
    "}\n",
    "\n",
    "roof = [\n",
    "        {\n",
    "            \"x\": 919.5159405421109,\n",
    "            \"y\": 914.1873642106711\n",
    "        },\n",
    "        {\n",
    "            \"x\": 666.7406365581767,\n",
    "            \"y\": 752.3312407110769\n",
    "        },\n",
    "        {\n",
    "            \"x\": 610.7903716447368,\n",
    "            \"y\": 508.5479435882313\n",
    "        },\n",
    "        {\n",
    "            \"x\": 651.7539584563624,\n",
    "            \"y\": 487.5665942456913\n",
    "        },\n",
    "        {\n",
    "            \"x\": 766.6518239036053,\n",
    "            \"y\": 287.7442195548342\n",
    "        },\n",
    "        {\n",
    "            \"x\": 919.5159405421109,\n",
    "            \"y\": 914.1873642106711\n",
    "        }\n",
    "    ]\n",
    "ridge_pts =[\n",
    "        [\n",
    "            666.7406365581767,\n",
    "            752.3312407110769\n",
    "        ],\n",
    "        [\n",
    "            610.7903716447368,\n",
    "            508.5479435882313\n",
    "        ]\n",
    "    ]\n",
    "eve_pts = [\n",
    "        [\n",
    "            766.6518239036053,\n",
    "            287.7442195548342\n",
    "        ],\n",
    "        [\n",
    "            919.5159405421109,\n",
    "            914.1873642106711\n",
    "        ]\n",
    "    ]"
   ]
  },
  {
   "cell_type": "code",
   "execution_count": 30,
   "id": "47b6caac-8230-4d26-8159-3620d391d9af",
   "metadata": {},
   "outputs": [
    {
     "data": {
      "image/svg+xml": [
       "<svg xmlns=\"http://www.w3.org/2000/svg\" xmlns:xlink=\"http://www.w3.org/1999/xlink\" width=\"296.8312718280006\" height=\"300\" viewBox=\"612.5919039756448 319.87394394898547 296.8312718280006 571.7183502432492\" preserveAspectRatio=\"xMinYMin meet\"><g transform=\"matrix(1,0,0,-1,0,1211.4662381412202)\"><path fill-rule=\"evenodd\" fill=\"#66cc99\" stroke=\"#555555\" stroke-width=\"3.8114556682883283\" opacity=\"0.6\" d=\"M 888.2484220909324,870.4175404795218 L 759.072292982277,341.0486976616984 L 669.0920845175131,497.53601673085296 L 668.0574173188166,499.15094701657415 L 666.8728179676231,500.6593436543817 L 665.5491804424474,502.0473349157895 L 664.0986773641397,503.30215636110256 L 662.5346480523234,504.4122682255456 L 660.8714758524756,505.3674615428646 L 633.7666576883577,519.2504171879007 L 684.4061798329747,739.8940493894461 L 888.2484220909324,870.4175404795218 z\" /></g></svg>"
      ],
      "text/plain": [
       "<POLYGON ((888.248 870.418, 759.072 341.049, 669.092 497.536, 668.057 499.15...>"
      ]
     },
     "execution_count": 30,
     "metadata": {},
     "output_type": "execute_result"
    }
   ],
   "source": [
    "roof_pts = [(pt['x'],pt['y']) for pt in roof]\n",
    "poly = Polygon(roof_pts)\n",
    "\n",
    "\n",
    "ds = poly.buffer(-20 , join_style='round', cap_style='round')\n",
    "\n",
    "ds"
   ]
  },
  {
   "cell_type": "code",
   "execution_count": 31,
   "id": "883280d0-4578-4054-afee-ff881cea2dec",
   "metadata": {},
   "outputs": [],
   "source": [
    "pitch = 20"
   ]
  },
  {
   "cell_type": "code",
   "execution_count": 32,
   "id": "7d475675-5033-462e-a741-6c7c553c4909",
   "metadata": {},
   "outputs": [],
   "source": [
    "import math\n",
    "import numpy as np"
   ]
  },
  {
   "cell_type": "code",
   "execution_count": 33,
   "id": "9a73e67c-61dc-41ec-9802-2352ba5664a5",
   "metadata": {},
   "outputs": [
    {
     "name": "stdout",
     "output_type": "stream",
     "text": [
      "9.263462803163998\n"
     ]
    }
   ],
   "source": [
    "portrait_dist = math.cos(pitch)*22.7\n",
    "landscape_dist = math.cos(pitch)*9.8\n",
    "\n",
    "print(portrait_dist)\n",
    "MODULE_HEIGHT = 67.72\n",
    "MODULE_WIDTH = 44.64"
   ]
  },
  {
   "cell_type": "code",
   "execution_count": 34,
   "id": "b43db2c6-3b64-4083-ba49-c333339cc2ae",
   "metadata": {},
   "outputs": [
    {
     "data": {
      "text/plain": [
       "np.float64(9.108391619674908)"
      ]
     },
     "execution_count": 34,
     "metadata": {},
     "output_type": "execute_result"
    }
   ],
   "source": [
    "np.cos(pitch)*MODULE_WIDTH /2 "
   ]
  }
 ],
 "metadata": {
  "kernelspec": {
   "display_name": "Python 3",
   "language": "python",
   "name": "python3"
  },
  "language_info": {
   "codemirror_mode": {
    "name": "ipython",
    "version": 3
   },
   "file_extension": ".py",
   "mimetype": "text/x-python",
   "name": "python",
   "nbconvert_exporter": "python",
   "pygments_lexer": "ipython3",
   "version": "3.12.0"
  }
 },
 "nbformat": 4,
 "nbformat_minor": 5
}
